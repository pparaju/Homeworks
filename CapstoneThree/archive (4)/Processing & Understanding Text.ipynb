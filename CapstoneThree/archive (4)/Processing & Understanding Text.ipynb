{
 "cells": [
  {
   "cell_type": "markdown",
   "id": "3245c352-4732-4b6f-b208-8f95525b3969",
   "metadata": {},
   "source": [
    "# Introduction"
   ]
  },
  {
   "cell_type": "markdown",
   "id": "9c4d7ba5-fb06-4aeb-8843-6b9483899ac3",
   "metadata": {},
   "source": [
    "Unstructured data, especially text, images and videos contain a wealth of information. However, due to the inherent complexity in processing and analyzing this data, people often refrain from spending extra time and effort in venturing out from structured datasets to analyze these unstructured sources of data, which can be a potential gold mine."
   ]
  },
  {
   "cell_type": "markdown",
   "id": "eb645dbe-ee92-40b4-b383-37b421b3d219",
   "metadata": {},
   "source": [
    "Natural Language Processing (NLP) is all about leveraging tools, techniques and algorithms to process and understand natural language-based data, which is usually unstructured like text, speech and so on. In this series of articles, we will be looking at tried and tested strategies, techniques and workflows which can be leveraged by practitioners and data scientists to extract useful insights from text data. We will also cover some useful and interesting use-cases for NLP. This article will be all about processing and understanding text data with tutorials and hands-on examples."
   ]
  },
  {
   "cell_type": "markdown",
   "id": "26c798ad-5012-42b3-80ba-026ba0bcea26",
   "metadata": {},
   "source": [
    "# Outline for this Series"
   ]
  },
  {
   "cell_type": "markdown",
   "id": "9763605c-5271-4ef6-9844-236b735b52f6",
   "metadata": {},
   "source": [
    "The nature of this series will be a mix of theoretical concepts but with a focus on hands-on techniques and strategies covering a wide variety of NLP problems. Some of the major areas that we will be covering in this series of articles include the following."
   ]
  },
  {
   "cell_type": "markdown",
   "id": "51bd171b-6f54-43db-86eb-88af4802e896",
   "metadata": {},
   "source": [
    "* **Processing & Understanding Text**\n",
    "* **Feature Engineering & Text Representation**\n",
    "* **Supervised Learning Models for Text Data**\n",
    "* **Unsupervised Learning Models for Text Data**\n",
    "* **Advanced Topics**"
   ]
  },
  {
   "cell_type": "markdown",
   "id": "bec99648-5805-4e34-a13f-cf52e3e552e3",
   "metadata": {},
   "source": [
    "# What this article covers"
   ]
  },
  {
   "cell_type": "markdown",
   "id": "928f6837-ae51-48fa-9adf-0ead0bd677af",
   "metadata": {},
   "source": [
    "This article will be covering the following aspects of NLP in detail with hands-on examples."
   ]
  },
  {
   "cell_type": "markdown",
   "id": "c2ba83a4-b2e8-45d3-a910-3dac82900c37",
   "metadata": {},
   "source": [
    "* **Data Retrieval with Web Scraping**\n",
    "* **Text wrangling and pre-processing**\n",
    "* **Parts of Speech Tagging**\n",
    "* **Shallow Parsing**\n",
    "* **Constituency and Dependency Parsing**\n",
    "* **Named Entity Recognition**\n",
    "* **Emotion and Sentiment Analysis**"
   ]
  },
  {
   "cell_type": "markdown",
   "id": "e73e61ea-0cd1-472a-baf3-800c82bfb90d",
   "metadata": {},
   "source": [
    "This should give us a good idea of how to get started with analyzing syntax and semantics in text corpora."
   ]
  },
  {
   "cell_type": "markdown",
   "id": "ac0c0d53-6c80-4945-bf75-2fd428c81816",
   "metadata": {},
   "source": [
    "# Motivation"
   ]
  },
  {
   "cell_type": "markdown",
   "id": "62de5109-b5f3-4955-8238-f5c6006f6f86",
   "metadata": {},
   "source": [
    "Formally, NLP is a specialized field of computer science and artificial intelligence with roots in computational linguistics. It is primarily concerned with designing and building applications and systems that enable interaction between machines and natural languages that have been evolved for use by humans. Hence, often it is perceived as a niche area to work on. And people usually tend to focus more on machine learning or statistical learning."
   ]
  },
  {
   "cell_type": "markdown",
   "id": "99b0f265-9b6c-4f3f-ac26-da4e5e33ac8c",
   "metadata": {},
   "source": [
    "# Getting Started"
   ]
  },
  {
   "cell_type": "markdown",
   "id": "a638fa2b-eae1-428e-91d9-d940dfbc7351",
   "metadata": {},
   "source": [
    "## Standard NLP Workflow"
   ]
  },
  {
   "cell_type": "markdown",
   "id": "aaedd2e5-0c16-45c8-bf27-bd593369eec1",
   "metadata": {},
   "source": [
    "Typically, any NLP-based problem can be solved by a methodical workflow that has a sequence of steps. We usually start with a corpus of text documents and follow standard processes of text wrangling and pre-processing, parsing and basic exploratory data analysis. Based on the initial insights, we usually represent the text using relevant feature engineering techniques. Depending on the problem at hand, we either focus on building predictive supervised models or unsupervised models, which usually focus more on pattern mining and grouping. Finally, we evaluate the model and the overall success criteria with relevant stakeholders or customers, and deploy the final model for future usage."
   ]
  },
  {
   "cell_type": "code",
   "execution_count": 1,
   "id": "0088b076-a641-403a-b39a-2edf35aaa93f",
   "metadata": {},
   "outputs": [],
   "source": [
    "import pandas as pd\n",
    "import requests\n",
    "import re\n",
    "from bs4 import BeautifulSoup\n",
    "import nltk\n",
    "from nltk.corpus import gutenberg\n",
    "from pprint import pprint\n",
    "import numpy as np\n",
    "import unicodedata\n",
    "from nltk.tokenize.toktok import ToktokTokenizer\n",
    "import spacy\n",
    "import random\n",
    "from nltk.corpus import conll2000\n",
    "from nltk.chunk.util import tree2conlltags, conlltags2tree\n",
    "from nltk.tag import UnigramTagger, BigramTagger\n",
    "from nltk.chunk import ChunkParserI\n",
    "import os\n",
    "from IPython.display import display\n",
    "from nltk.tokenize import word_tokenize\n",
    "from nltk.stem import WordNetLemmatizer\n",
    "from nltk.corpus import wordnet\n",
    "from nltk.parse.stanford import StanfordParser\n",
    "import warnings\n",
    "warnings.filterwarnings(\"ignore\", category=DeprecationWarning)\n",
    "from spacy import displacy\n",
    "from nltk.parse.stanford import StanfordDependencyParser\n",
    "from nltk.tag import StanfordNERTagger\n",
    "import matplotlib.pyplot as plt\n",
    "import seaborn as sns\n",
    "from IPython.display import display\n",
    "from afinn import Afinn\n",
    "from sklearn.metrics import confusion_matrix\n",
    "from graphviz import Source\n",
    "from textblob import TextBlob"
   ]
  },
  {
   "cell_type": "markdown",
   "id": "d1db7bdd-424d-4674-bca0-4b4b6860de5c",
   "metadata": {},
   "source": [
    "# Scraping web for Data Retrieval"
   ]
  },
  {
   "cell_type": "code",
   "execution_count": 2,
   "id": "79553c79-65f6-429f-9e02-8f14dd9a9dd3",
   "metadata": {},
   "outputs": [
    {
     "name": "stdout",
     "output_type": "stream",
     "text": [
      "b'gin-top: 0;\\r\\n    margin-bottom: 0;\\r\\n}\\r\\n#pg-header #pg-machine-header strong {\\r\\n    font-weight: normal;\\r\\n}\\r\\n#pg-header #pg-start-separator, #pg-footer #pg-end-separator {\\r\\n    margin-bottom: 3em;\\r\\n    margin-left: 0;\\r\\n    margin-right: auto;\\r\\n    margin-top: 2em;\\r\\n    text-align: center\\r\\n}\\r\\n\\r\\n    .xhtml_center {text-align: center; display: block;}\\r\\n    .xhtml_center table {\\r\\n        display: table;\\r\\n        text-align: left;\\r\\n        margin-left: auto;\\r\\n        margin-right: auto;\\r\\n        }</style><title>The Project Gutenberg eBook of The Bible, King James version, Book 1: Genesis, by Anonymous</title><style>/* ************************************************************************\\r\\n * classless css copied from https://www.pgdp.net/wiki/CSS_Cookbook/Styles\\r\\n * ********************************************************************** */\\r\\n/* ************************************************************************\\r\\n * set the body margins to allow whitespace along sides of window\\r\\n * ******************************************'\n"
     ]
    }
   ],
   "source": [
    "data = requests.get('http://www.gutenberg.org/cache/epub/8001/pg8001.html')\n",
    "content = data.content\n",
    "print(content[1163:2200])"
   ]
  },
  {
   "cell_type": "code",
   "execution_count": 3,
   "id": "934fe368-f506-4908-a4e0-b2cf98148441",
   "metadata": {},
   "outputs": [
    {
     "data": {
      "text/plain": [
       "bytes"
      ]
     },
     "execution_count": 3,
     "metadata": {},
     "output_type": "execute_result"
    }
   ],
   "source": [
    "type(content)"
   ]
  },
  {
   "cell_type": "markdown",
   "id": "12621d4c-c4c7-4d13-9057-58a30fb3ddec",
   "metadata": {},
   "source": [
    "# Text Wrangling & Pre-processing"
   ]
  },
  {
   "cell_type": "markdown",
   "id": "bf169e85-84c4-4784-9001-50174681ec9e",
   "metadata": {},
   "source": [
    "There are usually multiple steps involved in cleaning and pre-processing textual data. In this section, we will highlight some of the most important steps which are used heavily in Natural Language Processing (NLP) pipelines. We will be leveraging a fair bit of nltk and spacy, both state-of-the-art libraries in NLP. "
   ]
  },
  {
   "cell_type": "markdown",
   "id": "bb447603-6204-4d5e-8c0f-e7f4db07596e",
   "metadata": {},
   "source": [
    "## Removing HTML tags"
   ]
  },
  {
   "cell_type": "markdown",
   "id": "66390235-a001-422e-a811-8872ee155015",
   "metadata": {},
   "source": [
    "Often, unstructured text contains a lot of noise, especially if you use techniques like web or screen scraping. HTML tags are typically one of these components which don’t add much value towards understanding and analyzing text."
   ]
  },
  {
   "cell_type": "code",
   "execution_count": 4,
   "id": "277a0eeb-0e20-43e7-be50-7f64f019fa24",
   "metadata": {},
   "outputs": [
    {
     "name": "stdout",
     "output_type": "stream",
     "text": [
      "aylor in November 2002.\n",
      "Book 01        Genesis\n",
      "01:001:001 In the beginning God created the heaven and the earth.\n",
      "01:001:002 And the earth was without form, and void; and darkness was\n",
      "           upon the face of the deep. And the Spirit of God moved upon\n",
      "           the face of the waters.\n",
      "01:001:003 And God said, Let there be light: and there was light.\n",
      "01:001:004 And God saw the light, that it was good: and God divided the\n",
      "           light from the darkness.\n",
      "01:001:005 And God called the light Day, and the darkness he called\n",
      "           Night. And the evening and the morning were the first day.\n",
      "01:001:006 And God said, Let there be a firmament in the midst of the\n",
      "           waters, and let it divide the waters from the waters.\n",
      "01:001:007 And God made the firmament, and divided the waters which were\n",
      "           under the firmament from the waters which were above the\n",
      "     \n"
     ]
    }
   ],
   "source": [
    "def strip_html_tags(text):\n",
    "    soup = BeautifulSoup(text, \"html.parser\")\n",
    "    [s.extract() for s in soup(['iframe', 'script'])]\n",
    "    stripped_text = soup.get_text()\n",
    "    stripped_text = re.sub(r'[\\r|\\n|\\r\\n]+', '\\n', stripped_text)\n",
    "    return stripped_text\n",
    "clean_content = strip_html_tags(content)\n",
    "print(clean_content[1163:2045])"
   ]
  },
  {
   "cell_type": "markdown",
   "id": "79aea9c5-a202-4901-83cd-9d9b9a58fd87",
   "metadata": {},
   "source": [
    "It is quite evident from the above output that we can remove unnecessary HTML tags and retain the useful textual information from any document."
   ]
  },
  {
   "cell_type": "markdown",
   "id": "eaf798aa-46f4-4576-ae61-643ab97b1b3b",
   "metadata": {},
   "source": [
    "## Removing accented characters"
   ]
  },
  {
   "cell_type": "markdown",
   "id": "36323ca3-284a-4db2-93f0-d8e33b07aa20",
   "metadata": {},
   "source": [
    "Usually in any text corpus, we might be dealing with accented characters/letters, especially if you only want to analyze the English language. Hence, we need to make sure that these characters are converted and standardized into ASCII characters. A simple example — converting é to e."
   ]
  },
  {
   "cell_type": "code",
   "execution_count": 5,
   "id": "cccbd3dc-c9a8-4d1e-b60d-a331abae6fdf",
   "metadata": {},
   "outputs": [
    {
     "data": {
      "text/plain": [
       "'Some Accented text'"
      ]
     },
     "execution_count": 5,
     "metadata": {},
     "output_type": "execute_result"
    }
   ],
   "source": [
    "def remove_accented_chars(text):\n",
    "    text = unicodedata.normalize('NFKD', text).encode('ascii', 'ignore').decode('utf-8', 'ignore')\n",
    "    return text\n",
    "\n",
    "remove_accented_chars('Sómě Áccěntěd těxt')"
   ]
  },
  {
   "cell_type": "markdown",
   "id": "b2ce948e-a026-479a-be4f-b4603e8dbb44",
   "metadata": {},
   "source": [
    "The preceding function shows us how we can easily convert accented characters to normal English characters, which helps standardize the words in our corpus."
   ]
  },
  {
   "cell_type": "markdown",
   "id": "0f8329b8-f7d3-47da-99a0-9e53ea2ed56f",
   "metadata": {},
   "source": [
    "## Expanding Contractions"
   ]
  },
  {
   "cell_type": "markdown",
   "id": "eb327cf9-3de4-4fa5-8e41-2b4c9e844133",
   "metadata": {},
   "source": [
    "Contractions are shortened version of words or syllables. They often exist in either written or spoken forms in the English language. These shortened versions or contractions of words are created by removing specific letters and sounds. In case of English contractions, they are often created by removing one of the vowels from the word. Examples would be, do not to don’t and I would to I’d. Converting each contraction to its expanded, original form helps with text standardization."
   ]
  },
  {
   "cell_type": "code",
   "execution_count": 6,
   "id": "3cf967a0-6a5a-45b9-806b-8e81e23831aa",
   "metadata": {},
   "outputs": [],
   "source": [
    "CONTRACTION_MAP = {\n",
    "\"ain't\": \"is not\",\n",
    "\"aren't\": \"are not\",\n",
    "\"can't\": \"cannot\",\n",
    "\"can't've\": \"cannot have\",\n",
    "\"'cause\": \"because\",\n",
    "\"could've\": \"could have\",\n",
    "\"couldn't\": \"could not\",\n",
    "\"couldn't've\": \"could not have\",\n",
    "\"didn't\": \"did not\",\n",
    "\"doesn't\": \"does not\",\n",
    "\"don't\": \"do not\",\n",
    "\"hadn't\": \"had not\",\n",
    "\"hadn't've\": \"had not have\",\n",
    "\"hasn't\": \"has not\",\n",
    "\"haven't\": \"have not\",\n",
    "\"he'd\": \"he would\",\n",
    "\"he'd've\": \"he would have\",\n",
    "\"he'll\": \"he will\",\n",
    "\"he'll've\": \"he will have\",\n",
    "\"he's\": \"he is\",\n",
    "\"how'd\": \"how did\",\n",
    "\"how'd'y\": \"how do you\",\n",
    "\"how'll\": \"how will\",\n",
    "\"how's\": \"how is\",\n",
    "\"I'd\": \"I would\",\n",
    "\"I'd've\": \"I would have\",\n",
    "\"I'll\": \"I will\",\n",
    "\"I'll've\": \"I will have\",\n",
    "\"I'm\": \"I am\",\n",
    "\"I've\": \"I have\",\n",
    "\"i'd\": \"i would\",\n",
    "\"i'd've\": \"i would have\",\n",
    "\"i'll\": \"i will\",\n",
    "\"i'll've\": \"i will have\",\n",
    "\"i'm\": \"i am\",\n",
    "\"i've\": \"i have\",\n",
    "\"isn't\": \"is not\",\n",
    "\"it'd\": \"it would\",\n",
    "\"it'd've\": \"it would have\",\n",
    "\"it'll\": \"it will\",\n",
    "\"it'll've\": \"it will have\",\n",
    "\"it's\": \"it is\",\n",
    "\"let's\": \"let us\",\n",
    "\"ma'am\": \"madam\",\n",
    "\"mayn't\": \"may not\",\n",
    "\"might've\": \"might have\",\n",
    "\"mightn't\": \"might not\",\n",
    "\"mightn't've\": \"might not have\",\n",
    "\"must've\": \"must have\",\n",
    "\"mustn't\": \"must not\",\n",
    "\"mustn't've\": \"must not have\",\n",
    "\"needn't\": \"need not\",\n",
    "\"needn't've\": \"need not have\",\n",
    "\"o'clock\": \"of the clock\",\n",
    "\"oughtn't\": \"ought not\",\n",
    "\"oughtn't've\": \"ought not have\",\n",
    "\"shan't\": \"shall not\",\n",
    "\"sha'n't\": \"shall not\",\n",
    "\"shan't've\": \"shall not have\",\n",
    "\"she'd\": \"she would\",\n",
    "\"she'd've\": \"she would have\",\n",
    "\"she'll\": \"she will\",\n",
    "\"she'll've\": \"she will have\",\n",
    "\"she's\": \"she is\",\n",
    "\"should've\": \"should have\",\n",
    "\"shouldn't\": \"should not\",\n",
    "\"shouldn't've\": \"should not have\",\n",
    "\"so've\": \"so have\",\n",
    "\"so's\": \"so as\",\n",
    "\"that'd\": \"that would\",\n",
    "\"that'd've\": \"that would have\",\n",
    "\"that's\": \"that is\",\n",
    "\"there'd\": \"there would\",\n",
    "\"there'd've\": \"there would have\",\n",
    "\"there's\": \"there is\",\n",
    "\"they'd\": \"they would\",\n",
    "\"they'd've\": \"they would have\",\n",
    "\"they'll\": \"they will\",\n",
    "\"they'll've\": \"they will have\",\n",
    "\"they're\": \"they are\",\n",
    "\"they've\": \"they have\",\n",
    "\"to've\": \"to have\",\n",
    "\"wasn't\": \"was not\",\n",
    "\"we'd\": \"we would\",\n",
    "\"we'd've\": \"we would have\",\n",
    "\"we'll\": \"we will\",\n",
    "\"we'll've\": \"we will have\",\n",
    "\"we're\": \"we are\",\n",
    "\"we've\": \"we have\",\n",
    "\"weren't\": \"were not\",\n",
    "\"what'll\": \"what will\",\n",
    "\"what'll've\": \"what will have\",\n",
    "\"what're\": \"what are\",\n",
    "\"what's\": \"what is\",\n",
    "\"what've\": \"what have\",\n",
    "\"when's\": \"when is\",\n",
    "\"when've\": \"when have\",\n",
    "\"where'd\": \"where did\",\n",
    "\"where's\": \"where is\",\n",
    "\"where've\": \"where have\",\n",
    "\"who'll\": \"who will\",\n",
    "\"who'll've\": \"who will have\",\n",
    "\"who's\": \"who is\",\n",
    "\"who've\": \"who have\",\n",
    "\"why's\": \"why is\",\n",
    "\"why've\": \"why have\",\n",
    "\"will've\": \"will have\",\n",
    "\"won't\": \"will not\",\n",
    "\"won't've\": \"will not have\",\n",
    "\"would've\": \"would have\",\n",
    "\"wouldn't\": \"would not\",\n",
    "\"wouldn't've\": \"would not have\",\n",
    "\"y'all\": \"you all\",\n",
    "\"y'all'd\": \"you all would\",\n",
    "\"y'all'd've\": \"you all would have\",\n",
    "\"y'all're\": \"you all are\",\n",
    "\"y'all've\": \"you all have\",\n",
    "\"you'd\": \"you would\",\n",
    "\"you'd've\": \"you would have\",\n",
    "\"you'll\": \"you will\",\n",
    "\"you'll've\": \"you will have\",\n",
    "\"you're\": \"you are\",\n",
    "\"you've\": \"you have\"\n",
    "}"
   ]
  },
  {
   "cell_type": "code",
   "execution_count": 7,
   "id": "8bf936d5-876e-4547-93a8-be80d9a5bb4e",
   "metadata": {},
   "outputs": [
    {
     "data": {
      "text/plain": [
       "'You all cannot expand contractions I would think'"
      ]
     },
     "execution_count": 7,
     "metadata": {},
     "output_type": "execute_result"
    }
   ],
   "source": [
    "def expand_contractions(text, contraction_mapping=CONTRACTION_MAP):\n",
    "    \n",
    "    contractions_pattern = re.compile('({})'.format('|'.join(contraction_mapping.keys())), \n",
    "                                      flags=re.IGNORECASE|re.DOTALL) \n",
    "                                                                    # This pattern matches any contraction found in the \n",
    "                                                                    # contraction_mapping dictionary\n",
    "    def expand_match(contraction): \n",
    "        #  helper function that is applied whenever a contraction is found in the text\n",
    "        match = contraction.group(0) # captures the full contraction that was found\n",
    "        first_char = match[0] # stores the first character of the contraction, to handle the case \n",
    "                                # where the contraction starts with an uppercase letter\n",
    "        expanded_contraction = contraction_mapping.get(match) if contraction_mapping.get(match) else contraction_mapping.get(match.lower())                       \n",
    "        expanded_contraction = first_char+expanded_contraction[1:]\n",
    "        return expanded_contraction\n",
    "        \n",
    "    expanded_text = contractions_pattern.sub(expand_match, text) #Here, sub() searches the text for matches based on the regular expression\n",
    "                                                                #(contractions_pattern). Whenever a contraction is found, expand_match is \n",
    "                                                                # called, and the match object representing the contraction is passed as \n",
    "                                                                # an argument to expand_match.\n",
    "    expanded_text = re.sub(\"'\", \"\", expanded_text)\n",
    "    return expanded_text\n",
    "\n",
    "expand_contractions(\"Y'all can't expand contractions I'd think\")"
   ]
  },
  {
   "cell_type": "markdown",
   "id": "4cb22f9d-7927-44e8-9d37-af76be335ee0",
   "metadata": {},
   "source": [
    "We can see how our function helps expand the contractions from the preceding output. Are there better ways of doing this? Definitely! If we have enough examples, we can even train a deep learning model for better performance."
   ]
  },
  {
   "cell_type": "markdown",
   "id": "31563be3-993c-413d-9d85-4a6d9c50cca5",
   "metadata": {},
   "source": [
    "## Removing Special Characters"
   ]
  },
  {
   "cell_type": "markdown",
   "id": "8df895e8-eaaa-4ff3-bce7-dbe9c0df92fc",
   "metadata": {},
   "source": [
    "Special characters and symbols are usually non-alphanumeric characters or even occasionally numeric characters (depending on the problem), which add to the extra noise in unstructured text. Usually, simple regular expressions (regexes) can be used to remove them."
   ]
  },
  {
   "cell_type": "code",
   "execution_count": 8,
   "id": "2cec457e-2689-4ac4-b8cc-6a4b4ce42357",
   "metadata": {},
   "outputs": [
    {
     "data": {
      "text/plain": [
       "'Well this was fun What do you think '"
      ]
     },
     "execution_count": 8,
     "metadata": {},
     "output_type": "execute_result"
    }
   ],
   "source": [
    "def remove_special_characters(text, remove_digits=False):\n",
    "    # Choose the regex pattern based on the remove_digits flag\n",
    "    pattern = r'[^a-zA-z0-9\\s]' if not remove_digits else r'[^a-zA-z\\s]'\n",
    "    # Use re.sub to replace any characters that match the pattern with an empty string\n",
    "    text = re.sub(pattern, '', text)\n",
    "    return text\n",
    "\n",
    "remove_special_characters(\"Well this was fun! What do you think? 123#@!\", \n",
    "                          remove_digits=True)"
   ]
  },
  {
   "cell_type": "markdown",
   "id": "aae9f9e2-a404-412d-bb3c-94fdae8a9aa4",
   "metadata": {},
   "source": [
    "## Stemming"
   ]
  },
  {
   "cell_type": "markdown",
   "id": "c154cb94-2086-40de-a40e-57f3ddeb9938",
   "metadata": {},
   "source": [
    "To understand stemming, you need to gain some perspective on what word stems represent. Word stems are also known as the base form of a word, and we can create new words by attaching affixes to them in a process known as inflection. Consider the word JUMP. We can add affixes to it and form new words like JUMPS, JUMPED, and JUMPING. In this case, the base word JUMP is the word stem."
   ]
  },
  {
   "cell_type": "markdown",
   "id": "2f4492c3-95c8-43a2-8ce6-e88ef1299e19",
   "metadata": {},
   "source": [
    "The reverse process of obtaining the base form of a word from its inflected form is known as stemming. Stemming helps us in standardizing words to their base or root stem, irrespective of their inflections, which helps many applications like classifying or clustering text, and even in information retrieval. Let’s see the popular Porter stemmer in action now!"
   ]
  },
  {
   "cell_type": "code",
   "execution_count": 9,
   "id": "92727964-cf05-4672-97d7-ac20d742e3bd",
   "metadata": {},
   "outputs": [
    {
     "data": {
      "text/plain": [
       "'my system keep crash hi crash yesterday, our crash daili'"
      ]
     },
     "execution_count": 9,
     "metadata": {},
     "output_type": "execute_result"
    }
   ],
   "source": [
    "def simple_stemmer(text):\n",
    "    ps = nltk.porter.PorterStemmer() # lst = nltk.stem.lancaster.LancasterStemmer()\n",
    "                                    # text = ' '.join([lst.stem(word) for word in text.split()])\n",
    "    text = ' '.join([ps.stem(word) for word in text.split()])\n",
    "    return text\n",
    "\n",
    "simple_stemmer(\"My system keeps crashing his crashed yesterday, ours crashes daily\")"
   ]
  },
  {
   "cell_type": "markdown",
   "id": "e2324011-8727-4299-b5fa-0cddb46054ee",
   "metadata": {},
   "source": [
    "The Porter stemmer is based on the algorithm developed by its inventor, **Dr. Martin Porter**. Originally, the algorithm is said to have had a total of five different phases for reduction of inflections to their stems, where each phase has its own set of rules."
   ]
  },
  {
   "cell_type": "markdown",
   "id": "de229811-af88-4073-bfe4-2a16a81e7419",
   "metadata": {},
   "source": [
    "**Do note that usually stemming has a fixed set of rules, hence, the root stems may not be lexicographically correct. Which means, the stemmed words may not be semantically correct, and might have a chance of not being present in the dictionary (as evident from the preceding output).**"
   ]
  },
  {
   "cell_type": "code",
   "execution_count": 10,
   "id": "83a3a0f2-2f26-47ca-aa99-a28f0d53fa12",
   "metadata": {},
   "outputs": [
    {
     "data": {
      "text/plain": [
       "'my system keep crash ! his crash yesterday, our crash dai'"
      ]
     },
     "execution_count": 10,
     "metadata": {},
     "output_type": "execute_result"
    }
   ],
   "source": [
    "def aggressive_stemmer(text):\n",
    "    lst = nltk.stem.lancaster.LancasterStemmer()\n",
    "    text = ' '.join([lst.stem(word) for word in text.split()])\n",
    "    return text\n",
    "\n",
    "aggressive_stemmer(\"My system keeps crashing ! his crashed yesterday, ours crashes daily\")"
   ]
  },
  {
   "cell_type": "markdown",
   "id": "872771bc-b53a-4e48-a11f-fea2466923da",
   "metadata": {},
   "source": [
    "## Lemmatization"
   ]
  },
  {
   "cell_type": "markdown",
   "id": "7b574497-579d-4efa-9d90-d8c9a6f5eb21",
   "metadata": {},
   "source": [
    "Lemmatization is very similar to stemming, where we remove word affixes to get to the base form of a word. However, the base form in this case is known as the root word, but not the root stem. The difference being that the root word is always a lexicographically correct word (present in the dictionary), but the root stem may not be so. Thus, root word, also known as the lemma, will always be present in the dictionary. Both nltk and spacy have excellent lemmatizers. We will be using spacy here."
   ]
  },
  {
   "cell_type": "code",
   "execution_count": 11,
   "id": "c94176be-3590-49af-a4c5-d51cdbd509d4",
   "metadata": {},
   "outputs": [
    {
     "name": "stdout",
     "output_type": "stream",
     "text": [
      "my system keep crash ! his crashed yesterday , ours crash daily\n"
     ]
    }
   ],
   "source": [
    "# Load the small English model\n",
    "nlp = spacy.load('en_core_web_sm')\n",
    "\n",
    "def lemmatize_text(text):\n",
    "    # Process the text using the loaded spaCy model\n",
    "    doc = nlp(text)\n",
    "    # Extract lemmas from each token\n",
    "    lemmas = [word.lemma_ if word.lemma_ != '-PRON-' else word.text for word in doc]\n",
    "    # Join lemmas into a single string and return\n",
    "    return ' '.join(lemmas)\n",
    "\n",
    "# Example usage\n",
    "lemmatized_text = lemmatize_text(\"My system keeps crashing ! his crashed yesterday, ours crashes daily\")\n",
    "print(lemmatized_text)\n"
   ]
  },
  {
   "cell_type": "markdown",
   "id": "a52cfd8a-6e0d-429e-9b61-8fc9c8e09829",
   "metadata": {},
   "source": [
    "You can see that the semantics of the words are not affected by this, yet our text is still standardized."
   ]
  },
  {
   "cell_type": "code",
   "execution_count": 12,
   "id": "512c5958-efbd-41ad-8cae-124e9c59722c",
   "metadata": {},
   "outputs": [
    {
     "data": {
      "text/plain": [
       "'My system keep crashing! his crashed yesterday, ours crash daily'"
      ]
     },
     "execution_count": 12,
     "metadata": {},
     "output_type": "execute_result"
    }
   ],
   "source": [
    "def simple_lemmatizer(text):\n",
    "    wnl = nltk.stem.WordNetLemmatizer()\n",
    "    text = ' '.join([wnl.lemmatize(word) for word in text.split()])\n",
    "    return text\n",
    "simple_lemmatizer(\"My system keeps crashing! his crashed yesterday, ours crashes daily\")"
   ]
  },
  {
   "cell_type": "code",
   "execution_count": 13,
   "id": "c7f46665-4c3c-4cc6-996b-05bb3839f6c9",
   "metadata": {},
   "outputs": [
    {
     "data": {
      "text/plain": [
       "'care'"
      ]
     },
     "execution_count": 13,
     "metadata": {},
     "output_type": "execute_result"
    }
   ],
   "source": [
    "nltk.stem.WordNetLemmatizer().lemmatize(\"caring\", pos='v')"
   ]
  },
  {
   "cell_type": "code",
   "execution_count": 14,
   "id": "44b02583-eba1-46c6-b887-9e812101635d",
   "metadata": {},
   "outputs": [
    {
     "name": "stdout",
     "output_type": "stream",
     "text": [
      "My system keep crash ! His crashed yesterday , ours crash daily .\n"
     ]
    }
   ],
   "source": [
    "# Function to get wordnet POS tag from NLTK POS tag\n",
    "def get_wordnet_pos(tag):\n",
    "    if tag.startswith('J'):\n",
    "        return wordnet.ADJ\n",
    "    elif tag.startswith('V'):\n",
    "        return wordnet.VERB\n",
    "    elif tag.startswith('N'):\n",
    "        return wordnet.NOUN\n",
    "    elif tag.startswith('R'):\n",
    "        return wordnet.ADV\n",
    "    else:\n",
    "        return wordnet.NOUN\n",
    "\n",
    "def better_lemmatizer(text):\n",
    "    lemmatizer = WordNetLemmatizer()\n",
    "    tokens = word_tokenize(text)  # Tokenize the text\n",
    "    pos_tags = nltk.pos_tag(tokens)  # Get part of speech tags for each token\n",
    "    # Lemmatize each token based on its POS tag\n",
    "    lemmas = [lemmatizer.lemmatize(token, get_wordnet_pos(tag)) for token, tag in pos_tags]\n",
    "    return ' '.join(lemmas)\n",
    "\n",
    "# Example usage\n",
    "lemmatized_text = better_lemmatizer(\"My system keeps crashing! His crashed yesterday, ours crashes daily.\")\n",
    "print(lemmatized_text)\n"
   ]
  },
  {
   "cell_type": "markdown",
   "id": "773cda57-f610-4cfc-969c-2a9a80f0b785",
   "metadata": {},
   "source": [
    "**Do note that the lemmatization process is considerably slower than stemming, because an additional step is involved where the root form or lemma is formed by removing the affix from the word if and only if the lemma is present in the dictionary.**"
   ]
  },
  {
   "cell_type": "markdown",
   "id": "ff2d4362-f5dd-46db-b7b0-167091c588dd",
   "metadata": {},
   "source": [
    "## Removing Stopwords"
   ]
  },
  {
   "cell_type": "markdown",
   "id": "b85f989c-de9b-4f41-bc93-b713cef422a8",
   "metadata": {},
   "source": [
    "Words which have little or no significance, especially when constructing meaningful features from text, are known as stopwords or stop words. These are usually words that end up having the maximum frequency if you do a simple term or word frequency in a corpus. Typically, these can be articles, conjunctions, prepositions and so on. Some examples of stopwords are a, an, the, and the like."
   ]
  },
  {
   "cell_type": "code",
   "execution_count": 15,
   "id": "22fa4314-4a8c-4eae-970f-6ee3308ad4c5",
   "metadata": {},
   "outputs": [
    {
     "data": {
      "text/plain": [
       "', , stopwords , computer'"
      ]
     },
     "execution_count": 15,
     "metadata": {},
     "output_type": "execute_result"
    }
   ],
   "source": [
    "tokenizer = ToktokTokenizer()\n",
    "stopword_list = nltk.corpus.stopwords.words('english')\n",
    "def remove_stopwords(text, is_lower_case=False):\n",
    "    tokens = tokenizer.tokenize(text)\n",
    "    tokens = [token.strip() for token in tokens]\n",
    "    if is_lower_case:\n",
    "        filtered_tokens = [token for token in tokens if token not in stopword_list]\n",
    "    else:\n",
    "        filtered_tokens = [token for token in tokens if token.lower() not in stopword_list]\n",
    "    filtered_text = ' '.join(filtered_tokens)    \n",
    "    return filtered_text\n",
    "\n",
    "remove_stopwords(\"The, and, if are stopwords, computer is not\")"
   ]
  },
  {
   "cell_type": "markdown",
   "id": "5a0af007-6ca7-44be-8849-296e7cbbd29a",
   "metadata": {},
   "source": [
    "There is no universal stopword list, but we use a standard English language stopwords list from nltk. You can also add your own domain-specific stopwords as needed."
   ]
  },
  {
   "cell_type": "code",
   "execution_count": 16,
   "id": "54bd3810-b05c-47d5-b7f8-3620655bce7f",
   "metadata": {},
   "outputs": [
    {
     "name": "stdout",
     "output_type": "stream",
     "text": [
      "259744\n"
     ]
    }
   ],
   "source": [
    "print(len(re.sub(r'[\\r|\\n|\\r\\n]+', '\\n', BeautifulSoup(content, \"html.parser\").get_text())))"
   ]
  },
  {
   "cell_type": "markdown",
   "id": "ff1870fb-959e-458b-8477-0bd118890cb8",
   "metadata": {},
   "source": [
    "# Bringing it all together — Building a Text Normalizer"
   ]
  },
  {
   "cell_type": "markdown",
   "id": "bd3142c5-2846-4a89-a5da-37c83a084917",
   "metadata": {},
   "source": [
    "While we can definitely keep going with more techniques like correcting spelling, grammar and so on, let’s now bring everything we learnt together and chain these operations to build a text normalizer to pre-process text data."
   ]
  },
  {
   "cell_type": "code",
   "execution_count": 17,
   "id": "d31b26d8-9c94-44d1-93b0-d5db2475b22d",
   "metadata": {},
   "outputs": [],
   "source": [
    "def normalize_corpus(corpus, html_stripping=True, contraction_expansion=True,\n",
    "                     accented_char_removal=True, text_lower_case=True, \n",
    "                     text_lemmatization=True, special_char_removal=True, \n",
    "                     stopword_removal=True, remove_digits=True):\n",
    "    normalized_corpus = []\n",
    "        # normalize each document in the corpus\n",
    "    for doc in corpus:\n",
    "        # strip HTML\n",
    "        if html_stripping:\n",
    "            doc = strip_html_tags(doc)\n",
    "        # remove accented characters\n",
    "        if accented_char_removal:\n",
    "            doc = remove_accented_chars(doc)\n",
    "        # expand contractions    \n",
    "        if contraction_expansion:\n",
    "            doc = expand_contractions(doc)\n",
    "        # lowercase the text    \n",
    "        if text_lower_case:\n",
    "            doc = doc.lower()\n",
    "        # remove extra newlines\n",
    "        doc = re.sub(r'[\\r|\\n|\\r\\n]+', ' ',doc)\n",
    "        # lemmatize text\n",
    "        if text_lemmatization:\n",
    "            doc = lemmatize_text(doc)\n",
    "        # remove special characters and\\or digits    \n",
    "        if special_char_removal:\n",
    "            # insert spaces between special characters to isolate them    \n",
    "            special_char_pattern = re.compile(r'([{.(-)!}])')\n",
    "            doc = special_char_pattern.sub(\" \\\\1 \", doc)\n",
    "            doc = remove_special_characters(doc, remove_digits=remove_digits)  \n",
    "        # remove extra whitespace\n",
    "        doc = re.sub(' +', ' ', doc)\n",
    "        # remove stopwords\n",
    "        if stopword_removal:\n",
    "            doc = remove_stopwords(doc, is_lower_case=text_lower_case)\n",
    "            \n",
    "        normalized_corpus.append(doc)\n",
    "        \n",
    "    return normalized_corpus"
   ]
  },
  {
   "cell_type": "markdown",
   "id": "a551ef2c-6692-456b-b160-2141f493779e",
   "metadata": {},
   "source": [
    "Let’s now put this function in action! We will first combine the news headline and the news article text together to form a document for each piece of news. Then, we will pre-process them."
   ]
  },
  {
   "cell_type": "code",
   "execution_count": 18,
   "id": "b5bcc6a0-4ab6-4027-a524-abeeeaf39c2a",
   "metadata": {},
   "outputs": [
    {
     "data": {
      "text/plain": [
       "['project gutenberg ebook bible king james version book genesis anonymous project gutenberg ebook bible king james version book genesis ebook use anyone anywhere united states part world cost almost restriction whatsoever may copy give away use term project gutenberg license include ebook online www gutenberg org locate united states check law country locate use ebook title bible king james version book genesis author anonymous release date april [ ebook ] recently update december language english credit ebook produce david widger help derek andrews text january work bryan taylor november start project gutenberg ebook bible king james version book genesis ebook produce david widger help derek andrews text january work bryan taylor november book genesis beginning god create heaven earth earth without form void darkness upon face deep spirit god move upon face water god say let light light god see light good god divide light darkness god call light day darkness call night evening morning first day god say let firmament midst water let divide water water god make firmament divide water firmament water firmament god call firmament heaven evening morning second day god say let water heaven gather together unto one place let dry land appear god call dry land earth gathering together water call sea god see good god say let earth bring forth grass herb yield seed fruit tree yield fruit kind whose seed upon earth earth bring forth grass herb yield seed kind tree yield fruit whose seed kind god see good evening morning third day god say let light firmament heaven divide day night let sign season day year let light firmament heaven give light upon earth god make two great light great light rule day less light rule night make star also god set firmament heaven give light upon earth rule day night divide light darkness god see good evening morning fourth day god say let water bring forth abundantly move creature hath life fowl may fly earth open firmament heaven god create great whale every live creature moveth water bring forth abundantly kind every wing fowl kind god see good god bless say fruitful multiply fill water sea let fowl multiply earth evening morning fifth day god say let earth bring forth live creature kind cattle creep thing beast earth kind god make beast earth kind cattle kind every thing creepeth upon earth kind god see good god say let make man image likeness let dominion fish sea fowl air cattle earth every creep thing creepeth upon earth god create man image image god create male female create god bless god say unto fruitful multiply replenish earth subdue dominion fish sea fowl air every live thing moveth upon earth god say behold I give every herb bear seed upon face earth every tree fruit tree yield seed shall meat every beast earth every fowl air every thing creepeth upon earth wherein life I give every green herb meat god see every thing make behold good evening morning sixth day thus heavens earth finish host seventh day god end work make rest seventh day work make god bless seventh day sanctify rest work god create make generation heavens earth create day lord god make earth heaven every plant field earth every herb field grow lord god cause rain upon earth man till ground go mist earth water whole face ground lord god form man dust ground breathe nostril breath life man become live soul lord god plant garden eastward eden put man form ground make lord god grow every tree pleasant sight good food tree life also midst garden tree knowledge good evil river go eden water garden thence part become four head name first pison compasseth whole land havilah gold gold land good bdellium onyx stone name second river gihon compasseth whole land ethiopia name third river hiddekel goeth toward east assyria fourth river euphrate lord god take man put garden eden dress keep lord god command man say every tree garden thou mayest freely eat tree knowledge good evil thou shalt eat day thou eat thereof thou shalt surely die lord god say good man alone I make help meet ground lord god form every beast field every fowl air bring unto adam see would call whatsoever adam call every live creature name thereof adam give name cattle fowl air every beast field adam find help meet lord god cause deep sleep fall upon adam sleep take one rib close flesh instead thereof rib lord god take man make woman bring unto man adam say bone bone flesh flesh shall call woman take man therefore shall man leave father mother shall cleave unto wife shall one flesh naked man wife ashamed serpent subtil beast field lord god make say unto woman yea hath god say ye shall eat every tree garden woman say unto serpent may eat fruit tree garden fruit tree midst garden god hath say ye shall eat neither shall ye touch lest ye die serpent say unto woman ye shall surely die god doth know day ye eat thereof eye shall open ye shall god know good evil woman see tree good food pleasant eye tree desire make one wise take fruit thereof eat give also unto husband eat eye open know naked sew fig leave together make apron hear voice lord god walk garden cool day adam wife hide presence lord god amongst tree garden lord god call unto adam say unto art thou say I hear thy voice garden I afraid I naked I hide say tell thee thou wast naked hast thou eat tree whereof I command thee thou eat man say woman thou gavest I give I tree I eat lord god say unto woman thou hast woman say serpent beguile I I eat lord god say unto serpent thou hast thou art curse cattle every beast field upon thy belly shalt thou go dust shalt thou eat day thy life I put enmity thee woman thy seed seed shall bruise thy head thou shalt bruise heel unto woman say I greatly multiply thy sorrow thy conception sorrow thou shalt bring forth child thy desire shall thy husband shall rule thee unto adam say thou hast hearken unto voice thy wife hast eat tree I command thee say thou shalt eat curse ground thy sake sorrow shalt thou eat day thy life thorn also thistle shall bring forth thee thou shalt eat herb field sweat thy face shalt thou eat bread till thou return unto ground wast thou take dust thou art unto dust shalt thou return adam call wife name eve mother live unto adam also wife lord god make coat skin clothe lord god say behold man become one know good evil lest put forth hand take also tree life eat live ever therefore lord god send forth garden eden till ground whence take drive man place east garden eden cherubim flaming sword turn every way keep way tree life adam know eve wife conceive bare cain say I get man lord bare brother abel abel keeper sheep cain tiller ground process time come pass cain bring fruit ground offering unto lord abel also bring firstling flock fat thereof lord respect unto abel offering unto cain offering respect cain wroth countenance fall lord say unto cain art thou wroth thy countenance fall thou doest well shalt thou accept thou well sin lieth door unto thee shall desire thou shalt rule cain talk abel brother come pass field cain rise abel brother slew lord say unto cain abel thy brother say I know I brother keeper say hast thou voice thy brother blood crieth unto I ground art thou curse earth hath open mouth receive thy brother blood thy hand thou tillest ground shall henceforth yield unto thee strength fugitive vagabond shalt thou earth cain say unto lord punishment great I bear behold thou hast drive I day face earth thy face shall I hide I shall fugitive vagabond earth shall come pass every one findeth I shall slay I lord say unto therefore whosoever slayeth cain vengeance shall take sevenfold lord set mark upon cain lest finding kill cain go presence lord dwelt land nod east eden cain know wife conceive bare enoch build city call name city name son enoch unto enoch bear irad irad begat mehujael mehujael begat methusael methusael begat lamech lamech take unto two wife name one adah name zillah adah bare jabal father dwell tent cattle brother name jubal father handle harp organ zillah also bare tubalcain instructor every artificer brass iron sister tubalcain naamah lamech say unto wife adah zillah hear voice ye wife lamech hearken unto speech I slay man wounding young man hurt cain shall avenge sevenfold truly lamech seventy sevenfold adam know wife bare son call name seth god say hath appoint I another seed instead abel cain slew seth also bear son call name eno begin man call upon name lord book generation adam day god create man likeness god make male female create bless call name adam day create adam live hundred thirty year begat son likeness image call name seth day adam beget seth eight hundred year begat son daughter day adam live nine hundred thirty year die seth live hundred five year begat eno seth live begat eno eight hundred seven year begat son daughter day seth nine hundred twelve year die eno live ninety year begat cainan eno live begat cainan eight hundred fifteen year begat son daughter day eno nine hundred five year die cainan live seventy year begat mahalaleel cainan live begat mahalaleel eight hundred forty year begat son daughter day cainan nine hundred ten year die mahalaleel live sixty five year begat jar mahalaleel live begat jar eight hundred thirty year begat son daughter day mahalaleel eight hundred ninety five year die jared live hundred sixty two year begat enoch jared live begat enoch eight hundred year begat son daughter day jared nine hundred sixty two year die enoch live sixty five year begat methuselah enoch walk god begat methuselah three hundred year begat son daughter day enoch three hundred sixty five year enoch walk god god take methuselah live hundred eighty seven year begat lamech methuselah live begat lamech seven hundred eighty two year begat son daughter day methuselah nine hundred sixty nine year die lamech live hundred eighty two year begat son call name noah say shall comfort concern work toil hand ground lord hath cursed lamech live begat noah five hundred ninety five year begat son daughter day lamech seven hundred seventy seven year die noah five hundred year old noah begat shem ham japheth come pass man begin multiply face earth daughter bear unto son god see daughter man fair take wife choose lord say spirit shall always strive man also flesh yet day shall hundred twenty year giant earth day also son god come unto daughter man bare child become mighty man old man renown god see wickedness man great earth every imagination thought heart evil continually repent lord make man earth grieve heart lord say I destroy man I create face earth man beast creeping thing fowl air repenteth I I make noah find grace eye lord generation noah noah man perfect generation noah walk god noah begat three son shem ham japheth earth also corrupt god earth fill violence god look upon earth behold corrupt flesh corrupt way upon earth god say unto noah end flesh come I earth fill violence behold I destroy earth make thee ark gopher wood room shalt thou make ark shalt pitch within without pitch fashion thou shalt make length ark shall three hundred cubit breadth fifty cubit height thirty cubit window shalt thou make ark cubit shalt thou finish door ark shalt thou set side thereof low second third story shalt thou make behold I even bring flood water upon earth destroy flesh wherein breath life heaven every thing earth shall die thee I establish covenant thou shalt come ark thou thy son thy wife thy son wife thee every live thing flesh two every sort shalt thou bring ark keep alive thee shall male female fowl kind cattle kind every creep thing earth kind two every sort shall come unto thee keep alive take thou unto thee food eat thou shalt gather thee shall food thee thus noah accord god command lord say unto noah come thou thy house ark thee I see righteous I generation every clean beast thou shalt take thee seven male female beast clean two male female fowl also air seven male female keep seed alive upon face earth yet seven day I cause rain upon earth forty day forty night every live substance I make I destroy face earth noah accord unto lord command noah six hundred year old flood water upon earth noah go son wife son wife ark water flood clean beast beast clean fowl every thing creepeth upon earth go two two unto noah ark male female god command noah come pass seven day water flood upon earth six hundredth year noahs life second month seventeenth day month day fountain great deep break window heaven open rain upon earth forty day forty night selfsame day enter noah shem ham japheth son noah noahs wife three wife son ark every beast kind cattle kind every creep thing creepeth upon earth kind every fowl kind every bird every sort go unto noah ark two two flesh wherein breath life go go male female flesh god command lord shut flood forty day upon earth water increase bare ark lift earth water prevail increase greatly upon earth ark go upon face water water prevail exceedingly upon earth high hill whole heaven cover fifteen cubit upward water prevail mountain cover flesh die move upon earth fowl cattle beast every creep thing creepeth upon earth every man whose nostril breath life dry land die every live substance destroy upon face ground man cattle creeping thing fowl heaven destroy earth noah remain alive ark water prevail upon earth hundred fifty day god remember noah every live thing cattle ark god make wind pass earth water asswage fountain also deep window heaven stop rain heaven restrain water return earth continually end hundred fifty day water abate ark rest seventh month seventeenth day month upon mountain ararat water decrease continually tenth month tenth month first day month top mountain see come pass end forty day noah open window ark make send forth raven go forth fro water dry earth also send forth dove see water abate face ground dove find rest sole foot return unto ark water face whole earth put forth hand take pull unto ark stay yet seven day send forth dove ark dove come evening lo mouth olive leaf pluckt noah know water abate earth stay yet seven day send forth dove return unto come pass six hundredth first year first month first day month water dry earth noah remove covering ark look behold face ground dry second month seven twentieth day month earth dry god spake unto noah say go forth ark thou thy wife thy son thy son wife thee bring forth thee every live thing thee flesh fowl cattle every creep thing creepeth upon earth may breed abundantly earth fruitful multiply upon earth noah go forth son wife son wife every beast every creep thing every fowl whatsoever creepeth upon earth kind go forth ark noah build altar unto lord take every clean beast every clean fowl offer burn offering altar lord smell sweet savour lord say heart I curse ground man sake imagination mans heart evil youth neither I smite every thing live I earth remaineth seedtime harvest cold heat summer winter day night shall cease god bless noah son say unto fruitful multiply replenish earth fear dread shall upon every beast earth upon every fowl air upon moveth upon earth upon fish sea hand deliver every move thing liveth shall meat even green herb I give thing flesh life thereof blood thereof shall ye eat surely blood life I require hand every beast I require hand man hand every man brother I require life man whoso sheddeth mans blood man shall blood shed image god make man ye fruitful multiply bring forth abundantly earth multiply therein god spake unto noah son say I behold I establish covenant seed every live creature fowl cattle every beast earth go ark every beast earth I establish covenant neither shall flesh cut water flood neither shall flood destroy earth god say token covenant I make I every live creature perpetual generation I set bow cloud shall token covenant I earth shall come pass I bring cloud earth bow shall see cloud I remember covenant I every live creature flesh water shall become flood destroy flesh bow shall cloud I look upon I may remember everlasting covenant god every live creature flesh upon earth god say unto noah token covenant I establish I flesh upon earth son noah go forth ark shem ham japheth ham father canaan three son noah whole earth overspread noah begin husbandman plant vineyard drink wine drunken uncover within tent ham father canaan see nakedness father tell two brother without shem japheth take garment lay upon shoulder go backward cover nakedness father face backward see father nakedness noah awake wine know young son unto say cursed canaan servant servant shall unto brother say bless lord god shem canaan shall servant god shall enlarge japheth shall dwell tent shem canaan shall servant noah live flood three hundred fifty year day noah nine hundred fifty year die generation son noah shem ham japheth unto son bear flood son japheth gomer magog madai javan tubal meshech tira son gomer ashkenaz riphath togarmah son javan elishah tarshish kittim dodanim isle gentile divide land every one tongue family nation son ham cush mizraim phut canaan son cush seba havilah sabtah raamah sabtechah son raamah sheba dedan cush begat nimrod begin mighty one earth mighty hunter lord wherefore say even nimrod mighty hunter lord beginning kingdom babel erech accad calneh land shinar land go forth asshur builded nineveh city rehoboth calah resen nineveh calah great city mizraim begat ludim anamim lehabim naphtuhim pathrusim casluhim come philistim caphtorim canaan begat sidon first bear heth jebusite amorite girgasite hivite arkite sinite arvadite zemarite hamathite afterward family canaanite spread abroad border canaanite sidon thou com gerar unto gaza thou goest unto sodom gomorrah admah zeboim even unto lasha son ham family tongue country nation unto shem also father child eber brother japheth elder even child bear child shem elam asshur arphaxad lud aram child aram uz hul gether mash arphaxad begat salah salah begat eber unto eber bear two son name one peleg day earth divide brother name joktan joktan begat almodad sheleph hazarmaveth jerah hadoram uzal diklah obal abimael sheba ophir havilah jobab son joktan dwelling mesha thou go unto sephar mount east son shem family tongue land nation family son noah generation nation nation divide earth flood whole earth one language one speech come pass journey east find plain land shinar dwelt say one another go let make brick burn thoroughly brick stone slime morter say go let build city tower whose top may reach unto heaven let make name lest scatter abroad upon face whole earth lord come see city tower child man build lord say behold people one one language begin nothing restrain imagine go let go confound language may understand one another speech lord scatter abroad thence upon face earth leave build city therefore name call babel lord confound language earth thence lord scatter abroad upon face earth generation shem shem hundred year old begat arphaxad two year flood shem live begat arphaxad five hundred year begat son daughter arphaxad live five thirty year begat salah arphaxad live begat salah four hundred three year begat son daughter salah live thirty year begat eber salah live begat eber four hundred three year begat son daughter eber live four thirty year begat peleg eber live begat peleg four hundred thirty year begat son daughter peleg live thirty year begat reu peleg live begat reu two hundred nine year begat son daughter reu live two thirty year begat serug reu live begat serug two hundred seven year begat son daughter serug live thirty year begat nahor serug live begat nahor two hundred year begat son daughter nahor live nine twenty year begat terah nahor live begat terah hundred nineteen year begat son daughter terah live seventy year begat abram nahor haran generation terah terah begat abram nahor haran haran begat lot haran die father terah land nativity ur chaldee abram nahor take wife name abrams wife sarai name nahors wife milcah daughter haran father milcah father iscah sarai barren child terah take abram son lot son haran son son sarai daughter law son abrams wife go forth ur chaldee go land canaan come unto haran dwelt day terah two hundred five year terah die haran lord say unto abram get thee thy country thy kindre thy father house unto land I shew thee I make thee great nation I bless thee make thy name great thou shalt blessing I bless bless thee curse curseth thee thee shall family earth bless abram departed lord speak unto lot go abram seventy five year old depart haran abram take sarai wife lot brother son substance gather soul get haran go forth go land canaan land canaan come abram pass land unto place sichem unto plain moreh canaanite land lord appear unto abram say unto thy seed I give land build altar unto lord appear unto remove thence unto mountain east bethel pitch tent bethel west hai east build altar unto lord call upon name lord abram journey go still toward south famine land abram go egypt sojourn famine grievous land come pass come near enter egypt say unto sarai wife behold I know thou art fair woman look upon therefore shall come pass egyptians shall see thee shall say wife kill I save thee alive say I pray thee thou art sister may well I thy sake soul shall live thee come pass abram come egypt egyptians behold woman fair prince also pharaoh see commend pharaoh woman take pharaohs house entreat abram well sake sheep oxen asse manservant maidservant asse camel lord plague pharaoh house great plague sarai abrams wife pharaoh call abram say thou hast unto I didst thou tell I thy wife saidst thou sister I might take I wife therefore behold thy wife take go thy way pharaoh command man concern send away wife abram go egypt wife lot south abram rich cattle silver gold go journey south even bethel unto place tent beginning bethel hai unto place altar make first abram call name lord lot also go abram flock herd tent land able bear might dwell together substance great could dwell together strife herdman abrams cattle herdman lot cattle canaanite perizzite dwell land abram say unto lot let strife I pray thee I thee herdman thy herdman brother whole land thee separate thyself I pray thee I thou wilt take left hand I go right thou depart right hand I go left lot lift eye behold plain jordan well water every lord destroy sodom gomorrah even garden lord like land egypt thou com unto zoar lot choose plain jordan lot journey east separate one abram dwell land canaan lot dwell city plain pitch tent toward sodom man sodom wicked sinner lord exceedingly lord say unto abram lot separate lift thine eye look place thou art northward southward eastward westward land thou se thee I give thy seed ever I make thy seed dust earth man number dust earth shall thy seed also number arise walk land length breadth I give unto thee abram remove tent come dwelt plain mamre hebron build altar unto lord come pass day amraphel king shinar arioch king ellasar chedorlaomer king elam tidal king nation make war bera king sodom birsha king gomorrah shinab king admah shemeber king zeboiim king bela zoar join together vale siddim salt sea twelve year serve chedorlaomer thirteenth year rebel fourteenth year come chedorlaomer king smote rephaim ashteroth karnaim zuzim ham emin shaveh kiriathaim horite mount seir unto elparan wilderness return come enmishpat kadesh smote country amalekite also amorite dwelt hazezontamar go king sodom king gomorrah king admah king zeboiim king bela zoar join battle vale siddim chedorlaomer king elam tidal king nation amraphel king shinar arioch king ellasar four king five vale siddim full slimepit king sodom gomorrah flee fall remain flee mountain take good sodom gomorrah victual go way take lot abrams brother son dwelt sodom good depart come one escape tell abram hebrew dwelt plain mamre amorite brother eshcol brother aner confederate abram abram hear brother take captive arm train servant bear house three hundred eighteen pursue unto dan divide servant night smote pursue unto hobah left hand damascus bring back good also bring brother lot good woman also people king sodom go meet return slaughter chedorlaomer king valley shaveh king dale melchizedek king salem bring forth bread wine priest high god bless say blessed abram high god possessor heaven earth bless high god hath deliver thine enemy thy hand give tithe king sodom say unto abram give I person take good thyself abram say king sodom I lift mine hand unto lord high god possessor heaven earth I take thread even shoelatchet I take thing thine lest thou shouldest say I make abram rich save young man eat portion man go I aner eshcol mamre let take portion thing word lord come unto abram vision say fear abram I thy shield thy exceed great reward abram say lord god wilt thou give I see I go childless steward house eliezer damascus abram say behold I thou hast give seed lo one bear house mine heir behold word lord come unto say shall thine heir shall come forth thine bowel shall thine heir bring forth abroad say look toward heaven tell star thou able number say unto shall thy seed believe lord count righteousness say unto I lord bring thee ur chaldee give thee land inherit say lord god whereby shall I know I shall inherit say unto take I heifer three year old goat three year old ram three year old turtledove young pigeon take unto divide midst lay piece one another bird divide fowl come upon carcase abram drive away sun go deep sleep fall upon abram lo horror great darkness fall upon say unto abram know surety thy seed shall stranger land shall serve shall afflict four hundred year also nation shall serve I judge afterward shall come great substance thou shalt go thy father peace thou shalt bury good old age fourth generation shall come hither iniquity amorite yet full come pass sun go dark behold smoking furnace burn lamp pass piece day lord make covenant abram say unto thy seed I give land river egypt unto great river river euphrate kenite kenizzite kadmonite hittite perizzite rephaim amorite canaanite girgashite jebusite sarai abrams wife bare child handmaid egyptian whose name hagar sarai say unto abram behold lord hath restrain I bear I pray thee go unto maid may I may obtain child abram hearken voice sarai sarai abrams wife take hagar maid egyptian abram dwelt ten year land canaan give husband abram wife go unto hagar conceive see conceive mistress despise eye sarai say unto abram wrong upon thee I give maid thy bosom see conceive I despise eye lord judge I thee abram say unto sarai behold thy maid thine hand pleaseth thee sarai deal hardly flee face angel lord find fountain water wilderness fountain way shur say hagar sarais maid whence camest thou whither wilt thou go say I flee face mistress sarai angel lord say unto return thy mistress submit thyself hand angel lord say unto I multiply thy seed exceedingly shall number multitude angel lord say unto behold thou art child shalt bear son shalt call name ishmael lord hath hear thy affliction wild man hand every man every man hand shall dwell presence brother call name lord spake unto thou god se I say I also look seeth I wherefore well call beerlahairoi behold kadesh bered hagar bare abram son abram call son name hagar bare ishmael abram fourscore six year old hagar bare ishmael abram abram ninety year old nine lord appear abram say unto I almighty god walk I thou perfect I make covenant I thee multiply thee exceedingly abram fall face god talk say I behold covenant thee thou shalt father many nation neither shall thy name call abram thy name shall abraham father many nation I make thee I make thee exceed fruitful I make nation thee king shall come thee I establish covenant I thee thy seed thee generation everlasting covenant god unto thee thy seed thee I give unto thee thy seed thee land wherein thou art stranger land canaan everlasting possession I god god say unto abraham thou shalt keep covenant therefore thou thy seed thee generation covenant ye shall keep I thy seed thee every man child among shall circumcise ye shall circumcise flesh foreskin shall token covenant betwixt I eight day old shall circumcise among every man child generation bear house buy money stranger thy seed bear thy house buy thy money must need circumcise covenant shall flesh everlasting covenant uncircumcised man child whose flesh foreskin circumcise soul shall cut people hath break covenant god say unto abraham sarai thy wife thou shalt call name sarai sarah shall name I bless give thee son also yea I bless shall mother nation king people shall abraham fall upon face laugh say heart shall child bear unto hundred year old shall sarah ninety year old bear abraham say unto god ishmael might live thee god say sarah thy wife shall bear thee son indeed thou shalt call name isaac I establish covenant everlasting covenant seed ishmael I hear thee behold I bless make fruitful multiply exceedingly twelve prince shall beget I make great nation covenant I establish isaac sarah shall bear unto thee set time next year leave talk god go abraham abraham take ishmael son bear house buy money every male among man abraham house circumcise flesh foreskin selfsame day god say unto abraham ninety year old nine circumcise flesh foreskin ishmael son thirteen year old circumcise flesh foreskin selfsame day abraham circumcise ishmael son man house bear house buy money stranger circumcise lord appear unto plain mamre sit tent door heat day lift eye look lo three man stand see run meet tent door bow toward ground say lord I find favour thy sight pass away I pray thee thy servant let little water I pray fetch wash foot rest tree I fetch morsel bread comfort ye heart ye shall pass therefore ye come servant say thou hast say abraham hasten tent unto sarah say make ready quickly three measure fine meal knead make cake upon hearth abraham run unto herd fetcht calf tender good give unto young man haste dress take butter milk calf dress set stand tree eat say unto sarah thy wife say behold tent say I certainly return unto thee accord time life lo sarah thy wife shall son sarah hear tent door behind abraham sarah old well stricken age cease sarah manner woman therefore sarah laugh within say I wax old shall I pleasure lord old also lord say unto abraham wherefore sarah laugh say shall I surety bear child old thing hard lord time appoint I return unto thee accord time life sarah shall son sarah deny say I laugh afraid say nay thou didst laugh man rise thence look toward sodom abraham go bring way lord say shall I hide abraham thing I see abraham shall surely become great mighty nation nation earth shall bless I know command child household shall keep way lord justice judgment lord may bring upon abraham hath speak lord say cry sodom gomorrah great sin grievous I go see whether altogether accord cry come unto I I know man turn face thence go toward sodom abraham stand yet lord abraham draw near say wilt thou also destroy righteous wicked peradventure fifty righteous within city wilt thou also destroy spare place fifty righteous therein far thee manner slay righteous wicked righteous wicked far thee shall judge earth right lord say I find sodom fifty righteous within city I spare place sake abraham answer say behold I take upon I speak unto lord dust ashe peradventure shall lack five fifty righteous wilt thou destroy city lack five say I find forty five I destroy spake unto yet say peradventure shall forty find say I fortys sake say unto oh let lord angry I speak peradventure shall thirty find say I I find thirty say behold I take upon I speak unto lord peradventure shall twenty find say I destroy twentys sake say oh let lord angry I speak yet peradventure ten shall find say I destroy ten sake lord go way soon leave commune abraham abraham return unto place come two angel sodom even lot sit gate sodom lot see rise meet bow face toward ground say behold lord turn I pray servant house tarry night wash foot ye shall rise early go way say nay abide street night press upon greatly turn unto enter house make feast bake unleavened bread eat lie man city even man sodom compass house round old young people every quarter call unto lot say unto man come thee night bring unto may know lot go door unto shut door say I pray brother wickedly behold I two daughter know man let I I pray bring unto ye good eye unto man nothing therefore come shadow roof say stand back say one fellow come sojourn need judge deal bad thee press sore upon man even lot come near break door man put forth hand pull lot house shut door smite man door house blindness small great weary find door man say unto lot hast thou besides son law thy son thy daughter whatsoever thou hast city bring place destroy place cry waxen great face lord lord hath send destroy lot go spake unto son law marry daughter say get place lord destroy city seem one mock unto son law morning arise angel hasten lot say arise take thy wife thy two daughter lest thou consume iniquity city linger man lay hold upon hand upon hand wife upon hand two daughter lord merciful unto bring forth set without city come pass bring forth abroad say escape thy life look behind thee neither stay thou plain escape mountain lest thou consume lot say unto oh lord behold thy servant hath find grace thy sight thou hast magnify thy mercy thou hast shew unto I save life I escape mountain lest evil take I I die behold city near flee unto little one oh let I escape thither little one soul shall live say unto see I accept thee concern thing also I overthrow city thou hast speak haste thee escape thither I anything till thou come thither therefore name city call zoar sun rise upon earth lot enter zoar lord rain upon sodom upon gomorrah brimstone fire lord heaven overthrow city plain inhabitant city grow upon ground wife look back behind become pillar salt abraham gat early morning place stand lord look toward sodom gomorrah toward land plain beheld lo smoke country go smoke furnace come pass god destroy city plain god remember abraham send lot midst overthrow overthrow city lot dwelt lot go zoar dwelt mountain two daughter fear dwell zoar dwelt cave two daughter firstborn say unto young father old man earth come unto manner earth come let make father drink wine lie may preserve seed father make father drink wine night firstborn go lie father perceive lie arise come pass morrow firstborn say unto young behold I lie yesternight father let make drink wine night also go thou lie may preserve seed father make father drink wine night also young arose lie perceive lie arise thus daughter lot child father first bear bare son call name moab father moabites unto day young also bare son call name benammi father child ammon unto day abraham journey thence toward south country dwell kadesh shur sojourn gerar abraham say sarah wife sister abimelech king gerar send take sarah god come abimelech dream night say behold thou art dead man woman thou hast take man wife abimelech come near say lord wilt thou slay also righteous nation say unto I sister even say brother integrity heart innocency hand I god say unto dream yea I know thou didst integrity thy heart I also withhold thee sin I therefore suffer I thee touch therefore restore man wife prophet shall pray thee thou shalt live thou restore know thou thou shalt surely die thou thine therefore abimelech rise early morning call servant tell thing ear man sore afraid abimelech call abraham say unto hast thou unto I offend thee thou hast bring I kingdom great sin thou hast deed unto I ought abimelech say unto abraham saw thou thou hast thing abraham say I think surely fear god place slay I wife sake yet indeed sister daughter father daughter mother become wife come pass god cause I wander father house I say unto thy kindness thou shalt shew unto I every place whither shall come say I brother abimelech take sheep oxen manservant womenservant give unto abraham restore sarah wife abimelech say behold land thee dwell pleaseth thee unto sarah say behold I give thy brother thousand piece silver behold thee covering eye unto thee thus reprove abraham pray unto god god heal abimelech wife maidservant bare child lord fast close womb house abimelech sarah abrahams wife lord visit sarah say lord unto sarah speak sarah conceived bare abraham son old age set time god speak abraham call name son bear unto sarah bare isaac abraham circumcise son isaac eight day old god command abraham hundred year old son isaac bear unto sarah say god hath make I laugh hear laugh I say would say unto abraham sarah give child suck I bear son old age child grow wean abraham make great feast day isaac wean sarah see son hagar egyptian bear unto abraham mock wherefore say unto abraham cast bondwoman son son bondwoman shall heir son even isaac thing grievous abraham sight son god say unto abraham let grievous thy sight lad thy bondwoman sarah hath say unto thee hearken unto voice isaac shall thy seed call also son bondwoman I make nation thy seed abraham rise early morning take bread bottle water give unto hagar put shoulder child send away depart wander wilderness beersheba water spend bottle cast child one shrub go sit good way bow shoot say let I see death child sit lift voice weep god hear voice lad angel god call hagar heaven say unto aileth thee hagar fear god hath hear voice lad arise lift lad hold thine hand I make great nation god open eye see well water go fill bottle water give lad drink god lad grow dwelt wilderness become archer dwelt wilderness paran mother take wife land egypt come pass time abimelech phichol chief captain host spake unto abraham say god thee thou doest therefore swear unto I god thou wilt deal falsely I son son son accord kindness I unto thee thou shalt unto I land wherein thou hast sojourn abraham say I swear abraham reprove abimelech well water abimelech servant violently take away abimelech say I wot hath thing neither didst thou tell I neither yet hear I day abraham take sheep oxen give unto abimelech make covenant abraham set seven ewe lamb flock abimelech say unto abraham mean seven ewe lamb thou hast set say seven ewe lamb shalt thou take hand may witness unto I I digge well wherefore call place beersheba sware thus make covenant beersheba abimelech rise phichol chief captain host return land philistines abraham plant grove beersheba call name lord everlasting god abraham sojourn philistines land many day come pass thing god tempt abraham say unto abraham say behold I say take thy son thine son isaac thou lov get thee land moriah offer burn offering upon one mountain I tell thee abraham rise early morning saddle ass take two young man isaac son clave wood burn offering rise go unto place god tell third day abraham lift eye see place afar abraham say unto young man abide ye ass I lad go yonder worship come abraham take wood burn offering lay upon isaac son take fire hand knife go together isaac spake unto abraham father say father say I son say behold fire wood lamb burn offering abraham say son god provide lamb burn offering go together come place god tell abraham build altar lay wood order bind isaac son lay altar upon wood abraham stretch forth hand take knife slay son angel lord call unto heaven say abraham abraham say say lie thine hand upon lad neither thou thing unto I know thou fearest god see thou hast withhold thy son thine son I abraham lift eye look behold behind ram catch thicket horn abraham go take ram offer burn offering stead son abraham call name place jehovahjireh say day mount lord shall see angel lord call unto abraham heaven second time say I swear saith lord thou hast thing hast withhold thy son thine son blessing I bless thee multiplying I multiply thy seed star heaven sand upon sea shore thy seed shall possess gate enemy thy seed shall nation earth bless thou hast obey voice abraham return unto young man rise go together beersheba abraham dwelt beersheba come pass thing tell abraham say behold milcah hath also bear child unto thy brother nahor huz firstborn buz brother kemuel father aram chese hazo pildash jidlaph bethuel bethuel begat rebekah eight milcah bear nahor abrahams brother concubine whose name reumah bare also tebah gaham thahash maachah sarah hundred seven twenty year old year life sarah sarah die kirjatharba hebron land canaan abraham come mourn sarah weep abraham stand dead spake unto son heth say I stranger sojourner give I possession buryingplace I may bury dead sight child heth answer abraham say unto hear lord thou art mighty prince among choice sepulchre bury thy dead none shall withhold thee sepulchre thou mayest bury thy dead abraham stand bow people land even child heth commune say mind I bury dead sight hear I intreat I ephron son zohar may give I cave machpelah hath end field much money worth shall give I possession buryingplace amongst ephron dwelt among child heth ephron hittite answer abraham audience child heth even go gate city say nay lord hear I field give I thee cave therein I give thee presence son people give I thee bury thy dead abraham bow people land spake unto ephron audience people land say thou wilt give I pray thee hear I I give thee money field take I I bury dead ephron answer abraham say unto lord hearken unto I land worth four hundred shekel silver betwixt I thee bury therefore thy dead abraham hearken unto ephron abraham weigh ephron silver name audience son heth four hundred shekel silver current money merchant field ephron machpelah mamre field cave therein tree field border round make sure unto abraham possession presence child heth go gate city abraham bury sarah wife cave field machpelah mamre hebron land canaan field cave therein make sure unto abraham possession buryingplace son heth abraham old well stricken age lord bless abraham thing abraham say unto eld servant house rule put I pray thee thy hand thigh I make thee swear lord god heaven god earth thou shalt take wife unto son daughter canaanite among I dwell thou shalt go unto country kindre take wife unto son isaac servant say unto peradventure woman willing follow I unto land must I need bring thy son unto land whence thou camest abraham say unto beware thou thou bring son thither lord god heaven take I father house land kindre spake unto I sware unto I say unto thy seed I give land shall send angel thee thou shalt take wife unto son thence woman willing follow thee thou shalt clear oath bring son thither servant put hand thigh abraham master sware concern matter servant take ten camel camel master depart good master hand arise go mesopotamia unto city nahor make camel kneel without city well water time evening even time woman go draw water say lord god master abraham I pray thee send I good speed day shew kindness unto master abraham behold I stand well water daughter man city come draw water let come pass damsel I shall say let thy pitcher I pray thee I may drink shall say drink I give thy camel drink also let thou hast appoint thy servant isaac thereby shall I know thou hast shew kindness unto master come pass speak behold rebekah come bear bethuel son milcah wife nahor abraham brother pitcher upon shoulder damsel fair look upon virgin neither man know go well fill pitcher come servant run meet say let I I pray thee drink little water thy pitcher say drink lord haste let pitcher upon hand give drink give drink say I draw water thy camel also drinking haste empty pitcher trough run unto well draw water draw camel man wonder hold peace wit whether lord make journey prosperous come pass camel drinking man take golden earring half shekel weight two bracelet hand ten shekel weight gold say whose daughter art thou tell I I pray thee room thy father house lodge say unto I daughter bethuel son milcah bare unto nahor say moreover unto straw provender enough room lodge man bow head worship lord say bless lord god master abraham hath leave destitute master mercy truth I way lord lead I house master brother damsel run tell mother house thing rebekah brother name laban laban run unto man unto well come pass see earring bracelet upon sister hand hear word rebekah sister say thus spake man unto I come unto man behold stand camel well say come thou bless lord wherefore stand thou without I prepare house room camel man come house ungirde camel give straw provender camel water wash foot men foot set meat eat say I eat I tell mine errand say speak say I abraham servant lord hath bless master greatly become great hath give flock herd silver gold manservant maidservant camel ass sarah master wife bare son master old unto hath give hath master make I swear say thou shalt take wife son daughter canaanite whose land I dwell thou shalt go unto father house kindre take wife unto son I say unto master peradventure woman follow I say unto I lord I walk send angel thee prosper thy way thou shalt take wife son kindre father house shalt thou clear oath thou com kindre give thee one thou shalt clear oath I come day unto well say lord god master abraham thou prosper way I go behold I stand well water shall come pass virgin cometh forth draw water I say give I I pray thee little water thy pitcher drink say I drink thou I also draw thy camel let woman lord hath appoint master son I speak mine heart behold rebekah come forth pitcher shoulder go unto well draw water I say unto let I drink I pray thee make haste let pitcher shoulder say drink I give thy camel drink also I drink make camel drink also I ask say whose daughter art thou say daughter bethuel nahor son milcah bare unto I put earring upon face bracelet upon hand I bow head worship lord bless lord god master abraham lead I right way take master brother daughter unto son ye deal kindly truly master tell I tell I I may turn right hand left laban bethuel answer say thing proceedeth lord speak unto thee bad good behold rebekah thee take go let thy master son wife lord hath spoken come pass abraham servant hear word worship lord bow earth servant bring forth jewel silver jewel gold raiment give rebekah give also brother mother precious thing eat drink man tarry night rise morning say send I away unto master brother mother say let damsel abide day least ten shall go say unto hinder I see lord hath prosper way send I away I may go master say call damsel enquire mouth call rebekah say unto wilt thou go man say I go send away rebekah sister nurse abraham servant man bless rebekah say unto thou art sister thou mother thousand million let thy seed possess gate hate rebekah arise damsel ride upon camel follow man servant take rebekah go way isaac come way well lahairoi dwelt south country isaac go meditate field eventide lift eye see behold camel come rebekah lift eye see isaac light camel say unto servant man walketh field meet servant say master therefore take vail cover servant tell isaac thing isaac bring mother sarahs tent take rebekah become wife love isaac comfort mother death abraham take wife name keturah bare zimran jokshan medan midian ishbak shuah jokshan begat sheba dedan son dedan asshurim letushim leummim son midian ephah epher hanoch abidah eldaah child keturah abraham give unto isaac unto son concubine abraham abraham give gift send away isaac son yet live eastward unto east country day year abraham life live hundred threescore fifteen year abraham give ghost die good old age old man full year gather people son isaac ishmael bury cave machpelah field ephron son zohar hittite mamre field abraham purchase son heth abraham bury sarah wife come pass death abraham god bless son isaac isaac dwelt well lahairoi generation ishmael abraham son hagar egyptian sarahs handmaid bare unto abraham name son ishmael name accord generation firstborn ishmael nebajoth kedar adbeel mibsam mishma dumah massa hadar tema jetur naphish kedemah son ishmael name town castle twelve prince accord nation year life ishmael hundred thirty seven year give ghost die gather unto people dwelt havilah unto shur egypt thou go toward assyria die presence brother generation isaac abraham son abraham begat isaac isaac forty year old take rebekah wife daughter bethuel syrian padanaram sister laban syrian isaac intreate lord wife barren lord intreate rebekah wife conceive child struggle together within say I thus go enquire lord lord say unto two nation thy womb two manner people shall separate thy bowel one people shall strong people elder shall serve young day deliver fulfil behold twin womb first come red like hairy garment call name esau come brother hand take hold esaus heel name call jacob isaac threescore year old bare boy grow esau cunning hunter man field jacob plain man dwell tent isaac love esau eat venison rebekah love jacob jacob sod pottage esau come field faint esau say jacob feed I I pray thee red pottage I faint therefore name call edom jacob say sell I day thy birthright esau say behold I point die profit shall birthright I jacob say swear I day sware unto sell birthright unto jacob jacob give esau bread pottage lentile eat drink rise go way thus esau despise birthright famine land beside first famine day abraham isaac go unto abimelech king philistines unto gerar lord appear unto say go egypt dwell land I shall tell thee sojourn land I thee bless thee unto thee unto thy seed I give country I perform oath I sware unto abraham thy father I make thy seed multiply star heaven give unto thy seed country thy seed shall nation earth bless abraham obey voice keep charge commandment statute law isaac dwelt gerar man place ask wife say sister fear say wife lest say man place kill I rebekah fair look upon come pass long time abimelech king philistines look window see behold isaac sport rebekah wife abimelech call isaac say behold surety thy wife saidst thou sister isaac say unto I say lest I die abimelech say thou hast unto one people might lightly lien thy wife thou bring guiltiness upon abimelech charge people say toucheth man wife shall surely put death isaac sow land receive year hundredfold lord bless man wax great go forward grow become great possession flock possession herd great store servant philistines envy well father servant digge day abraham father philistines stop fill earth abimelech say unto isaac go thou art much mightier isaac depart thence pitch tent valley gerar dwelt isaac digge well water digge day abraham father philistines stop death abraham call name name father call isaacs servant digge valley find well spring water herdman gerar strive isaacs herdman say water call name well esek strove digge another well strove also call name sitnah remove thence digge another well strove call name rehoboth say lord hath make room shall fruitful land go thence beersheba lord appear unto night say I god abraham thy father fear I thee bless thee multiply thy seed servant abraham sake build altar call upon name lord pitch tent isaacs servant digge well abimelech go gerar ahuzzath one friend phichol chief captain army isaac say unto wherefore come ye I see ye hate I send I away say see certainly lord thee say let oath betwixt even betwixt thee let make covenant thee thou wilt hurt touch thee unto thee nothing good send thee away peace thou art bless lord make feast eat drink rise betime morning sware one another isaac send away depart peace come pass day isaacs servant come tell concern well digge say unto find water call shebah therefore name city beersheba unto day esau forty year old take wife judith daughter beeri hittite bashemath daughter elon hittite grief mind unto isaac rebekah come pass isaac old eye dim could see call esau eld son say unto son say unto behold say behold I old I know day death therefore take I pray thee thy weapon thy quiver thy bow go field take I venison make I savoury meat I love bring I I may eat soul may bless thee I die rebekah hear isaac spake esau son esau go field hunt venison bring rebekah spake unto jacob son say behold I hear thy father speak unto esau thy brother say bring I venison make I savoury meat I may eat bless thee lord death therefore son obey voice accord I command thee go flock fetch I thence two good kid goat I make savoury meat thy father loveth thou shalt bring thy father may eat may bless thee death jacob say rebekah mother behold esau brother hairy man I smooth man father peradventure feel I I shall seem deceiver I shall bring curse upon I blessing mother say unto upon I thy curse son obey voice go fetch I go fetch bring mother mother make savoury meat father love rebekah take goodly raiment eld son esau house put upon jacob young son put skin kid goat upon hand upon smooth neck give savoury meat bread prepare hand son jacob come unto father say father say I art thou son jacob say unto father I esau thy first bear I accord thou bad I arise I pray thee sit eat venison thy soul may bless I isaac say unto son thou hast find quickly son say lord thy god bring I isaac say unto jacob come near I pray thee I may feel thee son whether thou son esau jacob go near unto isaac father feel say voice jacobs voice hand hand esau discern hand hairy brother esaus hand bless say art thou son esau say I say bring near I I eat son venison soul may bless thee bring near eat bring wine drank father isaac say unto come near kiss I son come near kiss smell smell raiment bless say see smell son smell field lord hath bless therefore god give thee dew heaven fatness earth plenty corn wine let people serve thee nation bow thee lord thy brother let thy mother son bow thee curse every one curseth thee bless blesseth thee come pass soon isaac make end blessing jacob jacob yet scarce go presence isaac father esau brother come hunting also make savoury meat bring unto father say unto father let father arise eat son venison thy soul may bless I isaac father say unto art thou say I thy son thy firstborn esau isaac tremble exceedingly say hath take venison bring I I eat thou camest bless yea shall bless esau hear word father cry great exceed bitter cry say unto father bless I even I also father say thy brother come subtilty hath take away thy blessing say rightly name jacob hath supplant I two time take away birthright behold hath take away blessing say hast thou reserve blessing I isaac answer say unto esau behold I make thy lord brother I give servant corn wine I sustain shall I unto thee son esau say unto father hast thou one blessing father bless I even I also father esau lift voice weep isaac father answer say unto behold thy dwelling shall fatness earth dew heaven thy sword shalt thou live shalt serve thy brother shall come pass thou shalt dominion thou shalt break yoke thy neck esau hate jacob blessing wherewith father bless esau say heart day mourning father hand I slay brother jacob word esau eld son tell rebekah send call jacob young son say unto behold thy brother esau touch thee doth comfort purpose kill thee therefore son obey voice arise flee thou laban brother haran tarry day thy brother fury turn away thy brother anger turn away thee forget thou hast I send fetch thee thence I deprive also one day rebekah say isaac I weary life daughter heth jacob take wife daughter heth daughter land good shall life I isaac call jacob bless charge say unto thou shalt take wife daughter canaan arise go padanaram house bethuel thy mother father take thee wife thence daugher laban thy mother brother god almighty bless thee make thee fruitful multiply thee thou mayest multitude people give thee blessing abraham thee thy seed thee thou mayest inherit land wherein thou art stranger god give unto abraham isaac send away jacob go padanaram unto laban son bethuel syrian brother rebekah jacobs esaus mother esau see isaac bless jacob send away padanaram take wife thence bless give charge say thou shalt take wife daugher canaan jacob obey father mother go padanaram esau see daughter canaan please isaac father go esau unto ishmael take unto wife mahalath daughter ishmael abrahams son sister nebajoth wife jacob go beersheba go toward haran light upon certain place tarry night sun set take stone place put pillow lie place sleep dream behold ladder set earth top reach heaven behold angel god ascend descend behold lord stand say I lord god abraham thy father god isaac land whereon thou liest thee I give thy seed thy seed shall dust earth thou shalt spread abroad west east north south thee thy seed shall family earth bless behold I thee keep thee place whither thou goest bring thee land I leave thee I I speak thee jacob awake sleep say surely lord place I know afraid say dreadful place none house god gate heaven jacob rise early morning take stone put pillow set pillar pour oil upon top call name place bethel name city call luz first jacob vow vow say god I keep I way I go give I bread eat raiment put I come father house peace shall lord god stone I set pillar shall god house thou shalt give I I surely give tenth unto thee jacob go journey come land people east look behold well field lo three flock sheep lie well water flock great stone upon wells mouth thither flock gather roll stone wells mouth water sheep put stone upon wells mouth place jacob say unto brother whence ye say haran say unto know ye laban son nahor say know say unto well say well behold rachel daughter cometh sheep say lo yet high day neither time cattle gather together water ye sheep go feed say flock gather together till roll stone wells mouth water sheep yet spake rachel come father sheep keep come pass jacob see rachel daughter laban mother brother sheep laban mother brother jacob go near roll stone wells mouth water flock laban mother brother jacob kissed rachel lift voice weep jacob tell rachel father brother rebekahs son run tell father come pass laban hear tiding jacob sister son run meet embrace kiss bring house tell laban thing laban say surely thou art bone flesh abode space month laban say unto jacob thou art brother shouldest thou therefore serve I nought tell I shall thy wage laban two daughter name elder leah name young rachel leah tender eye rachel beautiful well favour jacob love rachel say I serve thee seven year rachel thy young daughter laban say well I give thee I give another man abide I jacob serve seven year rachel seem unto day love jacob say unto laban give I wife day fulfil I may go unto laban gather together man place make feast come pass evening take leah daughter bring go unto laban give unto daughter leah zilpah maid handmaid come pass morning behold leah say laban thou hast unto I I serve thee rachel wherefore hast thou beguile I laban say must country give young firstborn fulfil week give thee also service thou shalt serve I yet seven year jacob fulfil week give rachel daughter wife also laban give rachel daughter bilhah handmaid maid go also unto rachel love also rachel leah serve yet seven year lord see leah hate open womb rachel barren leah conceive bare son call name reuben say surely lord hath look upon affliction therefore husband love I conceive bare son say lord hath hear I hate hath therefore give I son also call name simeon conceive bare son say time husband join unto I I bear three son therefore name call levi conceive bare son say I praise lord therefore call name judah leave bearing rachel see bare jacob child rachel envy sister say unto jacob give I child else I die jacobs anger kindle rachel say I god stead hath withhold thee fruit womb say behold maid bilhah go unto shall bear upon knee I may also child give bilhah handmaid wife jacob go unto bilhah conceive bare jacob son rachel say god hath judge I hath also hear voice hath give I son therefore call name dan bilhah rachel maid conceive bare jacob second son rachel say great wrestling I wrestle sister I prevail call name naphtali leah see leave bearing take zilpah maid give jacob wife zilpah leah maid bare jacob son leah say troop cometh call name gad zilpah leah maid bare jacob second son leah say happy I daughter call I bless call name asher reuben go day wheat harvest find mandrake field bring unto mother leah rachel say leah give I I pray thee thy son mandrake say unto small matter thou hast take husband would thou take away son mandrake also rachel say therefore shall lie thee night thy son mandrake jacob come field evening leah go meet say thou must come unto I surely I hire thee son mandrake lie night god hearken unto leah conceive bare jacob fifth son leah say god hath give I hire I give maiden husband call name issachar leah conceive bare jacob sixth son leah say god hath endue I good dowry husband dwell I I bear six son call name zebulun afterwards bare daughter call name dinah god remember rachel god hearken open womb conceive bare son say god hath take away reproach call name joseph say lord shall add I another son come pass rachel bear joseph jacob say unto laban send I away I may go unto mine place country give I wife child I serve thee let I go thou knowest service I thee laban say unto I pray thee I find favour thine eye tarry I learn experience lord hath bless I thy sake say appoint I thy wage I give say unto thou know I serve thee thy cattle I little thou hadst I come increase unto multitude lord hath bless thee since coming shall I provide mine house also say shall I give thee jacob say thou shalt give I thing thou wilt thing I I feed keep thy flock I pass thy flock day remove thence speckled spotted cattle brown cattle among sheep spot speckle among goat shall hire shall righteousness answer I time come shall come hire thy face every one speckle spot among goat brown among sheep shall count steal I laban say behold I would might accord thy word remove day goat ringstrake spot goat speckle spot every one white brown among sheep give hand son set three day journey betwixt jacob jacob feed rest laban flock jacob take rod green poplar hazel chesnut tree pille white strake make white appear rod set rod pille flock gutter watering troughs flock come drink conceive come drink flock conceive rod bring forth cattle ringstrake speckle spot jacob separate lamb set face flock toward ringstrake brown flock laban put flock put unto laban cattle come pass whensoever strong cattle conceive jacob lay rod eye cattle gutter might conceive among rod cattle feeble put feebler laban strong jacob man increase exceedingly much cattle maidservant manservant camel ass hear word laban son say jacob hath take away father father hath get glory jacob behold countenance laban behold toward lord say unto jacob return unto land thy father thy kindre I thee jacob send call rachel leah field unto flock say unto I see father countenance toward I god father hath I ye know power I serve father father hath deceive I change wage ten time god suffer hurt I say thus speckled shall thy wage cattle bare speckle say thus ringstrake shall thy hire bare cattle ringstrake thus god hath take away cattle father give I come pass time cattle conceive I lift mine eye see dream behold ram leap upon cattle ringstrake speckle grisle angel god spake unto I dream say jacob I say say lift thine eye see ram leap upon cattle ringstrake speckled grisle I see laban doeth unto thee I god bethel thou anointedst pillar thou vowedst vow unto I arise get thee land return unto land thy kindre rachel leah answer say unto yet portion inheritance father house count stranger hath sell hath quite devour also money rich god hath take father children whatsoever god hath say unto thee jacob rise set son wife upon camel carry away cattle good get cattle getting get padanaram go isaac father land canaan laban go shear sheep rachel steal image father jacob steal away unawares laban syrian tell flee flee rise pass river set face toward mount gilead tell laban third day jacob flee take brother pursue seven day journey overtook mount gilead god come laban syrian dream night say unto take heed thou speak jacob either good bad laban overtake jacob jacob pitch tent mount laban brother pitch mount gilead laban say jacob hast thou thou hast steal away unawares I carry away daughter captive take sword wherefore didst thou flee away secretly steal away I didst tell I I might send thee away mirth song tabret harp hast suffer I kiss son daughter thou hast foolishly power hand hurt god father spake unto I yesternight say take thou heed thou speak jacob either good bad though thou would need go thou sore longedst thy father house yet wherefore hast thou steal god jacob answer say laban I afraid I say peradventure thou wouldest take force thy daughter I whomsoever thou find thy god let live brother discern thou thine I take thee jacob know rachel steal laban go jacobs tent leah tent two maidservant tent find go leahs tent enter rachel tent rachel take image put camel furniture sit upon laban search tent find say father let displease lord I rise thee custom woman upon I search find image jacob wroth chode laban jacob answer say laban trespass sin thou hast hotly pursue I whereas thou hast search stuff hast thou find thy household stuff set brother thy brother may judge betwixt twenty year I thee thy ewe thy goat cast young ram thy flock I eat tear beast I bring unto thee I bare loss hand didst thou require whether steal day steal night thus I day drought consume I frost night sleep depart mine eye thus I twenty year thy house I serve thee fourteen year thy two daughter six year thy cattle thou hast change wage ten time except god father god abraham fear isaac I surely thou hadst send I away empty god hath see mine affliction labour hand rebuke thee yesternight laban answer say unto jacob daughter daughter child child cattle cattle thou se mine I day unto daughter unto child bear therefore come thou let make covenant I thou let witness I thee jacob take stone set pillar jacob say unto brother gather stone take stone make heap eat upon heap laban call jegarsahadutha jacob call galeed laban say heap witness I thee day therefore name call galeed mizpah say lord watch I thee absent one another thou shalt afflict daughter thou shalt take wife beside daughter man see god witness betwixt I thee laban say jacob behold heap behold pillar I cast betwixt I thee heap witness pillar witness I pass heap thee thou shalt pass heap pillar unto I harm god abraham god nahor god father judge betwixt jacob sware fear father isaac jacob offer sacrifice upon mount call brother eat bread eat bread tarry night mount early morning laban rise kiss son daughter bless laban depart return unto place jacob go way angel god meet jacob see say god host call name place mahanaim jacob send messenger esau brother unto land seir country edom command say thus shall ye speak unto lord esau thy servant jacob saith thus I sojourn laban stay I oxen ass flock manservant womenservant I send tell lord I may find grace thy sight messenger return jacob say come thy brother esau also cometh meet thee four hundred man jacob greatly afraid distressed divide people flock herd camel two band say esau come one company smite company leave shall escape jacob say god father abraham god father isaac lord saidst unto I return unto thy country thy kindre I deal well thee I worthy least mercy truth thou hast shew unto thy servant staff I pass jordan I become two band deliver I I pray thee hand brother hand esau I fear lest come smite I mother child thou saidst I surely thee good make thy seed sand sea number multitude lodge night take come hand present esau brother two hundred goat twenty goat two hundred ewe twenty ram thirty milch camel colt forty kine ten bull twenty asse ten foal deliver hand servant every drive say unto servant pass I put space betwixt drive drive command foremost say esau brother meeteth thee asketh thee say whose art thou whither go thou whose thee thou shalt say thy servant jacob present send unto lord esau behold also behind command second third follow drove say manner shall ye speak unto esau ye find say ye moreover behold thy servant jacob behind say I appease present goeth I afterward I see face peradventure accept I go present lodge night company rise night take two wife two womenservant eleven son pass ford jabbok take send brook send jacob leave alone wrestle man breaking day see prevail touch hollow thigh hollow jacobs thigh joint wrestle say let I go day breaketh say I let thee go except thou bless I say unto thy name say jacob say thy name shall call jacob israel prince hast thou power god man hast prevail jacob ask say tell I I pray thee thy name say wherefore thou dost ask name bless jacob call name place peniel I see god face face life preserve pass penuel sun rise upon halt upon thigh therefore child israel eat sinew shrink upon hollow thigh unto day touch hollow jacobs thigh sinew shrink jacob lift eye look behold esau come four hundred man divide child unto leah unto rachel unto two handmaid put handmaid child foremost leah child rachel joseph hindermost pass bow ground seven time come near brother esau run meet embrace fall neck kiss weep lift eye see woman child say thee say child god hath graciously give thy servant handmaiden come near child bow leah also child come near bow come joseph near rachel bow say mean thou drove I meet say find grace sight lord esau say I enough brother keep thou hast unto thyself jacob say nay I pray thee I find grace thy sight receive present hand therefore I see thy face though I see face god thou wast please I take I pray thee blessing bring thee god hath deal graciously I I enough urge take say let take journey let go I go thee say unto lord knoweth child tender flock herd young I man overdrive one day flock die let lord I pray thee pass servant I lead softly accord cattle goeth I child able endure I come unto lord unto seir esau say let I leave thee folk I say needeth let I find grace sight lord esau return day way unto seir jacob journey succoth build house make booth cattle therefore name place call succoth jacob come shalem city shechem land canaan come padanaram pitch tent city buy parcel field spread tent hand child hamor shechem father hundred piece money erect altar call eleloheisrael dinah daughter leah bare unto jacob go see daughter land shechem son hamor hivite prince country see take lie defile soul clave unto dinah daughter jacob love damsel spake kindly unto damsel shechem spake unto father hamor say get I damsel wife jacob hear defile dinah daughter son cattle field jacob hold peace come hamor father shechem go unto jacob commune son jacob come field hear man grieve wroth work folly israel lie jacobs daughter thing ought hamor commune say soul son shechem longeth daughter I pray give wife make ye marriage give daughter unto take daughter unto ye shall dwell land shall dwell trade ye therein get possession therein shechem say unto father unto brother let I find grace eye ye shall say unto I I give ask I never much dowry gift I give accord ye shall say unto I give I damsel wife son jacob answer shechem hamor father deceitfully say defile dinah sister say unto thing give sister one uncircumcised reproach unto consent unto ye every male circumcise give daughter unto take daughter dwell become one people ye hearken unto circumcise take daughter go word please hamor shechem hamor son young man defer thing delight jacobs daughter honourable house father hamor shechem son come unto gate city commune man city say man peaceable therefore let dwell land trade therein land behold large enough let take daughter wife let give daughter herein man consent unto dwell one people every male among circumcise circumcise shall cattle substance every beast let consent unto dwell unto hamor unto shechem son hearken go gate city every male circumcise go gate city come pass third day sore two son jacob simeon levi dinah brother take man sword come upon city boldly slew male slew hamor shechem son edge sword take dinah shechem house go son jacob come upon slain spoil city defile sister take sheep oxen ass city field wealth little one wife take captive spoil even house jacob say simeon levi ye trouble I make I stink among inhabitant land among canaanite perizzite I number shall gather together I slay I I shall destroy I house say deal sister harlot god say unto jacob arise go bethel dwell make altar unto god appear unto thee thou fleddest face esau thy brother jacob say unto household put away strange god among clean change garment let arise go bethel I make altar unto god answer I day distress I way I go give unto jacob strange god hand earring ear jacob hide oak shechem journey terror god upon city round pursue son jacob jacob come luz land canaan bethel people build altar call place elbethel god appear unto flee face brother deborah rebekahs nurse die bury beneath bethel oak name call allonbachuth god appear unto jacob come padanaram bless god say unto thy name jacob thy name shall call jacob israel shall thy name call name israel god say unto I god almighty fruitful multiply nation company nation shall thee king shall come thy loin land I give abraham isaac thee I give thy seed thee I give land god go place talk jacob set pillar place talk even pillar stone pour drink offer thereon pour oil thereon jacob call name place god spake bethel journey bethel little way come ephrath rachel travail hard labour come pass hard labour midwife say unto fear thou shalt son also come pass soul depart die call name benoni father call benjamin rachel die bury way ephrath bethlehem jacob set pillar upon grave pillar rachel grave unto day israel journey spread tent beyond tower edar come pass israel dwelt land reuben go lie bilhah father concubine israel hear son jacob twelve son leah reuben jacobs firstborn simeon levi judah issachar zebulun son rachel joseph benjamin son bilhah rachel handmaid dan naphtali son zilpah leahs handmaid gad asher son jacob bear padanaram jacob come unto isaac father unto mamre unto city arbah hebron abraham isaac sojourn day isaac hundred fourscore year isaac give ghost die gather unto people old full day son esau jacob bury generation esau edom esau take wife daughter canaan adah daughter elon hittite aholibamah daughter anah daughter zibeon hivite bashemath ishmaels daughter sister nebajoth adah bare esau eliphaz bashemath bare reuel aholibamah bare jeush jaalam korah son esau bear unto land canaan esau take wife son daughter person house cattle beast substance get land canaan go country face brother jacob rich might dwell together land wherein stranger could bear cattle thus dwelt esau mount seir esau edom generation esau father edomite mount seir name esaus son eliphaz son adah wife esau reuel son bashemath wife esau son eliphaz teman omar zepho gatam kenaz timna concubine eliphaz esaus son bare eliphaz amalek son adah esaus wife son reuel nahath zerah shammah mizzah son bashemath esaus wife son aholibamah daughter anah daughter zibeon esaus wife bare esau jeush jaalam korah duke son esau son eliphaz firstborn son esau duke teman duke omar duke zepho duke kenaz duke korah duke gatam duke amalek duke come eliphaz land edom son adah son reuel esaus son duke nahath duke zerah duke shammah duke mizzah duke come reuel land edom son bashemath esaus wife son aholibamah esaus wife duke jeush duke jaalam duke korah duke come aholibamah daughter anah esaus wife son esau edom duke son seir horite inhabit land lotan shobal zibeon anah dishon ezer dishan duke horite child seir land edom child lotan hori hemam lotan sister timna child shobal alvan manahath ebal shepho onam child zibeon ajah anah anah find mule wilderness feed ass zibeon father child anah dishon aholibamah daughter anah child dishon hemdan eshban ithran cheran child ezer bilhan zaavan akan child dishan uz aran duke come horite duke lotan duke shobal duke zibeon duke anah duke dishon duke ezer duke dishan duke come hori among duke land seir king reign land edom reign king child israel bela son beor reign edom name city dinhabah bela die jobab son zerah bozrah reign stead jobab die husham land temani reign stead husham die hadad son bedad smite midian field moab reign stead name city avith hadad die samlah masrekah reign stead samlah die saul rehoboth river reign stead saul die baalhanan son achbor reign stead baalhanan son achbor die hadar reign stead name city pau wife name mehetabel daughter matred daughter mezahab name duke come esau accord family place name duke timnah duke alvah duke jetheth duke aholibamah duke elah duke pinon duke kenaz duke teman duke mibzar duke magdiel duke iram duke edom accord habitation land possession esau father edomite jacob dwelt land wherein father stranger land canaan generation jacob joseph seventeen year old feed flock brother lad son bilhah son zilpah father wife joseph bring unto father evil report israel love joseph child son old age make coat many colour brother see father love brother hate could speak peaceably unto joseph dream dream tell brother hate yet say unto hear I pray dream I dream behold bind sheaf field lo sheaf arise also stand upright behold sheaf stand round make obeisance sheaf brother say shalt thou indeed reign shalt thou indeed dominion hate yet dream word dream yet another dream tell brother say behold I dream dream behold sun moon eleven star make obeisance I tell father brother father rebuke say unto dream thou hast dream shall thy mother thy brother indeed come bow thee earth brother envy father observe saying brother go feed father flock shechem israel say unto joseph thy brother feed flock shechem come I send thee unto say say go I pray thee see whether well thy brother well flock bring I word send vale hebron come shechem certain man find behold wander field man ask say seek thou say I seek brother tell I I pray thee feed flock man say depart hence I hear say let go dothan joseph go brother find dothan see afar even come near unto conspire slay say one another behold dreamer cometh come therefore let slay cast pit say evil beast hath devour shall see become dream reuben hear deliver hand say let kill reuben say unto shed blood cast pit wilderness lie hand upon might rid hand deliver father come pass joseph come unto brother stript joseph coat coat many colour take cast pit pit empty water sit eat bread lift eye look behold company ishmeelite come gilead camel bear spicery balm myrrh go carry egypt judah say unto brother profit slay brother conceal blood come let sell ishmeelite let hand upon brother flesh brother content pass midianites merchantman draw lift joseph pit sell joseph ishmeelite twenty piece silver bring joseph egypt reuben return unto pit behold joseph pit rent clothe return unto brother say child whither shall I go take josephs coat kill kid goat dip coat blood send coat many colour bring father say find know whether thy son coat know say son coat evil beast hath devour joseph without doubt rent piece jacob rent clothe put sackcloth upon loin mourn son many day son daughter rise comfort refuse comfort say I go grave unto son mourn thus father weep midianite sell egypt unto potiphar officer pharaohs captain guard come pass time judah go brother turn certain adullamite whose name hirah judah see daughter certain canaanite whose name shuah take go unto conceive bare son call name er conceive bare son call name onan yet conceive bare son call name shelah chezib bare judah take wife er firstborn whose name tamar er judahs firstborn wicked sight lord lord slay judah say unto onan go unto thy brother wife marry raise seed thy brother onan know seed come pass go unto brother wife spill ground lest give seed brother thing displease lord wherefore slew also say judah tamar daughter law remain widow thy father house till shelah son grow say lest peradventure die also brother tamar go dwelt father house process time daughter shuah judahs wife die judah comfort go unto sheepshearer timnath friend hirah adullamite tell tamar say behold thy father law goeth timnath shear sheep put widow garment cover vail wrap sit open place way timnath see shelah grow give unto wife judah see think harlot cover face turn unto way say go I pray thee let I come unto thee know daughter law say wilt thou give I thou mayest come unto I say I send thee kid flock say wilt thou give I pledge till thou send say pledge shall I give thee say thy signet thy bracelet thy staff thine hand give come unto conceive arise go away lay vail put garment widowhood judah send kid hand friend adullamite receive pledge womans hand find ask man place say harlot openly way side say harlot place return judah say I find also man place say harlot place judah say let take lest shame behold I send kid thou hast find come pass three month tell judah say tamar thy daughter law hath play harlot also behold child whoredom judah say bring forth let burn bring forth send father law say man whose I child say discern I pray thee whose signet bracelet staff judah acknowledge say hath righteous I I give shelah son know come pass time travail behold twin womb come pass travail one put hand midwife take bind upon hand scarlet thread say come first come pass draw back hand behold brother come say hast thou break forth breach upon thee therefore name call pharez afterward come brother scarlet thread upon hand name call zarah joseph bring egypt potiphar officer pharaoh captain guard egyptian buy hand ishmeelite bring thither lord joseph prosperous man house master egyptian master see lord lord make prosper hand joseph find grace sight serve make overseer house put hand come pass time make overseer house lord bless egyptians house josephs sake blessing lord upon house field leave josephs hand know ought save bread eat joseph goodly person well favour come pass thing master wife cast eye upon joseph say lie I refuse say unto master wife behold master wotteth I house hath commit hath hand none great house I neither hath keep back thing I thee thou art wife I great wickedness sin god come pass spake joseph day day hearken unto lie come pass time joseph go house business none man house within catch garment say lie I leave garment hand flee get come pass see leave garment hand flee forth call unto man house spake unto say see hath bring hebrew unto mock come unto I lie I I cry loud voice come pass hear I lift voice cry leave garment I flee get lay garment lord come home spake unto accord word say hebrew servant thou hast bring unto come unto I mock I come pass I lift voice cry leave garment I flee come pass master hear word wife spake unto say manner thy servant I wrath kindle josephs master take put prison place king prisoner bind prison lord joseph shew mercy give favour sight keeper prison keeper prison commit josephs hand prisoner prison whatsoever doer keeper prison look thing hand lord lord make prosper come pass thing butler king egypt baker offend lord king egypt pharaoh wroth two officer chief butler chief baker put ward house captain guard prison place joseph bind captain guard charge joseph serve continue season ward dream dream man dream one night man accord interpretation dream butler baker king egypt bind prison joseph come unto morning look upon behold sad ask pharaohs officer ward lord house say wherefore look ye sadly day say unto dream dream interpreter joseph say unto interpretation belong god tell I I pray chief butler tell dream joseph say dream behold vine I vine three branch though bud blossom shoot forth cluster thereof bring forth ripe grape pharaohs cup hand I take grape press pharaohs cup I give cup pharaohs hand joseph say unto interpretation three branch three day yet within three day shall pharaoh lift thine head restore thee unto thy place thou shalt deliver pharaohs cup hand former manner thou wast butler think I shall well thee shew kindness I pray thee unto I make mention I unto pharaoh bring I house indeed I steal away land hebrew also I nothing put I dungeon chief baker see interpretation good say unto joseph I also dream behold I three white basket head uppermost basket manner bakemeat pharaoh bird eat basket upon head joseph answer say interpretation thereof three basket three day yet within three day shall pharaoh lift thy head thee shall hang thee tree bird shall eat thy flesh thee come pass third day pharaohs birthday make feast unto servant lift head chief butler chief baker among servant restore chief butler unto butlership give cup pharaohs hand hang chief baker joseph interpret yet chief butler remember joseph forgat come pass end two full year pharaoh dream behold stand river behold come river seven well favour kine fatfleshe feed meadow behold seven kine come river ill favour leanfleshed stand kine upon brink river ill favour leanfleshed kine eat seven well favour fat kine pharaoh awoke sleep dream second time behold seven ear corn come upon one stalk rank good behold seven thin ear blast east wind spring seven thin ear devour seven rank full ear pharaoh awoke behold dream come pass morning spirit troubled send call magician egypt wise man thereof pharaoh tell dream none could interpret unto pharaoh spake chief butler unto pharaoh say I remember fault day pharaoh wroth servant put I ward captain guard house I chief baker dream dream one night I dream man accord interpretation dream young man hebrew servant captain guard tell interpret dream man accord dream interpret come pass interpret I restore unto mine office hang pharaoh send call joseph bring hastily dungeon shave change raiment come unto pharaoh pharaoh say unto joseph I dream dream none interpret I hear say thee thou canst understand dream interpret joseph answer pharaoh say I god shall give pharaoh answer peace pharaoh say unto joseph dream behold I stand upon bank river behold come river seven kine fatfleshe well favour feed meadow behold seven kine come poor ill favour leanfleshe I never see land egypt badness lean ill favour kine eat first seven fat kine eat could know eat still ill favour beginning I awake I see dream behold seven ear come one stalk full good behold seven ear withered thin blast east wind spring thin ear devour seven good ear I tell unto magician none could declare I joseph say unto pharaoh dream pharaoh one god hath shew pharaoh seven good kine seven year seven good ear seven year dream one seven thin ill favour kine come seven year seven empty ear blast east wind shall seven year famine thing I speak unto pharaoh god sheweth unto pharaoh behold come seven year great plenty throughout land egypt shall arise seven year famine plenty shall forget land egypt famine shall consume land plenty shall know land reason famine follow shall grievous dream double unto pharaoh twice thing establish god god shortly bring pass therefore let pharaoh look man discreet wise set land egypt let pharaoh let appoint officer land take fifth part land egypt seven plenteous year let gather food good year come lie corn hand pharaoh let keep food city food shall store land seven year famine shall land egypt land perish famine thing good eye pharaoh eye servant pharaoh say unto servant find one man spirit god pharaoh say unto joseph forasmuch god hath shew thee none discreet wise thou art thou shalt house accord unto thy word shall people rule throne I great thou pharaoh say unto joseph see I set thee land egypt pharaoh take ring hand put upon josephs hand array vesture fine linen put gold chain neck make ride second chariot cry bow knee make ruler land egypt pharaoh say unto joseph I pharaoh without thee shall man lift hand foot land egypt pharaoh call josephs name zaphnathpaaneah give wife asenath daughter potipherah priest joseph go land egypt joseph thirty year old stand pharaoh king egypt joseph go presence pharaoh go throughout land egypt seven plenteous year earth bring forth handful gather food seven year land egypt lay food city food field round every city lay joseph gather corn sand sea much leave numbering without number unto joseph bear two son year famine come asenath daughter potipherah priest bare unto joseph call name firstborn manasseh god say hath make I forget toil father house name second call ephraim god hath cause I fruitful land affliction seven year plenteousness land egypt end seven year dearth begin come accord joseph say dearth land land egypt bread land egypt famish people cry pharaoh bread pharaoh say unto egyptians go unto joseph saith famine face earth joseph open storehouse sell unto egyptians famine wax sore land egypt country come egypt joseph buy corn famine sore land jacob see corn egypt jacob say unto son ye look one upon another say behold I hear corn egypt get thither buy thence may live die josephs ten brother go buy corn egypt benjamin josephs brother jacob send brother say lest peradventure mischief befall son israel come buy corn among come famine land canaan joseph governor land sell people land josephs brother come bow face earth joseph see brother know make strange unto spake roughly unto say unto whence come ye say land canaan buy food joseph know brother know joseph remember dream dream say unto ye spy see nakedness land ye come say unto nay lord buy food thy servant come one man son true man thy servant spy say unto nay see nakedness land ye come say thy servant twelve brother son one man land canaan behold young day father one joseph say unto I spake unto say ye spy hereby ye shall prove life pharaoh ye shall go forth hence except young brother come hither send one let fetch brother ye shall keep prison word may prove whether truth else life pharaoh surely ye spy put together ward three day joseph say unto third day live I fear god ye true man let one brother bind house prison go ye carry corn famine house bring young brother unto I shall word verify ye shall die say one another verily guilty concern brother see anguish soul besought would hear therefore distress come upon reuben answer say spake I unto say sin child ye would hear therefore behold also blood require know joseph understand spake unto interpreter turn weep return commune take simeon bind eye joseph command fill sack corn restore every man money sack give provision way thus unto lade ass corn depart thence one open sack give ass provender inn espy money behold sack mouth say unto brother money restore lo even sack heart fail afraid say one another god hath unto come unto jacob father unto land canaan tell befell unto say man lord land spake roughly take spy country say unto true man spy twelve brother son father one young day father land canaan man lord country say unto hereby shall I know ye true man leave one brother I take food famine household go bring young brother unto I shall I know ye spy ye true man I deliver brother ye shall traffick land come pass empty sack behold every man bundle money sack father see bundle money afraid jacob father say unto I ye bereave child joseph simeon ye take benjamin away thing I reuben spake unto father say slay two son I bring thee deliver hand I bring thee say son shall go brother dead leave alone mischief befall way ye go shall ye bring gray hair sorrow grave famine sore land come pass eat corn bring egypt father say unto go buy little food judah spake unto say man solemnly protest unto say ye shall see face except brother thou wilt send brother go buy thee food thou wilt send go man say unto ye shall see face except brother israel say wherefore deal ye ill I tell man whether ye yet brother say man ask straitly state kindre say father yet alive ye another brother tell accord tenor word could certainly know would say bring brother judah say unto israel father send lad I arise go may live die thou also little one I surety hand shalt thou require I bring unto thee set thee let I bear blame ever except linger surely return second time father israel say unto must take good fruit land vessel carry man present little balm little honey spice myrrh nut almond take double money hand money bring mouth sack carry hand peradventure oversight take also brother arise go unto man god almighty give mercy man may send away brother benjamin I bereave child I bereave man take present take double money hand benjamin rise go egypt stand joseph joseph see benjamin say ruler house bring man home slay make ready man shall dine I noon man joseph bade man bring man josephs house man afraid bring josephs house say money return sack first time bring may seek occasion fall upon take bondman ass come near steward josephs house commune door house say sir come indeed first time buy food come pass come inn open sack behold every man money mouth sack money full weight bring hand money bring hand buy food tell put money sack say peace fear god god father hath give treasure sack I money bring simeon unto man bring man josephs house give water wash foot give ass provender make ready present joseph come noon hear eat bread joseph come home bring present hand house bow earth ask welfare say father well old man ye spake yet alive answer thy servant father good health yet alive bow head make obeisance lift eye see brother benjamin mother son say young brother ye spake unto I say god gracious unto thee son joseph make haste bowel yearn upon brother seek weep enter chamber weep wash face go refrain say set bread set egyptians eat egyptians might eat bread hebrew abomination unto egyptians sit firstborn accord birthright young accord youth man marvel one another take send mess unto benjamin mess five time much drink merry command steward house say fill men sack food much carry put every man money sack mouth put cup silver cup sack mouth young corn money accord word joseph speak soon morning light man send away ass go city yet far joseph say unto steward follow man thou dost overtake say unto wherefore ye reward evil good lord drinketh whereby indeed divineth ye evil overtook spake unto word say unto wherefore saith lord word god forbid thy servant accord thing behold money find sack mouth bring unto thee land canaan steal thy lords house silver gold whomsoever thy servant find let die also lord bondman say also let accord unto word find shall servant ye shall blameless speedily take every man sack ground open every man sack search begin eld leave young cup find benjamins sack rent clothe lade every man ass return city judah brother come josephs house yet fall ground joseph say unto deed ye wot ye man I certainly divine judah say shall say unto lord shall speak shall clear god hath find iniquity thy servant behold lord servant also cup find say god forbid I man whose hand cup find shall servant get peace unto father judah come near unto say oh lord let thy servant I pray thee speak word lord ear let thine anger burn thy servant thou art even pharaoh lord ask servant say ye father brother say unto lord father old man child old age little one brother dead alone leave mother father loveth thou saidst unto thy servant bring unto I I may set mine eye upon say unto lord lad leave father leave father father would die thou saidst unto thy servant except young brother come ye shall see face come pass come unto thy servant father tell word lord father say go buy little food say go young brother go may see man face except young brother thy servant father say unto ye know wife bare I two son one go I I say surely tear piece I see since ye take also I mischief befall ye shall bring gray hair sorrow grave therefore I come thy servant father lad see life bind lad life shall come pass seeth lad die thy servant shall bring gray hair thy servant father sorrow grave thy servant become surety lad unto father say I bring unto thee I shall bear blame father ever therefore I pray thee let thy servant abide instead lad bondman lord let lad go brother shall I go father lad I lest peradventure I see evil shall come father joseph could refrain stand cry cause every man go I stand man joseph make know unto brother weep aloud egyptians house pharaoh heard joseph say unto brother I joseph doth father yet live brother could answer trouble presence joseph say unto brother come near I I pray come near say I joseph brother ye sell egypt therefore grieve angry ye sell I hither god send I preserve life two year hath famine land yet five year shall neither eare harvest god send I preserve posterity earth save life great deliverance send I hither god hath make I father pharaoh lord house ruler throughout land egypt haste ye go father say unto thus saith thy son joseph god hath make I lord egypt come unto I tarry thou shalt dwell land goshen thou shalt near unto I thou thy child thy children child thy flock thy herd thou hast I nourish thee yet five year famine lest thou thy household thou hast come poverty behold eye see eye brother benjamin mouth speaketh unto ye shall tell father glory egypt ye see ye shall haste bring father hither fall upon brother benjamin neck weep benjamin weep upon neck moreover kiss brother weep upon brother talk fame thereof hear pharaohs house say josephs brother come please pharaoh well servant pharaoh say unto joseph say unto thy brother ye lade beast go get unto land canaan take father household come unto I I give good land egypt ye shall eat fat land thou art command ye take wagon land egypt little one wife bring father come also regard stuff good land egypt child israel joseph give wagon accord commandment pharaoh give provision way give man change raiment benjamin give three hundred piece silver five change raiment father send manner ten ass laden good thing egypt ten asse laden corn bread meat father way send brother away depart say unto see ye fall way go egypt come land canaan unto jacob father tell say joseph yet alive governor land egypt jacobs heart faint believe tell word joseph say unto see wagon joseph send carry spirit jacob father revive israel say enough joseph son yet alive I go see I die israel take journey come beersheba offer sacrifice unto god father isaac god spake unto israel vision night say jacob jacob say say I god god thy father fear go egypt I make thee great nation I go thee egypt I also surely bring thee joseph shall put hand upon thine eye jacob rise beersheba son israel carry jacob father little one wife wagon pharaoh send carry take cattle good get land canaan come egypt jacob seed son son son daughter son daughter seed bring egypt name child israel come egypt jacob son reuben jacobs firstborn son reuben hanoch phallu hezron carmi son simeon jemuel jamin ohad jachin zohar shaul son canaanitish woman son levi gershon kohath merari son judah er onan shelah pharez zarah er onan die land canaan son pharez hezron hamul son issachar tola phuvah job shimron son zebulun sere elon jahleel son leah bare unto jacob padanaram daughter dinah soul son daughter thirty three son gad ziphion haggi shuni ezbon eri arodi areli son asher jimnah ishuah isui beriah serah sister son beriah heber malchiel son zilpah laban give leah daughter bare unto jacob even sixteen soul son rachel jacobs wife joseph benjamin unto joseph land egypt bear manasseh ephraim asenath daughter potipherah priest bare unto son benjamin belah becher ashbel gera naaman ehi rosh muppim huppim ard son rachel bear jacob soul fourteen son dan hushim son naphtali jahzeel guni jezer shillem son bilhah laban give unto rachel daughter bare unto jacob soul seven soul come jacob egypt come loin besides jacob son wife soul threescore six son joseph bear egypt two soul soul house jacob come egypt threescore ten send judah unto joseph direct face unto goshen come land goshen joseph make ready chariot go meet israel father goshen present unto fall neck weep neck good israel say unto joseph let I die since I see thy face thou art yet alive joseph say unto brother unto father house I go shew pharaoh say unto brother father house land canaan come unto I man shepherd trade hath feed cattle bring flock herd shall come pass pharaoh shall call shall say occupation ye shall say thy servant trade hath cattle youth even also father ye may dwell land goshen every shepherd abomination unto egyptians joseph come tell pharaoh say father brother flock herd come land canaan behold land goshen take brother even five man present unto pharaoh pharaoh say unto brother occupation say unto pharaoh thy servant shepherd also father say morever unto pharaoh sojourn land come thy servant pasture flock famine sore land canaan therefore pray thee let thy servant dwell land goshen pharaoh spake unto joseph say thy father thy brother come unto thee land egypt thee good land make thy father brother dwell land goshen let dwell thou knowest man activity among make ruler cattle joseph bring jacob father set pharaoh jacob bless pharaoh pharaoh say unto jacob old art thou jacob say unto pharaoh day year pilgrimage hundred thirty year evil day year life attain unto day year life father day pilgrimage jacob blessed pharaoh go pharaoh joseph place father brother give possession land egypt good land land ramese pharaoh command joseph nourish father brother father household bread accord family bread land famine sore land egypt land canaan faint reason famine joseph gather money find land egypt land canaan corn buy joseph bring money pharaohs house money fail land egypt land canaan egyptians come unto joseph say give bread die thy presence money faileth joseph say give cattle I give cattle money fail bring cattle unto joseph joseph give bread exchange horse flock cattle herd ass feed bread cattle year year end come unto second year say unto hide lord money spend lord also hath herd cattle ought leave sight lord body land wherefore shall die thine eye land buy land bread land servant unto pharaoh give seed may live die land desolate joseph buy land egypt pharaoh egyptians sell every man field famine prevail land become pharaohs people remove city one end border egypt even end thereof land priest buy priest portion assign pharaoh eat portion pharaoh give wherefore sell land joseph say unto people behold I buy day land pharaoh lo seed ye shall sow land shall come pass increase ye shall give fifth part unto pharaoh four part shall seed field food household food little one say thou hast save life let find grace sight lord pharaohs servant joseph make law land egypt unto day pharaoh fifth part except land priest become pharaohs israel dwelt land egypt country goshen possession therein grow multiply exceedingly jacob live land egypt seventeen year whole age jacob hundred forty seven year time draw nigh israel must die call son joseph say unto I find grace thy sight put I pray thee thy hand thigh deal kindly truly I bury I I pray thee egypt I lie father thou shalt carry I egypt bury I buryingplace say I thou hast say say swear unto I sware unto israel bow upon bed head come pass thing one tell joseph behold thy father sick take two son manasseh ephraim one tell jacob say behold thy son joseph cometh unto thee israel strengthen sit upon bed jacob say unto joseph god almighty appear unto I luz land canaan bless I say unto I behold I make thee fruitful multiply thee I make thee multitude people give land thy seed thee everlasting possession thy two son ephraim manasseh bear unto thee land egypt I come unto thee egypt mine reuben simeon shall mine thy issue thou begettest shall thine shall call name brother inheritance I I come padan rachel die I land canaan way yet little way come unto ephrath I bury way ephrath bethlehem israel beheld josephs son say joseph say unto father son god hath give I place say bring I pray thee unto I I bless eye israel dim age could see bring near unto kiss embrace israel say unto joseph I think see thy face lo god hath shew I also thy seed joseph bring knee bow face earth joseph take ephraim right hand toward israel leave hand manasseh left hand toward israel right hand bring near unto israel stretch right hand lay upon ephraim head young left hand upon manassehs head guide hand wittingly manasseh firstborn bless joseph say god father abraham isaac walk god feed I life long unto day angel redeem I evil bless lad let name name name father abraham isaac let grow multitude midst earth joseph see father lay right hand upon head ephraim displease hold father hand remove ephraim head unto manassehs head joseph say unto father father firstborn put thy right hand upon head father refuse say I know son I know also shall become people also shall great truly young brother shall great seed shall become multitude nation bless day say thee shall israel bless say god make thee ephraim manasseh set ephraim manasseh israel say unto joseph behold I die god shall bring unto land father moreover I give thee one portion thy brother I take hand amorite sword bow jacob call unto son say gather together I may tell shall befall last day gather together hear ye son jacob hearken unto israel father reuben thou art firstborn might beginning strength excellency dignity excellency power unstable water thou shalt excel thou went thy father bed defiledst thou go couch simeon levi brother instrument cruelty habitation soul come thou secret unto assembly mine honour thou united anger slew man selfwill digge wall curse anger fierce wrath cruel I divide jacob scatter israel judah thou art thy brother shall praise thy hand shall neck thine enemy thy father child shall bow thee judah lion whelp prey son thou art go stoop couch lion old lion shall rouse sceptre shall depart judah lawgiver foot shiloh come unto shall gathering people bind foal unto vine asss colt unto choice vine wash garment wine clothe blood grape eye shall red wine tooth white milk zebulun shall dwell sea shall ship border shall unto zidon issachar strong ass couching two burden see rest good land pleasant bow shoulder bear become servant unto tribute dan shall judge people one tribe israel dan shall serpent way adder path biteth horse heel rider shall fall backward I wait thy salvation lord gad troop shall overcome shall overcome last asher bread shall fat shall yield royal dainty naphtali hind let loose giveth goodly word joseph fruitful bough even fruitful bough well whose branch run wall archer sorely grieve shoot hate bow abode strength arm hand make strong hand mighty god jacob thence shepherd stone israel even god thy father shall help thee almighty shall bless thee blessing heaven blessing deep lieth blessing breast womb blessing thy father prevail blessing progenitor unto utmost bind everlasting hill shall head joseph crown head separate brother benjamin shall ravin wolf morning shall devour prey night shall divide spoil twelve tribe israel father spake unto bless every one accord blessing bless charge say unto I gather unto people bury I father cave field ephron hittite cave field machpelah mamre land canaan abraham buy field ephron hittite possession buryingplace bury abraham sarah wife bury isaac rebekah wife I bury leah purchase field cave therein child heth jacob make end command son gather foot bed yield ghost gather unto people joseph fall upon father face weep upon kiss joseph command servant physician embalm father physician embalm israel forty day fulfil fulfil day embalmed egyptians mourn threescore ten day day mourning past joseph spake unto house pharaoh say I find grace eye speak I pray ear pharaoh say father make I swear say lo I die grave I digge I land canaan shalt thou bury I therefore let I go I pray thee bury father I come pharaoh say go bury thy father accord make thee swear joseph go bury father go servant pharaoh elder house elder land egypt house joseph brother father house little one flock herd leave land goshen go chariot horseman great company come threshingfloor atad beyond jordan mourn great sore lamentation make mourning father seven day inhabitant land canaanite see mourning floor atad say grievous mourning egyptians wherefore name call abelmizraim beyond jordan son unto accord command son carry land canaan bury cave field machpelah abraham buy field possession buryingplace ephron hittite mamre joseph return egypt brother go bury father bury father josephs brother see father dead say joseph peradventure hate certainly requite evil unto send messenger unto joseph say thy father command die say shall ye say unto joseph forgive I pray thee trespass thy brother sin unto thee evil pray thee forgive trespass servant god thy father joseph weep spake unto brother also go fall face say behold thy servant joseph say unto fear I place god ye think evil I god mean unto good bring pass day save much people alive therefore fear ye I nourish little one comfort spake kindly unto joseph dwelt egypt father house joseph live hundred ten year joseph see ephraim child third generation child also machir son manasseh bring upon josephs knees joseph say unto brother I die god surely visit bring land unto land sware abraham isaac jacob joseph take oath child israel say god surely visit ye shall carry bone hence joseph die hundred ten year old embalm put coffin egypt end project gutenberg ebook bible king james version book genesis update edition replace previous onethe old edition rename create work print edition protect u copyright law mean one united states copyright work foundation copy distribute united states without permission without pay copyright royalty special rule set forth general term use part license apply copying distribute project gutenbergtm electronic work protect project gutenbergtm concept trademark project gutenberg registered trademark may use charge ebook except follow term trademark license include pay royalty use project gutenberg trademark charge anything copy ebook comply trademark license easy may use ebook nearly purpose creation derivative work report performance research project gutenberg ebooks may modify print give awayyou may practically anything united states ebook protect u copyright law redistribution subject trademark license especially commercial redistribution start full license full project gutenberg license please read distribute use work protect project gutenbergtm mission promote free distribution electronic work use distribute work work associate way phrase project gutenberg agree comply term full project gutenbergtm license available file online www gutenberg orglicense section general term use redistribute project gutenbergtm electronic work read use part project gutenbergtm electronic work indicate read understand agree accept term license intellectual property trademark copyright agreement agree abide term agreement must cease use return destroy copy project gutenbergtm electronic work possession pay fee obtain copy access project gutenbergtm electronic work agree bind term agreement may obtain refund person entity pay fee set forth paragraph e b project gutenberg register trademark may use associate way electronic work people agree bind term agreement thing project gutenbergtm electronic work even without comply full term agreement see paragraph c lot thing project gutenbergtm electronic work follow term agreement help preserve free future access project gutenbergtm electronic work see paragraph e c project gutenberg literary archive foundation foundation pglaf compilation copyright collection project gutenbergtm electronic work nearly individual work collection public domain united states individual work unprotected copyright law united states locate united states claim right prevent copy distribute perform display create derivative work base work long reference project gutenberg remove course hope support project gutenbergtm mission promote free access electronic work freely share project gutenbergtm work compliance term agreement keep project gutenbergtm name associate work easily comply term agreement keep work format attached full project gutenbergtm license share without charge copyright law place locate also govern work copyright law country constant state change outside united states check law country addition term agreement download copying display perform distribute create derivative work base work project gutenbergtm work foundation make representation concern copyright status work country united states e unless remove reference project gutenberg e follow sentence active link immediate access full project gutenbergtm license must appear prominently whenever copy project gutenbergtm work work phrase project gutenberg appear phrase project gutenberg associate access display perform view copy distribute ebook use anyone anywhere united states part world cost almost restriction whatsoever may copy give away use term project gutenberg license include ebook online www gutenberg org locate united states check law country locate use ebook e individual project gutenbergtm electronic work derive text protect u copyright law contain notice indicate post permission copyright holder work copy distribute anyone united states without pay fee charge redistribute provide access work phrase project gutenberg associate appear work must comply either requirement paragraph e e obtain permission use work project gutenbergtm trademark set forth paragraph e e e individual project gutenbergtm electronic work post permission copyright holder use distribution must comply paragraph e e additional term impose copyright holder additional term link project gutenbergtm license work post permission copyright holder find beginning work e unlink detach remove full project gutenbergtm license term work file contain part work work associate project gutenbergtm e copy display perform distribute redistribute electronic work part electronic work without prominently display sentence set forth paragraph e active link immediate access full term project gutenbergtm license e may convert distribute work binary compress mark nonproprietary proprietary form include word processing hypertext form however provide access distribute copy project gutenbergtm work format plain vanilla ascii format use official version post official project gutenbergtm website www gutenberg org must additional cost fee expense user provide copy means export copy means obtain copy upon request work original plain vanilla ascii form alternate format must include full project gutenbergtm license specify paragraph e e charge fee access view display perform copy distribute project gutenbergtm work unless comply paragraph e e e may charge reasonable fee copy provide access distribute project gutenbergtm electronic work provide pay royalty fee gross profit derive use project gutenbergtm work calculate use method already use calculate applicable taxis fee owe owner project gutenbergtm trademark agree donate royalty paragraph project gutenberg literary archive foundation royalty payment must pay within day follow date prepare legally require prepare periodic tax return royalty payment clearly mark send project gutenberg literary archive foundation address specify section information donation project gutenberg literary archive foundation provide full refund money pay user notify writing e mail within day receipt agree term full project gutenbergtm license must require user return destroy copy work possess physical medium discontinue use access copy project gutenbergtm work provide accordance paragraph f full refund money pay work replacement copy defect electronic work discover report within day receipt work comply term agreement free distribution project gutenbergtm work e wish charge fee distribute project gutenbergtm electronic work group work different term set forth agreement must obtain permission write project gutenberg literary archive foundation manager project gutenbergtm trademark contact foundation set forth section f f project gutenberg volunteer employee expend considerable effort identify copyright research transcribe proofread work protect u copyright law create project gutenbergtm collection despite effort project gutenbergtm electronic work medium may store may contain defect limit incomplete inaccurate corrupt datum transcription error copyright intellectual property infringement defective damage disk medium computer virus computer code damage read equipment f limited warranty disclaimer damage except right replacement refund describe paragraph f project gutenberg literary archive foundation owner project gutenbergtm trademark party distribute project gutenbergtm electronic work agreement disclaim liability damage cost expense include legal fee agree remedy negligence strict liability breach warranty breach contract except provide paragraph f agree foundation trademark owner distributor agreement liable actual direct indirect consequential punitive incidental damage even give notice possibility damage f limited right replacement refund discover defect electronic work within day receive receive refund money pay send write explanation person receive work receive work physical medium must return medium write explanation person entity provide defective work may elect provide replacement copy lieu refund receive work electronically person entity provide may choose give second opportunity receive work electronically lieu refund second copy also defective may demand refund write without opportunity fix problem f except limited right replacement refund set forth paragraph f work provide warranty kind express imply include limit warranty merchantability fitness purpose f state allow disclaimer certain imply warranty exclusion limitation certain type damage disclaimer limitation set forth agreement violate law state applicable agreement agreement shall interpret make maximum disclaimer limitation permit applicable state law invalidity unenforceability provision agreement shall void remain provision f indemnity agree indemnify hold foundation trademark owner agent employee foundation anyone provide copy project gutenbergtm electronic work accordance agreement volunteer associate production promotion distribution project gutenbergtm electronic work harmless liability cost expense include legal fee arise directly indirectly following cause occur distribution project gutenbergtm work b alteration modification addition deletion project gutenbergtm work c defect cause section information mission project gutenbergtm project gutenbergtm synonymous free distribution electronic work format readable wide variety computer include obsolete old middle aged new computer exist effort hundred volunteer donation people walk life volunteer financial support provide volunteer assistance need critical reach project gutenbergtms goal ensure project gutenbergtm collection remain freely available generation come project gutenberg literary archive foundation create provide secure permanent future project gutenbergtm future generation learn project gutenberg literary archive foundation effort donation help see section foundation information page www gutenberg org section information project gutenberg literary archive foundation project gutenberg literary archive foundation non profit c educational corporation organize law state mississippi grant tax exempt status internal revenue service foundations ein federal tax identification number contribution project gutenberg literary archive foundation tax deductible full extent permit u federal law state law foundations business office locate north west salt lake city ut email contact link date contact information find foundation website official page www gutenberg orgcontact section information donation project gutenberg literary archive foundation project gutenbergtm depend upon survive without widespread public support donation carry mission increase number public domain license work freely distribute machine readable form accessible wide array equipment include outdated equipment many small donation particularly important maintain tax exempt status irs foundation commit comply law regulate charity charitable donation state united states compliance requirement uniform take considerable effort much paperwork many fee meet keep requirement solicit donation location receive write confirmation compliance send donation determine status compliance particular state visit www gutenberg orgdonate solicit contribution state meet solicitation requirement know prohibition accept unsolicited donation donor state approach offer donate international donation gratefully accept make statement concern tax treatment donation receive outside united states u law alone swamp small staff please check project gutenberg web page current donation method address donation accept number way include check online payment credit card donation donate please visit www gutenberg orgdonate section general information project gutenbergtm electronic work professor michael hart originator project gutenbergtm concept library electronic work could freely share anyone forty year produce distribute project gutenbergtm ebook loose network volunteer support project gutenbergtm ebook often create several print edition confirm protect copyright u unless copyright notice include thus necessarily keep ebook compliance particular paper edition people start website main pg search facility www gutenberg org website include information project gutenbergtm include make donation project gutenberg literary archive foundation help produce new ebook subscribe email newsletter hear new ebook']"
      ]
     },
     "execution_count": 18,
     "metadata": {},
     "output_type": "execute_result"
    }
   ],
   "source": [
    "normalized_corpus=normalize_corpus([content])\n",
    "normalized_corpus"
   ]
  },
  {
   "cell_type": "code",
   "execution_count": 19,
   "id": "74b04b58-437f-4e07-943c-9d56d8be6440",
   "metadata": {},
   "outputs": [
    {
     "data": {
      "text/plain": [
       "1"
      ]
     },
     "execution_count": 19,
     "metadata": {},
     "output_type": "execute_result"
    }
   ],
   "source": [
    "len(normalized_corpus)"
   ]
  },
  {
   "cell_type": "markdown",
   "id": "ce0bc6fe-0a00-4816-8c95-1fd282603b6a",
   "metadata": {},
   "source": [
    "# Understanding Language Syntax and Structure"
   ]
  },
  {
   "cell_type": "markdown",
   "id": "b44ec957-ce1c-407d-a805-e53ef1841ff1",
   "metadata": {},
   "source": [
    "For any language, syntax and structure usually go hand in hand, where a set of specific rules, conventions, and principles govern the way words are combined into phrases; phrases get combines into clauses; and clauses get combined into sentences. We will be talking specifically about the English language syntax and structure in this section. In English, words usually combine together to form other constituent units. These constituents include words, phrases, clauses, and sentences. Considering a sentence, “The brown fox is quick and he is jumping over the lazy dog”, it is made of a bunch of words and just looking at the words by themselves don’t tell us much."
   ]
  },
  {
   "cell_type": "code",
   "execution_count": 64,
   "id": "24241993-da85-475b-85fa-2ab8fdbc5bb9",
   "metadata": {},
   "outputs": [
    {
     "name": "stdout",
     "output_type": "stream",
     "text": [
      "The brown fox is quick and he is jumping over the lazy dog\n"
     ]
    }
   ],
   "source": [
    "text = \"The brown fox is quick and he is jumping over the lazy dog\"\n",
    "print(text)"
   ]
  },
  {
   "cell_type": "code",
   "execution_count": 21,
   "id": "52c507e0-13e1-47ce-8f14-da3b43715f82",
   "metadata": {},
   "outputs": [
    {
     "name": "stdout",
     "output_type": "stream",
     "text": [
      "['the', 'jumping', 'the', 'quick', 'dog', 'lazy', 'is', 'he', 'and', 'brown', 'fox', 'over', 'is']\n"
     ]
    }
   ],
   "source": [
    "tokens = [token.lower() for token in word_tokenize(text)]\n",
    "random.shuffle(tokens)\n",
    "\n",
    "print(tokens)"
   ]
  },
  {
   "cell_type": "markdown",
   "id": "da6d2142-7f49-43ba-94f7-e8c2188098de",
   "metadata": {},
   "source": [
    "Knowledge about the structure and syntax of language is helpful in many areas like text processing, annotation, and parsing for further operations such as text classification or summarization. Typical parsing techniques for understanding text syntax are mentioned below."
   ]
  },
  {
   "cell_type": "markdown",
   "id": "4e516985-4efb-4a72-aeae-eb40661d8e36",
   "metadata": {},
   "source": [
    "* **Parts of Speech (POS) Tagging**\n",
    "* **Shallow Parsing or Chunking**\n",
    "* **Constituency Parsing**\n",
    "* **Dependency Parsing**"
   ]
  },
  {
   "cell_type": "markdown",
   "id": "b2f2260a-1f10-4c05-9403-6c81b3a401bf",
   "metadata": {},
   "source": [
    "We will be looking at all of these techniques in subsequent sections. Considering our previous example sentence **“The brown fox is quick and he is jumping over the lazy dog”**, if we were to annotate it using basic POS tags, it would look like the dataframe below."
   ]
  },
  {
   "cell_type": "code",
   "execution_count": 65,
   "id": "b5b2ee11-b258-4a58-94d1-0a8fb02bf83c",
   "metadata": {},
   "outputs": [
    {
     "data": {
      "text/html": [
       "<div>\n",
       "<style scoped>\n",
       "    .dataframe tbody tr th:only-of-type {\n",
       "        vertical-align: middle;\n",
       "    }\n",
       "\n",
       "    .dataframe tbody tr th {\n",
       "        vertical-align: top;\n",
       "    }\n",
       "\n",
       "    .dataframe thead th {\n",
       "        text-align: right;\n",
       "    }\n",
       "</style>\n",
       "<table border=\"1\" class=\"dataframe\">\n",
       "  <thead>\n",
       "    <tr style=\"text-align: right;\">\n",
       "      <th></th>\n",
       "      <th>POS_spacy</th>\n",
       "    </tr>\n",
       "    <tr>\n",
       "      <th>Word</th>\n",
       "      <th></th>\n",
       "    </tr>\n",
       "  </thead>\n",
       "  <tbody>\n",
       "    <tr>\n",
       "      <th>The</th>\n",
       "      <td>DET</td>\n",
       "    </tr>\n",
       "    <tr>\n",
       "      <th>brown</th>\n",
       "      <td>ADJ</td>\n",
       "    </tr>\n",
       "    <tr>\n",
       "      <th>fox</th>\n",
       "      <td>NOUN</td>\n",
       "    </tr>\n",
       "    <tr>\n",
       "      <th>is</th>\n",
       "      <td>AUX</td>\n",
       "    </tr>\n",
       "    <tr>\n",
       "      <th>quick</th>\n",
       "      <td>ADJ</td>\n",
       "    </tr>\n",
       "    <tr>\n",
       "      <th>and</th>\n",
       "      <td>CCONJ</td>\n",
       "    </tr>\n",
       "    <tr>\n",
       "      <th>he</th>\n",
       "      <td>PRON</td>\n",
       "    </tr>\n",
       "    <tr>\n",
       "      <th>is</th>\n",
       "      <td>AUX</td>\n",
       "    </tr>\n",
       "    <tr>\n",
       "      <th>jumping</th>\n",
       "      <td>VERB</td>\n",
       "    </tr>\n",
       "    <tr>\n",
       "      <th>over</th>\n",
       "      <td>ADP</td>\n",
       "    </tr>\n",
       "    <tr>\n",
       "      <th>the</th>\n",
       "      <td>DET</td>\n",
       "    </tr>\n",
       "    <tr>\n",
       "      <th>lazy</th>\n",
       "      <td>ADJ</td>\n",
       "    </tr>\n",
       "    <tr>\n",
       "      <th>dog</th>\n",
       "      <td>NOUN</td>\n",
       "    </tr>\n",
       "  </tbody>\n",
       "</table>\n",
       "</div>"
      ],
      "text/plain": [
       "        POS_spacy\n",
       "Word             \n",
       "The           DET\n",
       "brown         ADJ\n",
       "fox          NOUN\n",
       "is            AUX\n",
       "quick         ADJ\n",
       "and         CCONJ\n",
       "he           PRON\n",
       "is            AUX\n",
       "jumping      VERB\n",
       "over          ADP\n",
       "the           DET\n",
       "lazy          ADJ\n",
       "dog          NOUN"
      ]
     },
     "execution_count": 65,
     "metadata": {},
     "output_type": "execute_result"
    }
   ],
   "source": [
    "# Load the spaCy model\n",
    "nlp = spacy.load(\"en_core_web_sm\")\n",
    "\n",
    "# Process the text\n",
    "sentence_nlp = nlp(text)\n",
    "\n",
    "# Create a DataFrame mapping tokens to their POS tags\n",
    "pos_tags = [(token.text, token.pos_) for token in sentence_nlp]\n",
    "POS_spacy = pd.DataFrame(pos_tags, columns=['Word', 'POS_spacy']).set_index('Word')\n",
    "POS_spacy"
   ]
  },
  {
   "cell_type": "code",
   "execution_count": 68,
   "id": "586684c7-cd03-4472-93de-e2b4b0143cc4",
   "metadata": {},
   "outputs": [
    {
     "data": {
      "text/plain": [
       "['The',\n",
       " 'brown',\n",
       " 'fox',\n",
       " 'is',\n",
       " 'quick',\n",
       " 'and',\n",
       " 'he',\n",
       " 'is',\n",
       " 'jumping',\n",
       " 'over',\n",
       " 'the',\n",
       " 'lazy',\n",
       " 'dog']"
      ]
     },
     "execution_count": 68,
     "metadata": {},
     "output_type": "execute_result"
    }
   ],
   "source": [
    "[token.orth_ for token in sentence_nlp]"
   ]
  },
  {
   "cell_type": "markdown",
   "id": "96bd6148-edf6-4952-9331-a8f3b9e06f0b",
   "metadata": {},
   "source": [
    "Thus, a sentence typically follows a hierarchical structure consisting the following components,"
   ]
  },
  {
   "cell_type": "markdown",
   "id": "6133a64e-82f1-4bd7-983d-f465923eb690",
   "metadata": {},
   "source": [
    "**`sentence` → `clauses` → `phrases` → `words`**"
   ]
  },
  {
   "cell_type": "markdown",
   "id": "ae3c1dcc-16ee-41a8-8227-572654b1c1c0",
   "metadata": {},
   "source": [
    "## Tagging Parts of Speech"
   ]
  },
  {
   "cell_type": "markdown",
   "id": "d9e59f66-b0c4-4648-8dec-5330f3b6f8d0",
   "metadata": {},
   "source": [
    "`Parts of speech (POS)` are specific lexical categories to which words are assigned, based on their syntactic context and role. Usually, words can fall into one of the following major categories."
   ]
  },
  {
   "cell_type": "markdown",
   "id": "6ae490f2-d5b5-4389-b7f9-5b3e9744ee07",
   "metadata": {},
   "source": [
    "* `N(oun)`: This usually denotes words that depict some object or entity, which may be living or nonliving. Some examples would be **fox** , **dog** , **book** , and so on. The `POS tag` symbol for nouns is `N`."
   ]
  },
  {
   "cell_type": "markdown",
   "id": "9335c231-5d6c-4c90-9dc7-ce0e596e56fa",
   "metadata": {},
   "source": [
    "* `V(erb)`: Verbs are words that are used to describe certain actions, states, or occurrences. There are a wide variety of further subcategories, such as auxiliary, reflexive, and transitive verbs (and many more). Some typical examples of verbs would be **running** , **jumping** , **read** , and **write** . The `POS tag` symbol for verbs is `V`."
   ]
  },
  {
   "cell_type": "markdown",
   "id": "15649b01-5fb9-4d71-8e67-5ee83c27a1d6",
   "metadata": {},
   "source": [
    "* `Adj(ective)`: Adjectives are words used to describe or qualify other words, typically nouns and noun phrases. The phrase beautiful flower has the noun (`N`) flower which is described or qualified using the adjective (`ADJ`) beautiful . The `POS tag` symbol for adjectives is `ADJ`."
   ]
  },
  {
   "cell_type": "markdown",
   "id": "23048863-9727-4e2b-8b53-755873680a8a",
   "metadata": {},
   "source": [
    "* `Adv(erb)`: Adverbs usually act as modifiers for other words including nouns, adjectives, verbs, or other adverbs. The phrase very beautiful flower has the adverb (`ADV`) very , which modifies the adjective (`ADJ`) beautiful , indicating the degree to which the flower is beautiful. The `POS tag` symbol for adverbs is `ADV`."
   ]
  },
  {
   "cell_type": "markdown",
   "id": "a3d2c19d-f070-462d-9d30-633895ca62db",
   "metadata": {},
   "source": [
    "Besides these four major categories of parts of speech , there are other categories that occur frequently in the English language. These include pronouns, prepositions, interjections, conjunctions, determiners, and many others. Furthermore, each POS tag like the noun (`N`) can be further subdivided into categories like singular nouns (`NN`), singular proper nouns (`NNP`), and plural nouns (`NNS`)."
   ]
  },
  {
   "cell_type": "markdown",
   "id": "eabd60c8-1228-44cb-b1b4-953a6a84c232",
   "metadata": {},
   "source": [
    "The process of classifying and labeling `POS tags` for words called `parts of speech tagging` or `POS tagging` . `POS tags` are used to annotate words and depict their `POS`, which is really helpful to perform specific analysis, such as narrowing down upon nouns and seeing which ones are the most prominent, word sense disambiguation, and grammar analysis. We will be leveraging both nltk and spacy which usually use the Penn Treebank notation for `POS tagging`."
   ]
  },
  {
   "cell_type": "code",
   "execution_count": 23,
   "id": "8a9f1587-b2bc-4336-9323-c02f49e268bb",
   "metadata": {},
   "outputs": [
    {
     "data": {
      "text/html": [
       "<div>\n",
       "<style scoped>\n",
       "    .dataframe tbody tr th:only-of-type {\n",
       "        vertical-align: middle;\n",
       "    }\n",
       "\n",
       "    .dataframe tbody tr th {\n",
       "        vertical-align: top;\n",
       "    }\n",
       "\n",
       "    .dataframe thead th {\n",
       "        text-align: right;\n",
       "    }\n",
       "</style>\n",
       "<table border=\"1\" class=\"dataframe\">\n",
       "  <thead>\n",
       "    <tr style=\"text-align: right;\">\n",
       "      <th></th>\n",
       "      <th>POS_nltk</th>\n",
       "    </tr>\n",
       "    <tr>\n",
       "      <th>Word</th>\n",
       "      <th></th>\n",
       "    </tr>\n",
       "  </thead>\n",
       "  <tbody>\n",
       "    <tr>\n",
       "      <th>The</th>\n",
       "      <td>DT</td>\n",
       "    </tr>\n",
       "    <tr>\n",
       "      <th>brown</th>\n",
       "      <td>JJ</td>\n",
       "    </tr>\n",
       "    <tr>\n",
       "      <th>fox</th>\n",
       "      <td>NN</td>\n",
       "    </tr>\n",
       "    <tr>\n",
       "      <th>is</th>\n",
       "      <td>VBZ</td>\n",
       "    </tr>\n",
       "    <tr>\n",
       "      <th>quick</th>\n",
       "      <td>JJ</td>\n",
       "    </tr>\n",
       "    <tr>\n",
       "      <th>and</th>\n",
       "      <td>CC</td>\n",
       "    </tr>\n",
       "    <tr>\n",
       "      <th>he</th>\n",
       "      <td>PRP</td>\n",
       "    </tr>\n",
       "    <tr>\n",
       "      <th>is</th>\n",
       "      <td>VBZ</td>\n",
       "    </tr>\n",
       "    <tr>\n",
       "      <th>jumping</th>\n",
       "      <td>VBG</td>\n",
       "    </tr>\n",
       "    <tr>\n",
       "      <th>over</th>\n",
       "      <td>IN</td>\n",
       "    </tr>\n",
       "    <tr>\n",
       "      <th>the</th>\n",
       "      <td>DT</td>\n",
       "    </tr>\n",
       "    <tr>\n",
       "      <th>lazy</th>\n",
       "      <td>JJ</td>\n",
       "    </tr>\n",
       "    <tr>\n",
       "      <th>dog</th>\n",
       "      <td>NN</td>\n",
       "    </tr>\n",
       "  </tbody>\n",
       "</table>\n",
       "</div>"
      ],
      "text/plain": [
       "        POS_nltk\n",
       "Word            \n",
       "The           DT\n",
       "brown         JJ\n",
       "fox           NN\n",
       "is           VBZ\n",
       "quick         JJ\n",
       "and           CC\n",
       "he           PRP\n",
       "is           VBZ\n",
       "jumping      VBG\n",
       "over          IN\n",
       "the           DT\n",
       "lazy          JJ\n",
       "dog           NN"
      ]
     },
     "execution_count": 23,
     "metadata": {},
     "output_type": "execute_result"
    }
   ],
   "source": [
    "tokens = nltk.word_tokenize(text)\n",
    "pos_tags = nltk.pos_tag(tokens)\n",
    "\n",
    "# Create a DataFrame mapping tokens to their POS tags\n",
    "POS_nltk = pd.DataFrame(pos_tags, columns=['Word', 'POS_nltk']).set_index('Word')\n",
    "POS_nltk"
   ]
  },
  {
   "cell_type": "code",
   "execution_count": 24,
   "id": "67c41da5-a603-44a7-b065-a6d2b8b54e97",
   "metadata": {},
   "outputs": [
    {
     "data": {
      "text/html": [
       "<div>\n",
       "<style scoped>\n",
       "    .dataframe tbody tr th:only-of-type {\n",
       "        vertical-align: middle;\n",
       "    }\n",
       "\n",
       "    .dataframe tbody tr th {\n",
       "        vertical-align: top;\n",
       "    }\n",
       "\n",
       "    .dataframe thead th {\n",
       "        text-align: right;\n",
       "    }\n",
       "</style>\n",
       "<table border=\"1\" class=\"dataframe\">\n",
       "  <thead>\n",
       "    <tr style=\"text-align: right;\">\n",
       "      <th></th>\n",
       "      <th>POS_nltk</th>\n",
       "      <th>POS_spacy</th>\n",
       "    </tr>\n",
       "    <tr>\n",
       "      <th>Word</th>\n",
       "      <th></th>\n",
       "      <th></th>\n",
       "    </tr>\n",
       "  </thead>\n",
       "  <tbody>\n",
       "    <tr>\n",
       "      <th>The</th>\n",
       "      <td>DT</td>\n",
       "      <td>DET</td>\n",
       "    </tr>\n",
       "    <tr>\n",
       "      <th>brown</th>\n",
       "      <td>JJ</td>\n",
       "      <td>ADJ</td>\n",
       "    </tr>\n",
       "    <tr>\n",
       "      <th>fox</th>\n",
       "      <td>NN</td>\n",
       "      <td>NOUN</td>\n",
       "    </tr>\n",
       "    <tr>\n",
       "      <th>is</th>\n",
       "      <td>VBZ</td>\n",
       "      <td>AUX</td>\n",
       "    </tr>\n",
       "    <tr>\n",
       "      <th>quick</th>\n",
       "      <td>JJ</td>\n",
       "      <td>ADJ</td>\n",
       "    </tr>\n",
       "    <tr>\n",
       "      <th>and</th>\n",
       "      <td>CC</td>\n",
       "      <td>CCONJ</td>\n",
       "    </tr>\n",
       "    <tr>\n",
       "      <th>he</th>\n",
       "      <td>PRP</td>\n",
       "      <td>PRON</td>\n",
       "    </tr>\n",
       "    <tr>\n",
       "      <th>is</th>\n",
       "      <td>VBZ</td>\n",
       "      <td>AUX</td>\n",
       "    </tr>\n",
       "    <tr>\n",
       "      <th>jumping</th>\n",
       "      <td>VBG</td>\n",
       "      <td>VERB</td>\n",
       "    </tr>\n",
       "    <tr>\n",
       "      <th>over</th>\n",
       "      <td>IN</td>\n",
       "      <td>ADP</td>\n",
       "    </tr>\n",
       "    <tr>\n",
       "      <th>the</th>\n",
       "      <td>DT</td>\n",
       "      <td>DET</td>\n",
       "    </tr>\n",
       "    <tr>\n",
       "      <th>lazy</th>\n",
       "      <td>JJ</td>\n",
       "      <td>ADJ</td>\n",
       "    </tr>\n",
       "    <tr>\n",
       "      <th>dog</th>\n",
       "      <td>NN</td>\n",
       "      <td>NOUN</td>\n",
       "    </tr>\n",
       "  </tbody>\n",
       "</table>\n",
       "</div>"
      ],
      "text/plain": [
       "        POS_nltk POS_spacy\n",
       "Word                      \n",
       "The           DT       DET\n",
       "brown         JJ       ADJ\n",
       "fox           NN      NOUN\n",
       "is           VBZ       AUX\n",
       "quick         JJ       ADJ\n",
       "and           CC     CCONJ\n",
       "he           PRP      PRON\n",
       "is           VBZ       AUX\n",
       "jumping      VBG      VERB\n",
       "over          IN       ADP\n",
       "the           DT       DET\n",
       "lazy          JJ       ADJ\n",
       "dog           NN      NOUN"
      ]
     },
     "execution_count": 24,
     "metadata": {},
     "output_type": "execute_result"
    }
   ],
   "source": [
    "pd.concat([POS_nltk,POS_spacy], axis = 1)"
   ]
  },
  {
   "cell_type": "markdown",
   "id": "c70ed686-e254-4e2b-bcde-7bfd2c1af5cd",
   "metadata": {},
   "source": [
    "We can see that each of these libraries treat tokens in their own way and assign specific tags for them. Based on what we see, spacy seems to be doing slightly better than nltk."
   ]
  },
  {
   "cell_type": "markdown",
   "id": "c6f858a2-71fb-40c6-bd34-f3b6db4f5561",
   "metadata": {},
   "source": [
    "## Shallow Parsing or Chunking"
   ]
  },
  {
   "cell_type": "markdown",
   "id": "45c5f80c-4495-433a-ab7d-091846dfaf9d",
   "metadata": {},
   "source": [
    "Based on the hierarchy we depicted earlier, groups of words make up phrases. There are five major categories of phrase sentence."
   ]
  },
  {
   "cell_type": "markdown",
   "id": "2113a752-4e98-45b9-b829-ce3cda5d2ddb",
   "metadata": {},
   "source": [
    "* `Noun phrase (NP)`: These are phrases where a noun acts as the head word. Noun phrases act as a subject or object to a verb."
   ]
  },
  {
   "cell_type": "markdown",
   "id": "4791594f-9cd3-4a6a-bb1a-a059dbe2e7b0",
   "metadata": {},
   "source": [
    "* `Verb phrase (VP)`: These phrases are lexical units that have a verb acting as the head word. Usually, there are two forms of verb phrases. One form has the verb components as well as other entities such as nouns, adjectives, or adverbs as parts of the object."
   ]
  },
  {
   "cell_type": "markdown",
   "id": "86836880-5522-4de4-a5b4-c32f22fb74e6",
   "metadata": {},
   "source": [
    "* `Adjective phrase (ADJP)`: These are phrases with an adjective as the head word. Their main role is to describe or qualify nouns and pronouns in a sentence, and they will be either placed before or after the noun or pronoun."
   ]
  },
  {
   "cell_type": "markdown",
   "id": "ab45b82e-c573-463c-842d-09066dc14843",
   "metadata": {},
   "source": [
    "* `Adverb phrase (ADVP)`: These phrases act like adverbs since the adverb acts as the head word in the phrase. Adverb phrases are used as modifiers for nouns, verbs, or adverbs themselves by providing further details that describe or qualify them."
   ]
  },
  {
   "cell_type": "markdown",
   "id": "7a7f9712-5f40-4979-86f0-62a45e72102f",
   "metadata": {},
   "source": [
    "* `Prepositional phrase (PP)`: These phrases usually contain a preposition as the head word and other lexical components like nouns, pronouns, and so on. These act like an adjective or adverb describing other words or phrases."
   ]
  },
  {
   "cell_type": "markdown",
   "id": "0436a6ed-df23-4b80-9125-757b8a316eac",
   "metadata": {},
   "source": [
    "Shallow parsing, also known as light parsing or chunking , is a popular natural language processing technique of analyzing the structure of a sentence to break it down into its smallest constituents (which are tokens such as words) and group them together into higher-level phrases. This includes POS tags as well as phrases from a sentence."
   ]
  },
  {
   "cell_type": "markdown",
   "id": "4337e93f-8cb3-4447-86dd-ce961ee0dfad",
   "metadata": {},
   "source": [
    "We will leverage the `conll2000` corpus for training our shallow parser model. This corpus is available in `nltk` with chunk annotations and we will be using around 10K records for training our model. A sample annotated sentence is depicted as follows."
   ]
  },
  {
   "cell_type": "code",
   "execution_count": 25,
   "id": "2ae4e11c-a694-4b73-8625-43d0cb79470e",
   "metadata": {},
   "outputs": [
    {
     "name": "stdout",
     "output_type": "stream",
     "text": [
      "10900 48\n",
      "(S\n",
      "  Chancellor/NNP\n",
      "  (PP of/IN)\n",
      "  (NP the/DT Exchequer/NNP)\n",
      "  (NP Nigel/NNP Lawson/NNP)\n",
      "  (NP 's/POS restated/VBN commitment/NN)\n",
      "  (PP to/TO)\n",
      "  (NP a/DT firm/NN monetary/JJ policy/NN)\n",
      "  (VP has/VBZ helped/VBN to/TO prevent/VB)\n",
      "  (NP a/DT freefall/NN)\n",
      "  (PP in/IN)\n",
      "  (NP sterling/NN)\n",
      "  (PP over/IN)\n",
      "  (NP the/DT past/JJ week/NN)\n",
      "  ./.)\n"
     ]
    }
   ],
   "source": [
    "data = conll2000.chunked_sents()\n",
    "train_data = data[:10900]\n",
    "test_data = data[10900:] \n",
    "\n",
    "print(len(train_data), len(test_data))\n",
    "print(train_data[1])"
   ]
  },
  {
   "cell_type": "markdown",
   "id": "3cc64b26-6a6e-4090-9b2c-df5e288e8afd",
   "metadata": {},
   "source": [
    "From the preceding output, you can see that our data points are sentences that are already annotated with phrases and POS tags metadata that will be useful in training our shallow parser model. We will leverage two chunking utility functions, `tree2conlltags` , to get triples of `Word`, `POS_tag`, and `Chunk_tag`s for each token, and `conlltags2tree` to generate a parse tree from these token triples. We will be using these functions to train our parser. A sample is depicted below."
   ]
  },
  {
   "cell_type": "code",
   "execution_count": 62,
   "id": "59df8e54-5ce9-4fc6-8f72-775187513d8b",
   "metadata": {},
   "outputs": [
    {
     "name": "stdout",
     "output_type": "stream",
     "text": [
      "[('Chancellor', 'NNP', 'O'), ('of', 'IN', 'B-PP'), ('the', 'DT', 'B-NP'), ('Exchequer', 'NNP', 'I-NP'), ('Nigel', 'NNP', 'B-NP'), ('Lawson', 'NNP', 'I-NP'), (\"'s\", 'POS', 'B-NP'), ('restated', 'VBN', 'I-NP'), ('commitment', 'NN', 'I-NP'), ('to', 'TO', 'B-PP'), ('a', 'DT', 'B-NP'), ('firm', 'NN', 'I-NP'), ('monetary', 'JJ', 'I-NP'), ('policy', 'NN', 'I-NP'), ('has', 'VBZ', 'B-VP'), ('helped', 'VBN', 'I-VP'), ('to', 'TO', 'I-VP'), ('prevent', 'VB', 'I-VP'), ('a', 'DT', 'B-NP'), ('freefall', 'NN', 'I-NP'), ('in', 'IN', 'B-PP'), ('sterling', 'NN', 'B-NP'), ('over', 'IN', 'B-PP'), ('the', 'DT', 'B-NP'), ('past', 'JJ', 'I-NP'), ('week', 'NN', 'I-NP'), ('.', '.', 'O')]\n"
     ]
    }
   ],
   "source": [
    "wtc = tree2conlltags(train_data[1])\n",
    "print(wtc)"
   ]
  },
  {
   "cell_type": "code",
   "execution_count": 63,
   "id": "efb52c6f-e987-49ab-a832-398f2355646c",
   "metadata": {},
   "outputs": [
    {
     "data": {
      "text/html": [
       "<div>\n",
       "<style scoped>\n",
       "    .dataframe tbody tr th:only-of-type {\n",
       "        vertical-align: middle;\n",
       "    }\n",
       "\n",
       "    .dataframe tbody tr th {\n",
       "        vertical-align: top;\n",
       "    }\n",
       "\n",
       "    .dataframe thead th {\n",
       "        text-align: right;\n",
       "    }\n",
       "</style>\n",
       "<table border=\"1\" class=\"dataframe\">\n",
       "  <thead>\n",
       "    <tr style=\"text-align: right;\">\n",
       "      <th></th>\n",
       "      <th>POS_nltk</th>\n",
       "      <th>Chunck tag</th>\n",
       "    </tr>\n",
       "    <tr>\n",
       "      <th>Word</th>\n",
       "      <th></th>\n",
       "      <th></th>\n",
       "    </tr>\n",
       "  </thead>\n",
       "  <tbody>\n",
       "    <tr>\n",
       "      <th>Chancellor</th>\n",
       "      <td>NNP</td>\n",
       "      <td>O</td>\n",
       "    </tr>\n",
       "    <tr>\n",
       "      <th>of</th>\n",
       "      <td>IN</td>\n",
       "      <td>B-PP</td>\n",
       "    </tr>\n",
       "    <tr>\n",
       "      <th>the</th>\n",
       "      <td>DT</td>\n",
       "      <td>B-NP</td>\n",
       "    </tr>\n",
       "    <tr>\n",
       "      <th>Exchequer</th>\n",
       "      <td>NNP</td>\n",
       "      <td>I-NP</td>\n",
       "    </tr>\n",
       "    <tr>\n",
       "      <th>Nigel</th>\n",
       "      <td>NNP</td>\n",
       "      <td>B-NP</td>\n",
       "    </tr>\n",
       "    <tr>\n",
       "      <th>Lawson</th>\n",
       "      <td>NNP</td>\n",
       "      <td>I-NP</td>\n",
       "    </tr>\n",
       "    <tr>\n",
       "      <th>'s</th>\n",
       "      <td>POS</td>\n",
       "      <td>B-NP</td>\n",
       "    </tr>\n",
       "    <tr>\n",
       "      <th>restated</th>\n",
       "      <td>VBN</td>\n",
       "      <td>I-NP</td>\n",
       "    </tr>\n",
       "    <tr>\n",
       "      <th>commitment</th>\n",
       "      <td>NN</td>\n",
       "      <td>I-NP</td>\n",
       "    </tr>\n",
       "    <tr>\n",
       "      <th>to</th>\n",
       "      <td>TO</td>\n",
       "      <td>B-PP</td>\n",
       "    </tr>\n",
       "    <tr>\n",
       "      <th>a</th>\n",
       "      <td>DT</td>\n",
       "      <td>B-NP</td>\n",
       "    </tr>\n",
       "    <tr>\n",
       "      <th>firm</th>\n",
       "      <td>NN</td>\n",
       "      <td>I-NP</td>\n",
       "    </tr>\n",
       "    <tr>\n",
       "      <th>monetary</th>\n",
       "      <td>JJ</td>\n",
       "      <td>I-NP</td>\n",
       "    </tr>\n",
       "    <tr>\n",
       "      <th>policy</th>\n",
       "      <td>NN</td>\n",
       "      <td>I-NP</td>\n",
       "    </tr>\n",
       "    <tr>\n",
       "      <th>has</th>\n",
       "      <td>VBZ</td>\n",
       "      <td>B-VP</td>\n",
       "    </tr>\n",
       "    <tr>\n",
       "      <th>helped</th>\n",
       "      <td>VBN</td>\n",
       "      <td>I-VP</td>\n",
       "    </tr>\n",
       "    <tr>\n",
       "      <th>to</th>\n",
       "      <td>TO</td>\n",
       "      <td>I-VP</td>\n",
       "    </tr>\n",
       "    <tr>\n",
       "      <th>prevent</th>\n",
       "      <td>VB</td>\n",
       "      <td>I-VP</td>\n",
       "    </tr>\n",
       "    <tr>\n",
       "      <th>a</th>\n",
       "      <td>DT</td>\n",
       "      <td>B-NP</td>\n",
       "    </tr>\n",
       "    <tr>\n",
       "      <th>freefall</th>\n",
       "      <td>NN</td>\n",
       "      <td>I-NP</td>\n",
       "    </tr>\n",
       "    <tr>\n",
       "      <th>in</th>\n",
       "      <td>IN</td>\n",
       "      <td>B-PP</td>\n",
       "    </tr>\n",
       "    <tr>\n",
       "      <th>sterling</th>\n",
       "      <td>NN</td>\n",
       "      <td>B-NP</td>\n",
       "    </tr>\n",
       "    <tr>\n",
       "      <th>over</th>\n",
       "      <td>IN</td>\n",
       "      <td>B-PP</td>\n",
       "    </tr>\n",
       "    <tr>\n",
       "      <th>the</th>\n",
       "      <td>DT</td>\n",
       "      <td>B-NP</td>\n",
       "    </tr>\n",
       "    <tr>\n",
       "      <th>past</th>\n",
       "      <td>JJ</td>\n",
       "      <td>I-NP</td>\n",
       "    </tr>\n",
       "    <tr>\n",
       "      <th>week</th>\n",
       "      <td>NN</td>\n",
       "      <td>I-NP</td>\n",
       "    </tr>\n",
       "    <tr>\n",
       "      <th>.</th>\n",
       "      <td>.</td>\n",
       "      <td>O</td>\n",
       "    </tr>\n",
       "  </tbody>\n",
       "</table>\n",
       "</div>"
      ],
      "text/plain": [
       "           POS_nltk Chunck tag\n",
       "Word                          \n",
       "Chancellor      NNP          O\n",
       "of               IN       B-PP\n",
       "the              DT       B-NP\n",
       "Exchequer       NNP       I-NP\n",
       "Nigel           NNP       B-NP\n",
       "Lawson          NNP       I-NP\n",
       "'s              POS       B-NP\n",
       "restated        VBN       I-NP\n",
       "commitment       NN       I-NP\n",
       "to               TO       B-PP\n",
       "a                DT       B-NP\n",
       "firm             NN       I-NP\n",
       "monetary         JJ       I-NP\n",
       "policy           NN       I-NP\n",
       "has             VBZ       B-VP\n",
       "helped          VBN       I-VP\n",
       "to               TO       I-VP\n",
       "prevent          VB       I-VP\n",
       "a                DT       B-NP\n",
       "freefall         NN       I-NP\n",
       "in               IN       B-PP\n",
       "sterling         NN       B-NP\n",
       "over             IN       B-PP\n",
       "the              DT       B-NP\n",
       "past             JJ       I-NP\n",
       "week             NN       I-NP\n",
       ".                 .          O"
      ]
     },
     "execution_count": 63,
     "metadata": {},
     "output_type": "execute_result"
    }
   ],
   "source": [
    "pd.DataFrame(wtc, columns=['Word', 'POS_nltk', 'Chunck tag']).set_index('Word')"
   ]
  },
  {
   "cell_type": "markdown",
   "id": "5a12567d-2848-43cc-b803-e5702d83a045",
   "metadata": {},
   "source": [
    "The chunk tags use the `IOB format`. This notation represents Inside, Outside, and Beginning. \n",
    "* `B- prefix` before a tag indicates it is the **beginning of a chunk**. The B- tag is always used when there are subsequent tags of the same type following it without the presence of O tags between them.\n",
    "* `I- prefix` indicates that it is **inside a chunk**.\n",
    "* `O tag` indicates that the token **does not belong to any chunk**.\n",
    "\n",
    "We will now define a function `conll_tag_ chunks()` to extract `POS` and `chunk tags` from sentences with chunked annotations and a function called `combined_taggers()` to train multiple taggers with backoff taggers (e.g. unigram and bigram taggers)"
   ]
  },
  {
   "cell_type": "code",
   "execution_count": 27,
   "id": "736168a9-5d5c-4fc2-88d2-d0702a7bdbf0",
   "metadata": {},
   "outputs": [],
   "source": [
    "def conll_tag_chunks(chunk_sents):\n",
    "    tagged_sents = [tree2conlltags(tree) for tree in chunk_sents]\n",
    "    return [[(t, c) for (w, t, c) in sent] for sent in tagged_sents]\n",
    "\n",
    "\n",
    "def combined_tagger(train_data, taggers, backoff=None):\n",
    "    for tagger in taggers:\n",
    "        backoff = tagger(train_data, backoff=backoff)\n",
    "    return backoff"
   ]
  },
  {
   "cell_type": "markdown",
   "id": "98b76448-ad00-45cf-9b71-7f82e5b607da",
   "metadata": {},
   "source": [
    "We will now define a class `NGramTagChunker` that will take in tagged sentences as training input, get their (word, POS tag, Chunk tag) WTC triples, and train a `BigramTagger` with a `UnigramTagger` as the backoff tagger. We will also define a `parse()` function to perform shallow parsing on new sentences"
   ]
  },
  {
   "cell_type": "markdown",
   "id": "7cdb3a9b-0633-48ea-ada5-d8ffc633a531",
   "metadata": {},
   "source": [
    "The UnigramTagger , BigramTagger , and TrigramTagger are classes that inherit from the base class NGramTagger , which itself inherits from the ContextTagger class , which inherits from the SequentialBackoffTagger class ."
   ]
  },
  {
   "cell_type": "markdown",
   "id": "9a5dd053-9a0d-4989-9f7c-7adfbed930dd",
   "metadata": {},
   "source": [
    "We will use this class to train on the conll2000 chunked train_data and evaluate the model performance on the test_data"
   ]
  },
  {
   "cell_type": "code",
   "execution_count": 28,
   "id": "f9654e3d-8778-4393-9d98-e1c7f0b802ec",
   "metadata": {},
   "outputs": [
    {
     "name": "stdout",
     "output_type": "stream",
     "text": [
      "ChunkParse score:\n",
      "    IOB Accuracy:  90.0%%\n",
      "    Precision:     82.1%%\n",
      "    Recall:        86.3%%\n",
      "    F-Measure:     84.1%%\n"
     ]
    }
   ],
   "source": [
    "# define the chunker class\n",
    "class NGramTagChunker(ChunkParserI):\n",
    "    \n",
    "  def __init__(self, train_sentences, \n",
    "               tagger_classes=[UnigramTagger, BigramTagger]):\n",
    "    train_sent_tags = conll_tag_chunks(train_sentences)\n",
    "    self.chunk_tagger = combined_tagger(train_sent_tags, tagger_classes)\n",
    "\n",
    "  def parse(self, tagged_sentence):\n",
    "    if not tagged_sentence: \n",
    "        return None\n",
    "    pos_tags = [tag for word, tag in tagged_sentence]\n",
    "    chunk_pos_tags = self.chunk_tagger.tag(pos_tags)\n",
    "    chunk_tags = [chunk_tag for (pos_tag, chunk_tag) in chunk_pos_tags]\n",
    "    wpc_tags = [(word, pos_tag, chunk_tag) for ((word, pos_tag), chunk_tag)\n",
    "                     in zip(tagged_sentence, chunk_tags)]\n",
    "    return conlltags2tree(wpc_tags)\n",
    "  \n",
    "# train chunker model  \n",
    "ntc = NGramTagChunker(train_data)\n",
    "\n",
    "# evaluate chunker model performance\n",
    "print(ntc.accuracy(test_data))"
   ]
  },
  {
   "cell_type": "markdown",
   "id": "d6f29228-ab73-4b6e-9b96-7c8223cb47f2",
   "metadata": {},
   "source": [
    "Our chunking model gets an accuracy of around 90% which is quite good! Let’s now leverage this model to shallow parse and chunk our sample news article headline which we used earlier, “US unveils world’s most powerful supercomputer, beats China”."
   ]
  },
  {
   "cell_type": "code",
   "execution_count": 29,
   "id": "1cde760b-411e-453a-98f2-1a148ca087f4",
   "metadata": {},
   "outputs": [
    {
     "name": "stdout",
     "output_type": "stream",
     "text": [
      "(S\n",
      "  (NP The/DT brown/JJ fox/NN)\n",
      "  (VP is/VBZ)\n",
      "  (NP quick/JJ)\n",
      "  and/CC\n",
      "  (NP he/PRP)\n",
      "  (VP is/VBZ jumping/VBG)\n",
      "  (PP over/IN)\n",
      "  (NP the/DT lazy/JJ dog/NN))\n"
     ]
    }
   ],
   "source": [
    "chunk_tree = ntc.parse(pos_tags)\n",
    "print(chunk_tree)"
   ]
  },
  {
   "cell_type": "markdown",
   "id": "25b02b1f-a741-41c0-bcab-5e230dc12134",
   "metadata": {},
   "source": [
    "Thus you can see it has identified two noun phrases (NP) and one verb phrase (VP) in the news article. Each word’s POS tags are also visible. We can also visualize this in the form of a tree as follows. You might need to install ghostscript in case nltk throws an error."
   ]
  },
  {
   "cell_type": "code",
   "execution_count": 30,
   "id": "f8c14f27-bcda-4ec5-9abe-a4774a59cb81",
   "metadata": {},
   "outputs": [
    {
     "data": {
      "image/svg+xml": [
       "<svg baseProfile=\"full\" height=\"168px\" preserveAspectRatio=\"xMidYMid meet\" style=\"font-family: times, serif; font-weight: normal; font-style: normal; font-size: 16px\" version=\"1.1\" viewBox=\"0,0,600.0,168.0\" width=\"600px\" xmlns=\"http://www.w3.org/2000/svg\" xmlns:ev=\"http://www.w3.org/2001/xml-events\" xmlns:xlink=\"http://www.w3.org/1999/xlink\"><defs /><svg width=\"100%\" x=\"0\" y=\"0px\"><defs /><text text-anchor=\"middle\" x=\"50%\" y=\"16px\">S</text></svg><svg width=\"22.6667%\" x=\"0%\" y=\"48px\"><defs /><svg width=\"100%\" x=\"0\" y=\"0px\"><defs /><text text-anchor=\"middle\" x=\"50%\" y=\"16px\">NP</text></svg><svg width=\"29.4118%\" x=\"0%\" y=\"48px\"><defs /><svg width=\"100%\" x=\"0\" y=\"0px\"><defs /><text text-anchor=\"middle\" x=\"50%\" y=\"16px\">The</text></svg><svg width=\"100%\" x=\"0%\" y=\"48px\"><defs /><svg width=\"100%\" x=\"0\" y=\"0px\"><defs /><text text-anchor=\"middle\" x=\"50%\" y=\"16px\">DT</text></svg></svg><line stroke=\"black\" x1=\"50%\" x2=\"50%\" y1=\"20px\" y2=\"48px\" /></svg><line stroke=\"black\" x1=\"50%\" x2=\"14.7059%\" y1=\"20px\" y2=\"48px\" /><svg width=\"41.1765%\" x=\"29.4118%\" y=\"48px\"><defs /><svg width=\"100%\" x=\"0\" y=\"0px\"><defs /><text text-anchor=\"middle\" x=\"50%\" y=\"16px\">brown</text></svg><svg width=\"100%\" x=\"0%\" y=\"48px\"><defs /><svg width=\"100%\" x=\"0\" y=\"0px\"><defs /><text text-anchor=\"middle\" x=\"50%\" y=\"16px\">JJ</text></svg></svg><line stroke=\"black\" x1=\"50%\" x2=\"50%\" y1=\"20px\" y2=\"48px\" /></svg><line stroke=\"black\" x1=\"50%\" x2=\"50%\" y1=\"20px\" y2=\"48px\" /><svg width=\"29.4118%\" x=\"70.5882%\" y=\"48px\"><defs /><svg width=\"100%\" x=\"0\" y=\"0px\"><defs /><text text-anchor=\"middle\" x=\"50%\" y=\"16px\">fox</text></svg><svg width=\"100%\" x=\"0%\" y=\"48px\"><defs /><svg width=\"100%\" x=\"0\" y=\"0px\"><defs /><text text-anchor=\"middle\" x=\"50%\" y=\"16px\">NN</text></svg></svg><line stroke=\"black\" x1=\"50%\" x2=\"50%\" y1=\"20px\" y2=\"48px\" /></svg><line stroke=\"black\" x1=\"50%\" x2=\"85.2941%\" y1=\"20px\" y2=\"48px\" /></svg><line stroke=\"black\" x1=\"50%\" x2=\"11.3333%\" y1=\"20px\" y2=\"48px\" /><svg width=\"6.66667%\" x=\"22.6667%\" y=\"48px\"><defs /><svg width=\"100%\" x=\"0\" y=\"0px\"><defs /><text text-anchor=\"middle\" x=\"50%\" y=\"16px\">VP</text></svg><svg width=\"100%\" x=\"0%\" y=\"48px\"><defs /><svg width=\"100%\" x=\"0\" y=\"0px\"><defs /><text text-anchor=\"middle\" x=\"50%\" y=\"16px\">is</text></svg><svg width=\"100%\" x=\"0%\" y=\"48px\"><defs /><svg width=\"100%\" x=\"0\" y=\"0px\"><defs /><text text-anchor=\"middle\" x=\"50%\" y=\"16px\">VBZ</text></svg></svg><line stroke=\"black\" x1=\"50%\" x2=\"50%\" y1=\"20px\" y2=\"48px\" /></svg><line stroke=\"black\" x1=\"50%\" x2=\"50%\" y1=\"20px\" y2=\"48px\" /></svg><line stroke=\"black\" x1=\"50%\" x2=\"26%\" y1=\"20px\" y2=\"48px\" /><svg width=\"9.33333%\" x=\"29.3333%\" y=\"48px\"><defs /><svg width=\"100%\" x=\"0\" y=\"0px\"><defs /><text text-anchor=\"middle\" x=\"50%\" y=\"16px\">NP</text></svg><svg width=\"100%\" x=\"0%\" y=\"48px\"><defs /><svg width=\"100%\" x=\"0\" y=\"0px\"><defs /><text text-anchor=\"middle\" x=\"50%\" y=\"16px\">quick</text></svg><svg width=\"100%\" x=\"0%\" y=\"48px\"><defs /><svg width=\"100%\" x=\"0\" y=\"0px\"><defs /><text text-anchor=\"middle\" x=\"50%\" y=\"16px\">JJ</text></svg></svg><line stroke=\"black\" x1=\"50%\" x2=\"50%\" y1=\"20px\" y2=\"48px\" /></svg><line stroke=\"black\" x1=\"50%\" x2=\"50%\" y1=\"20px\" y2=\"48px\" /></svg><line stroke=\"black\" x1=\"50%\" x2=\"34%\" y1=\"20px\" y2=\"48px\" /><svg width=\"6.66667%\" x=\"38.6667%\" y=\"48px\"><defs /><svg width=\"100%\" x=\"0\" y=\"0px\"><defs /><text text-anchor=\"middle\" x=\"50%\" y=\"16px\">and</text></svg><svg width=\"100%\" x=\"0%\" y=\"48px\"><defs /><svg width=\"100%\" x=\"0\" y=\"0px\"><defs /><text text-anchor=\"middle\" x=\"50%\" y=\"16px\">CC</text></svg></svg><line stroke=\"black\" x1=\"50%\" x2=\"50%\" y1=\"20px\" y2=\"48px\" /></svg><line stroke=\"black\" x1=\"50%\" x2=\"42%\" y1=\"20px\" y2=\"48px\" /><svg width=\"6.66667%\" x=\"45.3333%\" y=\"48px\"><defs /><svg width=\"100%\" x=\"0\" y=\"0px\"><defs /><text text-anchor=\"middle\" x=\"50%\" y=\"16px\">NP</text></svg><svg width=\"100%\" x=\"0%\" y=\"48px\"><defs /><svg width=\"100%\" x=\"0\" y=\"0px\"><defs /><text text-anchor=\"middle\" x=\"50%\" y=\"16px\">he</text></svg><svg width=\"100%\" x=\"0%\" y=\"48px\"><defs /><svg width=\"100%\" x=\"0\" y=\"0px\"><defs /><text text-anchor=\"middle\" x=\"50%\" y=\"16px\">PRP</text></svg></svg><line stroke=\"black\" x1=\"50%\" x2=\"50%\" y1=\"20px\" y2=\"48px\" /></svg><line stroke=\"black\" x1=\"50%\" x2=\"50%\" y1=\"20px\" y2=\"48px\" /></svg><line stroke=\"black\" x1=\"50%\" x2=\"48.6667%\" y1=\"20px\" y2=\"48px\" /><svg width=\"18.6667%\" x=\"52%\" y=\"48px\"><defs /><svg width=\"100%\" x=\"0\" y=\"0px\"><defs /><text text-anchor=\"middle\" x=\"50%\" y=\"16px\">VP</text></svg><svg width=\"35.7143%\" x=\"0%\" y=\"48px\"><defs /><svg width=\"100%\" x=\"0\" y=\"0px\"><defs /><text text-anchor=\"middle\" x=\"50%\" y=\"16px\">is</text></svg><svg width=\"100%\" x=\"0%\" y=\"48px\"><defs /><svg width=\"100%\" x=\"0\" y=\"0px\"><defs /><text text-anchor=\"middle\" x=\"50%\" y=\"16px\">VBZ</text></svg></svg><line stroke=\"black\" x1=\"50%\" x2=\"50%\" y1=\"20px\" y2=\"48px\" /></svg><line stroke=\"black\" x1=\"50%\" x2=\"17.8571%\" y1=\"20px\" y2=\"48px\" /><svg width=\"64.2857%\" x=\"35.7143%\" y=\"48px\"><defs /><svg width=\"100%\" x=\"0\" y=\"0px\"><defs /><text text-anchor=\"middle\" x=\"50%\" y=\"16px\">jumping</text></svg><svg width=\"100%\" x=\"0%\" y=\"48px\"><defs /><svg width=\"100%\" x=\"0\" y=\"0px\"><defs /><text text-anchor=\"middle\" x=\"50%\" y=\"16px\">VBG</text></svg></svg><line stroke=\"black\" x1=\"50%\" x2=\"50%\" y1=\"20px\" y2=\"48px\" /></svg><line stroke=\"black\" x1=\"50%\" x2=\"67.8571%\" y1=\"20px\" y2=\"48px\" /></svg><line stroke=\"black\" x1=\"50%\" x2=\"61.3333%\" y1=\"20px\" y2=\"48px\" /><svg width=\"8%\" x=\"70.6667%\" y=\"48px\"><defs /><svg width=\"100%\" x=\"0\" y=\"0px\"><defs /><text text-anchor=\"middle\" x=\"50%\" y=\"16px\">PP</text></svg><svg width=\"100%\" x=\"0%\" y=\"48px\"><defs /><svg width=\"100%\" x=\"0\" y=\"0px\"><defs /><text text-anchor=\"middle\" x=\"50%\" y=\"16px\">over</text></svg><svg width=\"100%\" x=\"0%\" y=\"48px\"><defs /><svg width=\"100%\" x=\"0\" y=\"0px\"><defs /><text text-anchor=\"middle\" x=\"50%\" y=\"16px\">IN</text></svg></svg><line stroke=\"black\" x1=\"50%\" x2=\"50%\" y1=\"20px\" y2=\"48px\" /></svg><line stroke=\"black\" x1=\"50%\" x2=\"50%\" y1=\"20px\" y2=\"48px\" /></svg><line stroke=\"black\" x1=\"50%\" x2=\"74.6667%\" y1=\"20px\" y2=\"48px\" /><svg width=\"21.3333%\" x=\"78.6667%\" y=\"48px\"><defs /><svg width=\"100%\" x=\"0\" y=\"0px\"><defs /><text text-anchor=\"middle\" x=\"50%\" y=\"16px\">NP</text></svg><svg width=\"31.25%\" x=\"0%\" y=\"48px\"><defs /><svg width=\"100%\" x=\"0\" y=\"0px\"><defs /><text text-anchor=\"middle\" x=\"50%\" y=\"16px\">the</text></svg><svg width=\"100%\" x=\"0%\" y=\"48px\"><defs /><svg width=\"100%\" x=\"0\" y=\"0px\"><defs /><text text-anchor=\"middle\" x=\"50%\" y=\"16px\">DT</text></svg></svg><line stroke=\"black\" x1=\"50%\" x2=\"50%\" y1=\"20px\" y2=\"48px\" /></svg><line stroke=\"black\" x1=\"50%\" x2=\"15.625%\" y1=\"20px\" y2=\"48px\" /><svg width=\"37.5%\" x=\"31.25%\" y=\"48px\"><defs /><svg width=\"100%\" x=\"0\" y=\"0px\"><defs /><text text-anchor=\"middle\" x=\"50%\" y=\"16px\">lazy</text></svg><svg width=\"100%\" x=\"0%\" y=\"48px\"><defs /><svg width=\"100%\" x=\"0\" y=\"0px\"><defs /><text text-anchor=\"middle\" x=\"50%\" y=\"16px\">JJ</text></svg></svg><line stroke=\"black\" x1=\"50%\" x2=\"50%\" y1=\"20px\" y2=\"48px\" /></svg><line stroke=\"black\" x1=\"50%\" x2=\"50%\" y1=\"20px\" y2=\"48px\" /><svg width=\"31.25%\" x=\"68.75%\" y=\"48px\"><defs /><svg width=\"100%\" x=\"0\" y=\"0px\"><defs /><text text-anchor=\"middle\" x=\"50%\" y=\"16px\">dog</text></svg><svg width=\"100%\" x=\"0%\" y=\"48px\"><defs /><svg width=\"100%\" x=\"0\" y=\"0px\"><defs /><text text-anchor=\"middle\" x=\"50%\" y=\"16px\">NN</text></svg></svg><line stroke=\"black\" x1=\"50%\" x2=\"50%\" y1=\"20px\" y2=\"48px\" /></svg><line stroke=\"black\" x1=\"50%\" x2=\"84.375%\" y1=\"20px\" y2=\"48px\" /></svg><line stroke=\"black\" x1=\"50%\" x2=\"89.3333%\" y1=\"20px\" y2=\"48px\" /></svg>"
      ],
      "text/plain": [
       "Tree('S', [Tree('NP', [('The', 'DT'), ('brown', 'JJ'), ('fox', 'NN')]), Tree('VP', [('is', 'VBZ')]), Tree('NP', [('quick', 'JJ')]), ('and', 'CC'), Tree('NP', [('he', 'PRP')]), Tree('VP', [('is', 'VBZ'), ('jumping', 'VBG')]), Tree('PP', [('over', 'IN')]), Tree('NP', [('the', 'DT'), ('lazy', 'JJ'), ('dog', 'NN')])])"
      ]
     },
     "metadata": {},
     "output_type": "display_data"
    }
   ],
   "source": [
    "display(chunk_tree)"
   ]
  },
  {
   "cell_type": "markdown",
   "id": "038e8342-c4c9-4309-bc3b-9288d6ff88e1",
   "metadata": {},
   "source": [
    "The preceding output gives a good sense of structure after shallow parsing the news headline."
   ]
  },
  {
   "cell_type": "markdown",
   "id": "ac1fd5f5-5034-4786-885b-f807fcfcfefe",
   "metadata": {},
   "source": [
    "## Constituency Parsing"
   ]
  },
  {
   "cell_type": "markdown",
   "id": "750df103-9216-4df5-9fc7-3ef1bf0576d5",
   "metadata": {},
   "source": [
    "Constituent-based grammars are used to analyze and determine the constituents of a sentence. These grammars can be used to model or represent the internal structure of sentences in terms of a hierarchically ordered structure of their constituents. Each and every word usually belongs to a specific lexical category in the case and forms the head word of different phrases. These phrases are formed based on rules called phrase structure rules."
   ]
  },
  {
   "cell_type": "markdown",
   "id": "461dd4e8-5b3c-4e6f-b3ea-769836eff12a",
   "metadata": {},
   "source": [
    "Phrase structure rules form the core of constituency grammars, because they talk about syntax and rules that govern the hierarchy and ordering of the various constituents in the sentences. These rules cater to two things primarily."
   ]
  },
  {
   "cell_type": "markdown",
   "id": "90b5f9cf-8a1c-4e8e-bb48-7c53b20cbf14",
   "metadata": {},
   "source": [
    "* They determine what words are used to construct the phrases or constituents.\n",
    "* They determine how we need to order these constituents together."
   ]
  },
  {
   "cell_type": "markdown",
   "id": "ecc9200a-0b32-4b17-a7a1-932363ecbf6b",
   "metadata": {},
   "source": [
    "The generic representation of a phrase structure rule is S → AB , which depicts that the structure S consists of constituents A and B , and the ordering is A followed by B . While there are several rules (refer to Chapter 1, Page 19: Text Analytics with Python, if you want to dive deeper), the most important rule describes how to divide a sentence or a clause. The phrase structure rule denotes a binary division for a sentence or a clause as S → NP VP where S is the sentence or clause, and it is divided into the subject, denoted by the noun phrase (NP) and the predicate, denoted by the verb phrase (VP)."
   ]
  },
  {
   "cell_type": "markdown",
   "id": "892e41d8-e11f-491f-abcc-3f3c5643beb8",
   "metadata": {},
   "source": [
    "A constituency parser can be built based on such grammars/rules, which are usually collectively available as context-free grammar (CFG) or phrase-structured grammar. The parser will process input sentences according to these rules, and help in building a parse tree."
   ]
  },
  {
   "cell_type": "markdown",
   "id": "6c516bf9-d1cb-4146-978c-2ba7b08726b4",
   "metadata": {},
   "source": [
    "The Stanford parser generally uses a PCFG (probabilistic context-free grammar) parser. A PCFG is a context-free grammar that associates a probability with each of its production rules. The probability of a parse tree generated from a PCFG is simply the production of the individual probabilities of the productions used to generate it."
   ]
  },
  {
   "cell_type": "code",
   "execution_count": 31,
   "id": "56cea9b2-89a4-494f-b697-16a02d192861",
   "metadata": {},
   "outputs": [
    {
     "name": "stdout",
     "output_type": "stream",
     "text": [
      "(ROOT\n",
      "  (S\n",
      "    (NP (NNP US))\n",
      "    (VP\n",
      "      (VP\n",
      "        (VBZ unveils)\n",
      "        (NP\n",
      "          (NN world)\n",
      "          (NN ’s)\n",
      "          (ADJP (RBS most) (JJ powerful))\n",
      "          (NN supercomputer)))\n",
      "      (, ,)\n",
      "      (VP (VBZ beats) (NP (NNP China))))))\n"
     ]
    }
   ],
   "source": [
    "# Set the path to your Java installation\n",
    "java_path = r'C:\\Users\\praka\\AppData\\Local\\Programs\\Eclipse Adoptium\\jdk-21.0.4.7-hotspot\\bin\\java.exe'\n",
    "os.environ['JAVAHOME'] = java_path\n",
    "\n",
    "# Set the paths to the Stanford Parser jar files\n",
    "scp = StanfordParser(\n",
    "    path_to_jar=r'C:\\Users\\praka\\stanford-parser-4.2.0\\stanford-parser-full-2020-11-17\\stanford-parser.jar',\n",
    "    path_to_models_jar=r'C:\\Users\\praka\\stanford-parser-4.2.0\\stanford-parser-full-2020-11-17\\stanford-parser-4.2.0-models.jar'\n",
    ")\n",
    "\n",
    "# Example sentence to parse\n",
    "sentence = \"US unveils world’s most powerful supercomputer, beats China\"\n",
    "\n",
    "# Perform parsing\n",
    "result = list(scp.raw_parse(sentence))\n",
    "\n",
    "# Print the parse tree\n",
    "print(result[0])"
   ]
  },
  {
   "cell_type": "markdown",
   "id": "9c2660d1-b9b2-4619-bbbc-018a0498c7d4",
   "metadata": {},
   "source": [
    "We can see the constituency parse tree for our news headline. Let’s visualize it to understand the structure better."
   ]
  },
  {
   "cell_type": "code",
   "execution_count": 32,
   "id": "bcdfcaed-6d02-4ee0-b3fc-adc8057afa67",
   "metadata": {},
   "outputs": [
    {
     "data": {
      "image/svg+xml": [
       "<svg baseProfile=\"full\" height=\"360px\" preserveAspectRatio=\"xMidYMid meet\" style=\"font-family: times, serif; font-weight: normal; font-style: normal; font-size: 16px\" version=\"1.1\" viewBox=\"0,0,584.0,360.0\" width=\"584px\" xmlns=\"http://www.w3.org/2000/svg\" xmlns:ev=\"http://www.w3.org/2001/xml-events\" xmlns:xlink=\"http://www.w3.org/1999/xlink\"><defs /><svg width=\"100%\" x=\"0\" y=\"0px\"><defs /><text text-anchor=\"middle\" x=\"50%\" y=\"16px\">ROOT</text></svg><svg width=\"100%\" x=\"0%\" y=\"48px\"><defs /><svg width=\"100%\" x=\"0\" y=\"0px\"><defs /><text text-anchor=\"middle\" x=\"50%\" y=\"16px\">S</text></svg><svg width=\"6.84932%\" x=\"0%\" y=\"48px\"><defs /><svg width=\"100%\" x=\"0\" y=\"0px\"><defs /><text text-anchor=\"middle\" x=\"50%\" y=\"16px\">NP</text></svg><svg width=\"100%\" x=\"0%\" y=\"48px\"><defs /><svg width=\"100%\" x=\"0\" y=\"0px\"><defs /><text text-anchor=\"middle\" x=\"50%\" y=\"16px\">NNP</text></svg><svg width=\"100%\" x=\"0%\" y=\"48px\"><defs /><svg width=\"100%\" x=\"0\" y=\"0px\"><defs /><text text-anchor=\"middle\" x=\"50%\" y=\"16px\">US</text></svg></svg><line stroke=\"black\" x1=\"50%\" x2=\"50%\" y1=\"20px\" y2=\"48px\" /></svg><line stroke=\"black\" x1=\"50%\" x2=\"50%\" y1=\"20px\" y2=\"48px\" /></svg><line stroke=\"black\" x1=\"50%\" x2=\"3.42466%\" y1=\"20px\" y2=\"48px\" /><svg width=\"93.1507%\" x=\"6.84932%\" y=\"48px\"><defs /><svg width=\"100%\" x=\"0\" y=\"0px\"><defs /><text text-anchor=\"middle\" x=\"50%\" y=\"16px\">VP</text></svg><svg width=\"75%\" x=\"0%\" y=\"48px\"><defs /><svg width=\"100%\" x=\"0\" y=\"0px\"><defs /><text text-anchor=\"middle\" x=\"50%\" y=\"16px\">VP</text></svg><svg width=\"17.6471%\" x=\"0%\" y=\"48px\"><defs /><svg width=\"100%\" x=\"0\" y=\"0px\"><defs /><text text-anchor=\"middle\" x=\"50%\" y=\"16px\">VBZ</text></svg><svg width=\"100%\" x=\"0%\" y=\"48px\"><defs /><svg width=\"100%\" x=\"0\" y=\"0px\"><defs /><text text-anchor=\"middle\" x=\"50%\" y=\"16px\">unveils</text></svg></svg><line stroke=\"black\" x1=\"50%\" x2=\"50%\" y1=\"20px\" y2=\"48px\" /></svg><line stroke=\"black\" x1=\"50%\" x2=\"8.82353%\" y1=\"20px\" y2=\"48px\" /><svg width=\"82.3529%\" x=\"17.6471%\" y=\"48px\"><defs /><svg width=\"100%\" x=\"0\" y=\"0px\"><defs /><text text-anchor=\"middle\" x=\"50%\" y=\"16px\">NP</text></svg><svg width=\"16.6667%\" x=\"0%\" y=\"48px\"><defs /><svg width=\"100%\" x=\"0\" y=\"0px\"><defs /><text text-anchor=\"middle\" x=\"50%\" y=\"16px\">NN</text></svg><svg width=\"100%\" x=\"0%\" y=\"48px\"><defs /><svg width=\"100%\" x=\"0\" y=\"0px\"><defs /><text text-anchor=\"middle\" x=\"50%\" y=\"16px\">world</text></svg></svg><line stroke=\"black\" x1=\"50%\" x2=\"50%\" y1=\"20px\" y2=\"48px\" /></svg><line stroke=\"black\" x1=\"50%\" x2=\"8.33333%\" y1=\"20px\" y2=\"48px\" /><svg width=\"9.52381%\" x=\"16.6667%\" y=\"48px\"><defs /><svg width=\"100%\" x=\"0\" y=\"0px\"><defs /><text text-anchor=\"middle\" x=\"50%\" y=\"16px\">NN</text></svg><svg width=\"100%\" x=\"0%\" y=\"48px\"><defs /><svg width=\"100%\" x=\"0\" y=\"0px\"><defs /><text text-anchor=\"middle\" x=\"50%\" y=\"16px\">’s</text></svg></svg><line stroke=\"black\" x1=\"50%\" x2=\"50%\" y1=\"20px\" y2=\"48px\" /></svg><line stroke=\"black\" x1=\"50%\" x2=\"21.4286%\" y1=\"20px\" y2=\"48px\" /><svg width=\"38.0952%\" x=\"26.1905%\" y=\"48px\"><defs /><svg width=\"100%\" x=\"0\" y=\"0px\"><defs /><text text-anchor=\"middle\" x=\"50%\" y=\"16px\">ADJP</text></svg><svg width=\"37.5%\" x=\"0%\" y=\"48px\"><defs /><svg width=\"100%\" x=\"0\" y=\"0px\"><defs /><text text-anchor=\"middle\" x=\"50%\" y=\"16px\">RBS</text></svg><svg width=\"100%\" x=\"0%\" y=\"48px\"><defs /><svg width=\"100%\" x=\"0\" y=\"0px\"><defs /><text text-anchor=\"middle\" x=\"50%\" y=\"16px\">most</text></svg></svg><line stroke=\"black\" x1=\"50%\" x2=\"50%\" y1=\"20px\" y2=\"48px\" /></svg><line stroke=\"black\" x1=\"50%\" x2=\"18.75%\" y1=\"20px\" y2=\"48px\" /><svg width=\"62.5%\" x=\"37.5%\" y=\"48px\"><defs /><svg width=\"100%\" x=\"0\" y=\"0px\"><defs /><text text-anchor=\"middle\" x=\"50%\" y=\"16px\">JJ</text></svg><svg width=\"100%\" x=\"0%\" y=\"48px\"><defs /><svg width=\"100%\" x=\"0\" y=\"0px\"><defs /><text text-anchor=\"middle\" x=\"50%\" y=\"16px\">powerful</text></svg></svg><line stroke=\"black\" x1=\"50%\" x2=\"50%\" y1=\"20px\" y2=\"48px\" /></svg><line stroke=\"black\" x1=\"50%\" x2=\"68.75%\" y1=\"20px\" y2=\"48px\" /></svg><line stroke=\"black\" x1=\"50%\" x2=\"45.2381%\" y1=\"20px\" y2=\"48px\" /><svg width=\"35.7143%\" x=\"64.2857%\" y=\"48px\"><defs /><svg width=\"100%\" x=\"0\" y=\"0px\"><defs /><text text-anchor=\"middle\" x=\"50%\" y=\"16px\">NN</text></svg><svg width=\"100%\" x=\"0%\" y=\"48px\"><defs /><svg width=\"100%\" x=\"0\" y=\"0px\"><defs /><text text-anchor=\"middle\" x=\"50%\" y=\"16px\">supercomputer</text></svg></svg><line stroke=\"black\" x1=\"50%\" x2=\"50%\" y1=\"20px\" y2=\"48px\" /></svg><line stroke=\"black\" x1=\"50%\" x2=\"82.1429%\" y1=\"20px\" y2=\"48px\" /></svg><line stroke=\"black\" x1=\"50%\" x2=\"58.8235%\" y1=\"20px\" y2=\"48px\" /></svg><line stroke=\"black\" x1=\"50%\" x2=\"37.5%\" y1=\"20px\" y2=\"48px\" /><svg width=\"4.41176%\" x=\"75%\" y=\"48px\"><defs /><svg width=\"100%\" x=\"0\" y=\"0px\"><defs /><text text-anchor=\"middle\" x=\"50%\" y=\"16px\">,</text></svg><svg width=\"100%\" x=\"0%\" y=\"48px\"><defs /><svg width=\"100%\" x=\"0\" y=\"0px\"><defs /><text text-anchor=\"middle\" x=\"50%\" y=\"16px\">,</text></svg></svg><line stroke=\"black\" x1=\"50%\" x2=\"50%\" y1=\"20px\" y2=\"48px\" /></svg><line stroke=\"black\" x1=\"50%\" x2=\"77.2059%\" y1=\"20px\" y2=\"48px\" /><svg width=\"20.5882%\" x=\"79.4118%\" y=\"48px\"><defs /><svg width=\"100%\" x=\"0\" y=\"0px\"><defs /><text text-anchor=\"middle\" x=\"50%\" y=\"16px\">VP</text></svg><svg width=\"50%\" x=\"0%\" y=\"48px\"><defs /><svg width=\"100%\" x=\"0\" y=\"0px\"><defs /><text text-anchor=\"middle\" x=\"50%\" y=\"16px\">VBZ</text></svg><svg width=\"100%\" x=\"0%\" y=\"48px\"><defs /><svg width=\"100%\" x=\"0\" y=\"0px\"><defs /><text text-anchor=\"middle\" x=\"50%\" y=\"16px\">beats</text></svg></svg><line stroke=\"black\" x1=\"50%\" x2=\"50%\" y1=\"20px\" y2=\"48px\" /></svg><line stroke=\"black\" x1=\"50%\" x2=\"25%\" y1=\"20px\" y2=\"48px\" /><svg width=\"50%\" x=\"50%\" y=\"48px\"><defs /><svg width=\"100%\" x=\"0\" y=\"0px\"><defs /><text text-anchor=\"middle\" x=\"50%\" y=\"16px\">NP</text></svg><svg width=\"100%\" x=\"0%\" y=\"48px\"><defs /><svg width=\"100%\" x=\"0\" y=\"0px\"><defs /><text text-anchor=\"middle\" x=\"50%\" y=\"16px\">NNP</text></svg><svg width=\"100%\" x=\"0%\" y=\"48px\"><defs /><svg width=\"100%\" x=\"0\" y=\"0px\"><defs /><text text-anchor=\"middle\" x=\"50%\" y=\"16px\">China</text></svg></svg><line stroke=\"black\" x1=\"50%\" x2=\"50%\" y1=\"20px\" y2=\"48px\" /></svg><line stroke=\"black\" x1=\"50%\" x2=\"50%\" y1=\"20px\" y2=\"48px\" /></svg><line stroke=\"black\" x1=\"50%\" x2=\"75%\" y1=\"20px\" y2=\"48px\" /></svg><line stroke=\"black\" x1=\"50%\" x2=\"89.7059%\" y1=\"20px\" y2=\"48px\" /></svg><line stroke=\"black\" x1=\"50%\" x2=\"53.4247%\" y1=\"20px\" y2=\"48px\" /></svg><line stroke=\"black\" x1=\"50%\" x2=\"50%\" y1=\"20px\" y2=\"48px\" /></svg>"
      ],
      "text/plain": [
       "Tree('ROOT', [Tree('S', [Tree('NP', [Tree('NNP', ['US'])]), Tree('VP', [Tree('VP', [Tree('VBZ', ['unveils']), Tree('NP', [Tree('NN', ['world']), Tree('NN', ['’s']), Tree('ADJP', [Tree('RBS', ['most']), Tree('JJ', ['powerful'])]), Tree('NN', ['supercomputer'])])]), Tree(',', [',']), Tree('VP', [Tree('VBZ', ['beats']), Tree('NP', [Tree('NNP', ['China'])])])])])])"
      ]
     },
     "metadata": {},
     "output_type": "display_data"
    }
   ],
   "source": [
    "display(result[0])"
   ]
  },
  {
   "cell_type": "markdown",
   "id": "33d18936-41f1-4331-b51d-15853902db85",
   "metadata": {},
   "source": [
    "We can see the nested hierarchical structure of the constituents in the preceding output as compared to the flat structure in shallow parsing. In case you are wondering what SINV means, it represents an Inverted declarative sentence, i.e. one in which the subject follows the tensed verb or modal. Refer to the Penn Treebank reference as needed to lookup other tags."
   ]
  },
  {
   "cell_type": "markdown",
   "id": "416f1b98-ada9-4908-baf4-1728d4b0b050",
   "metadata": {},
   "source": [
    "## Dependency Parsing"
   ]
  },
  {
   "cell_type": "markdown",
   "id": "37d5a81a-e6fd-4101-9ff7-6ea0d40bec70",
   "metadata": {},
   "source": [
    "In dependency parsing, we try to use dependency-based grammars to analyze and infer both structure and semantic dependencies and relationships between tokens in a sentence. The basic principle behind a dependency grammar is that in any sentence in the language, all words except one, have some relationship or dependency on other words in the sentence. The word that has no dependency is called the root of the sentence. The verb is taken as the root of the sentence in most cases. All the other words are directly or indirectly linked to the root verb using links , which are the dependencies.\n",
    "\n",
    "Considering our sentence “The brown fox is quick and he is jumping over the lazy dog” , if we wanted to draw the dependency syntax tree for this, we would have the structure"
   ]
  },
  {
   "cell_type": "code",
   "execution_count": 33,
   "id": "48b9d8c7-e1a1-40a7-981c-d067f452d80a",
   "metadata": {},
   "outputs": [
    {
     "name": "stdout",
     "output_type": "stream",
     "text": [
      "[]<---The[det]--->[]\n",
      "--------\n",
      "[]<---brown[amod]--->[]\n",
      "--------\n",
      "['The', 'brown']<---fox[nsubj]--->[]\n",
      "--------\n",
      "['fox']<---is[ROOT]--->['quick', 'and', 'jumping']\n",
      "--------\n",
      "[]<---quick[acomp]--->[]\n",
      "--------\n",
      "[]<---and[cc]--->[]\n",
      "--------\n",
      "[]<---he[nsubj]--->[]\n",
      "--------\n",
      "[]<---is[aux]--->[]\n",
      "--------\n",
      "['he', 'is']<---jumping[conj]--->['over']\n",
      "--------\n",
      "[]<---over[prep]--->['dog']\n",
      "--------\n",
      "[]<---the[det]--->[]\n",
      "--------\n",
      "[]<---lazy[amod]--->[]\n",
      "--------\n",
      "['the', 'lazy']<---dog[pobj]--->[]\n",
      "--------\n"
     ]
    }
   ],
   "source": [
    "dependency_pattern = '{left}<---{word}[{w_type}]--->{right}\\n--------'\n",
    "for token in sentence_nlp:\n",
    "    print(dependency_pattern.format(word=token.orth_, \n",
    "                                  w_type=token.dep_,\n",
    "                                  left=[t.orth_ \n",
    "                                            for t \n",
    "                                            in token.lefts],\n",
    "                                  right=[t.orth_ \n",
    "                                             for t \n",
    "                                             in token.rights]))"
   ]
  },
  {
   "cell_type": "markdown",
   "id": "1d7b30e3-6e15-4e9c-a0dd-142ea5a628a5",
   "metadata": {},
   "source": [
    "It is evident that the verb beats is the ROOT since it doesn’t have any other dependencies as compared to the other tokens. For knowing more about each annotation you can always refer to the CLEAR dependency scheme. We can also visualize the above dependencies in a better way."
   ]
  },
  {
   "cell_type": "markdown",
   "id": "23202863-8f31-4ac0-b02a-8894636e17b0",
   "metadata": {},
   "source": [
    "Based on language models, we can use the Universal Dependencies Scheme or the CLEAR Style Dependency Scheme also available in NLP4J now. "
   ]
  },
  {
   "cell_type": "code",
   "execution_count": 34,
   "id": "2b926dc7-197d-43ef-ad17-02228d4b191d",
   "metadata": {},
   "outputs": [
    {
     "data": {
      "text/html": [
       "<span class=\"tex2jax_ignore\"><svg xmlns=\"http://www.w3.org/2000/svg\" xmlns:xlink=\"http://www.w3.org/1999/xlink\" xml:lang=\"en\" id=\"b59a5a6fa1eb414daacd523b4ac6625c-0\" class=\"displacy\" width=\"1480\" height=\"302.0\" direction=\"ltr\" style=\"max-width: none; height: 302.0px; color: #000000; background: #ffffff; font-family: Arial; direction: ltr\">\n",
       "<text class=\"displacy-token\" fill=\"currentColor\" text-anchor=\"middle\" y=\"212.0\">\n",
       "    <tspan class=\"displacy-word\" fill=\"currentColor\" x=\"50\">The</tspan>\n",
       "    <tspan class=\"displacy-tag\" dy=\"2em\" fill=\"currentColor\" x=\"50\">DET</tspan>\n",
       "</text>\n",
       "\n",
       "<text class=\"displacy-token\" fill=\"currentColor\" text-anchor=\"middle\" y=\"212.0\">\n",
       "    <tspan class=\"displacy-word\" fill=\"currentColor\" x=\"160\">brown</tspan>\n",
       "    <tspan class=\"displacy-tag\" dy=\"2em\" fill=\"currentColor\" x=\"160\">ADJ</tspan>\n",
       "</text>\n",
       "\n",
       "<text class=\"displacy-token\" fill=\"currentColor\" text-anchor=\"middle\" y=\"212.0\">\n",
       "    <tspan class=\"displacy-word\" fill=\"currentColor\" x=\"270\">fox</tspan>\n",
       "    <tspan class=\"displacy-tag\" dy=\"2em\" fill=\"currentColor\" x=\"270\">NOUN</tspan>\n",
       "</text>\n",
       "\n",
       "<text class=\"displacy-token\" fill=\"currentColor\" text-anchor=\"middle\" y=\"212.0\">\n",
       "    <tspan class=\"displacy-word\" fill=\"currentColor\" x=\"380\">is</tspan>\n",
       "    <tspan class=\"displacy-tag\" dy=\"2em\" fill=\"currentColor\" x=\"380\">AUX</tspan>\n",
       "</text>\n",
       "\n",
       "<text class=\"displacy-token\" fill=\"currentColor\" text-anchor=\"middle\" y=\"212.0\">\n",
       "    <tspan class=\"displacy-word\" fill=\"currentColor\" x=\"490\">quick</tspan>\n",
       "    <tspan class=\"displacy-tag\" dy=\"2em\" fill=\"currentColor\" x=\"490\">ADJ</tspan>\n",
       "</text>\n",
       "\n",
       "<text class=\"displacy-token\" fill=\"currentColor\" text-anchor=\"middle\" y=\"212.0\">\n",
       "    <tspan class=\"displacy-word\" fill=\"currentColor\" x=\"600\">and</tspan>\n",
       "    <tspan class=\"displacy-tag\" dy=\"2em\" fill=\"currentColor\" x=\"600\">CCONJ</tspan>\n",
       "</text>\n",
       "\n",
       "<text class=\"displacy-token\" fill=\"currentColor\" text-anchor=\"middle\" y=\"212.0\">\n",
       "    <tspan class=\"displacy-word\" fill=\"currentColor\" x=\"710\">he</tspan>\n",
       "    <tspan class=\"displacy-tag\" dy=\"2em\" fill=\"currentColor\" x=\"710\">PRON</tspan>\n",
       "</text>\n",
       "\n",
       "<text class=\"displacy-token\" fill=\"currentColor\" text-anchor=\"middle\" y=\"212.0\">\n",
       "    <tspan class=\"displacy-word\" fill=\"currentColor\" x=\"820\">is</tspan>\n",
       "    <tspan class=\"displacy-tag\" dy=\"2em\" fill=\"currentColor\" x=\"820\">AUX</tspan>\n",
       "</text>\n",
       "\n",
       "<text class=\"displacy-token\" fill=\"currentColor\" text-anchor=\"middle\" y=\"212.0\">\n",
       "    <tspan class=\"displacy-word\" fill=\"currentColor\" x=\"930\">jumping</tspan>\n",
       "    <tspan class=\"displacy-tag\" dy=\"2em\" fill=\"currentColor\" x=\"930\">VERB</tspan>\n",
       "</text>\n",
       "\n",
       "<text class=\"displacy-token\" fill=\"currentColor\" text-anchor=\"middle\" y=\"212.0\">\n",
       "    <tspan class=\"displacy-word\" fill=\"currentColor\" x=\"1040\">over</tspan>\n",
       "    <tspan class=\"displacy-tag\" dy=\"2em\" fill=\"currentColor\" x=\"1040\">ADP</tspan>\n",
       "</text>\n",
       "\n",
       "<text class=\"displacy-token\" fill=\"currentColor\" text-anchor=\"middle\" y=\"212.0\">\n",
       "    <tspan class=\"displacy-word\" fill=\"currentColor\" x=\"1150\">the</tspan>\n",
       "    <tspan class=\"displacy-tag\" dy=\"2em\" fill=\"currentColor\" x=\"1150\">DET</tspan>\n",
       "</text>\n",
       "\n",
       "<text class=\"displacy-token\" fill=\"currentColor\" text-anchor=\"middle\" y=\"212.0\">\n",
       "    <tspan class=\"displacy-word\" fill=\"currentColor\" x=\"1260\">lazy</tspan>\n",
       "    <tspan class=\"displacy-tag\" dy=\"2em\" fill=\"currentColor\" x=\"1260\">ADJ</tspan>\n",
       "</text>\n",
       "\n",
       "<text class=\"displacy-token\" fill=\"currentColor\" text-anchor=\"middle\" y=\"212.0\">\n",
       "    <tspan class=\"displacy-word\" fill=\"currentColor\" x=\"1370\">dog</tspan>\n",
       "    <tspan class=\"displacy-tag\" dy=\"2em\" fill=\"currentColor\" x=\"1370\">NOUN</tspan>\n",
       "</text>\n",
       "\n",
       "<g class=\"displacy-arrow\">\n",
       "    <path class=\"displacy-arc\" id=\"arrow-b59a5a6fa1eb414daacd523b4ac6625c-0-0\" stroke-width=\"2px\" d=\"M70,167.0 C70,57.0 265.0,57.0 265.0,167.0\" fill=\"none\" stroke=\"currentColor\"/>\n",
       "    <text dy=\"1.25em\" style=\"font-size: 0.8em; letter-spacing: 1px\">\n",
       "        <textPath xlink:href=\"#arrow-b59a5a6fa1eb414daacd523b4ac6625c-0-0\" class=\"displacy-label\" startOffset=\"50%\" side=\"left\" fill=\"currentColor\" text-anchor=\"middle\">det</textPath>\n",
       "    </text>\n",
       "    <path class=\"displacy-arrowhead\" d=\"M70,169.0 L64,159.0 76,159.0\" fill=\"currentColor\"/>\n",
       "</g>\n",
       "\n",
       "<g class=\"displacy-arrow\">\n",
       "    <path class=\"displacy-arc\" id=\"arrow-b59a5a6fa1eb414daacd523b4ac6625c-0-1\" stroke-width=\"2px\" d=\"M180,167.0 C180,112.0 260.0,112.0 260.0,167.0\" fill=\"none\" stroke=\"currentColor\"/>\n",
       "    <text dy=\"1.25em\" style=\"font-size: 0.8em; letter-spacing: 1px\">\n",
       "        <textPath xlink:href=\"#arrow-b59a5a6fa1eb414daacd523b4ac6625c-0-1\" class=\"displacy-label\" startOffset=\"50%\" side=\"left\" fill=\"currentColor\" text-anchor=\"middle\">amod</textPath>\n",
       "    </text>\n",
       "    <path class=\"displacy-arrowhead\" d=\"M180,169.0 L174,159.0 186,159.0\" fill=\"currentColor\"/>\n",
       "</g>\n",
       "\n",
       "<g class=\"displacy-arrow\">\n",
       "    <path class=\"displacy-arc\" id=\"arrow-b59a5a6fa1eb414daacd523b4ac6625c-0-2\" stroke-width=\"2px\" d=\"M290,167.0 C290,112.0 370.0,112.0 370.0,167.0\" fill=\"none\" stroke=\"currentColor\"/>\n",
       "    <text dy=\"1.25em\" style=\"font-size: 0.8em; letter-spacing: 1px\">\n",
       "        <textPath xlink:href=\"#arrow-b59a5a6fa1eb414daacd523b4ac6625c-0-2\" class=\"displacy-label\" startOffset=\"50%\" side=\"left\" fill=\"currentColor\" text-anchor=\"middle\">nsubj</textPath>\n",
       "    </text>\n",
       "    <path class=\"displacy-arrowhead\" d=\"M290,169.0 L284,159.0 296,159.0\" fill=\"currentColor\"/>\n",
       "</g>\n",
       "\n",
       "<g class=\"displacy-arrow\">\n",
       "    <path class=\"displacy-arc\" id=\"arrow-b59a5a6fa1eb414daacd523b4ac6625c-0-3\" stroke-width=\"2px\" d=\"M400,167.0 C400,112.0 480.0,112.0 480.0,167.0\" fill=\"none\" stroke=\"currentColor\"/>\n",
       "    <text dy=\"1.25em\" style=\"font-size: 0.8em; letter-spacing: 1px\">\n",
       "        <textPath xlink:href=\"#arrow-b59a5a6fa1eb414daacd523b4ac6625c-0-3\" class=\"displacy-label\" startOffset=\"50%\" side=\"left\" fill=\"currentColor\" text-anchor=\"middle\">acomp</textPath>\n",
       "    </text>\n",
       "    <path class=\"displacy-arrowhead\" d=\"M480.0,169.0 L486.0,159.0 474.0,159.0\" fill=\"currentColor\"/>\n",
       "</g>\n",
       "\n",
       "<g class=\"displacy-arrow\">\n",
       "    <path class=\"displacy-arc\" id=\"arrow-b59a5a6fa1eb414daacd523b4ac6625c-0-4\" stroke-width=\"2px\" d=\"M400,167.0 C400,57.0 595.0,57.0 595.0,167.0\" fill=\"none\" stroke=\"currentColor\"/>\n",
       "    <text dy=\"1.25em\" style=\"font-size: 0.8em; letter-spacing: 1px\">\n",
       "        <textPath xlink:href=\"#arrow-b59a5a6fa1eb414daacd523b4ac6625c-0-4\" class=\"displacy-label\" startOffset=\"50%\" side=\"left\" fill=\"currentColor\" text-anchor=\"middle\">cc</textPath>\n",
       "    </text>\n",
       "    <path class=\"displacy-arrowhead\" d=\"M595.0,169.0 L601.0,159.0 589.0,159.0\" fill=\"currentColor\"/>\n",
       "</g>\n",
       "\n",
       "<g class=\"displacy-arrow\">\n",
       "    <path class=\"displacy-arc\" id=\"arrow-b59a5a6fa1eb414daacd523b4ac6625c-0-5\" stroke-width=\"2px\" d=\"M730,167.0 C730,57.0 925.0,57.0 925.0,167.0\" fill=\"none\" stroke=\"currentColor\"/>\n",
       "    <text dy=\"1.25em\" style=\"font-size: 0.8em; letter-spacing: 1px\">\n",
       "        <textPath xlink:href=\"#arrow-b59a5a6fa1eb414daacd523b4ac6625c-0-5\" class=\"displacy-label\" startOffset=\"50%\" side=\"left\" fill=\"currentColor\" text-anchor=\"middle\">nsubj</textPath>\n",
       "    </text>\n",
       "    <path class=\"displacy-arrowhead\" d=\"M730,169.0 L724,159.0 736,159.0\" fill=\"currentColor\"/>\n",
       "</g>\n",
       "\n",
       "<g class=\"displacy-arrow\">\n",
       "    <path class=\"displacy-arc\" id=\"arrow-b59a5a6fa1eb414daacd523b4ac6625c-0-6\" stroke-width=\"2px\" d=\"M840,167.0 C840,112.0 920.0,112.0 920.0,167.0\" fill=\"none\" stroke=\"currentColor\"/>\n",
       "    <text dy=\"1.25em\" style=\"font-size: 0.8em; letter-spacing: 1px\">\n",
       "        <textPath xlink:href=\"#arrow-b59a5a6fa1eb414daacd523b4ac6625c-0-6\" class=\"displacy-label\" startOffset=\"50%\" side=\"left\" fill=\"currentColor\" text-anchor=\"middle\">aux</textPath>\n",
       "    </text>\n",
       "    <path class=\"displacy-arrowhead\" d=\"M840,169.0 L834,159.0 846,159.0\" fill=\"currentColor\"/>\n",
       "</g>\n",
       "\n",
       "<g class=\"displacy-arrow\">\n",
       "    <path class=\"displacy-arc\" id=\"arrow-b59a5a6fa1eb414daacd523b4ac6625c-0-7\" stroke-width=\"2px\" d=\"M400,167.0 C400,2.0 930.0,2.0 930.0,167.0\" fill=\"none\" stroke=\"currentColor\"/>\n",
       "    <text dy=\"1.25em\" style=\"font-size: 0.8em; letter-spacing: 1px\">\n",
       "        <textPath xlink:href=\"#arrow-b59a5a6fa1eb414daacd523b4ac6625c-0-7\" class=\"displacy-label\" startOffset=\"50%\" side=\"left\" fill=\"currentColor\" text-anchor=\"middle\">conj</textPath>\n",
       "    </text>\n",
       "    <path class=\"displacy-arrowhead\" d=\"M930.0,169.0 L936.0,159.0 924.0,159.0\" fill=\"currentColor\"/>\n",
       "</g>\n",
       "\n",
       "<g class=\"displacy-arrow\">\n",
       "    <path class=\"displacy-arc\" id=\"arrow-b59a5a6fa1eb414daacd523b4ac6625c-0-8\" stroke-width=\"2px\" d=\"M950,167.0 C950,112.0 1030.0,112.0 1030.0,167.0\" fill=\"none\" stroke=\"currentColor\"/>\n",
       "    <text dy=\"1.25em\" style=\"font-size: 0.8em; letter-spacing: 1px\">\n",
       "        <textPath xlink:href=\"#arrow-b59a5a6fa1eb414daacd523b4ac6625c-0-8\" class=\"displacy-label\" startOffset=\"50%\" side=\"left\" fill=\"currentColor\" text-anchor=\"middle\">prep</textPath>\n",
       "    </text>\n",
       "    <path class=\"displacy-arrowhead\" d=\"M1030.0,169.0 L1036.0,159.0 1024.0,159.0\" fill=\"currentColor\"/>\n",
       "</g>\n",
       "\n",
       "<g class=\"displacy-arrow\">\n",
       "    <path class=\"displacy-arc\" id=\"arrow-b59a5a6fa1eb414daacd523b4ac6625c-0-9\" stroke-width=\"2px\" d=\"M1170,167.0 C1170,57.0 1365.0,57.0 1365.0,167.0\" fill=\"none\" stroke=\"currentColor\"/>\n",
       "    <text dy=\"1.25em\" style=\"font-size: 0.8em; letter-spacing: 1px\">\n",
       "        <textPath xlink:href=\"#arrow-b59a5a6fa1eb414daacd523b4ac6625c-0-9\" class=\"displacy-label\" startOffset=\"50%\" side=\"left\" fill=\"currentColor\" text-anchor=\"middle\">det</textPath>\n",
       "    </text>\n",
       "    <path class=\"displacy-arrowhead\" d=\"M1170,169.0 L1164,159.0 1176,159.0\" fill=\"currentColor\"/>\n",
       "</g>\n",
       "\n",
       "<g class=\"displacy-arrow\">\n",
       "    <path class=\"displacy-arc\" id=\"arrow-b59a5a6fa1eb414daacd523b4ac6625c-0-10\" stroke-width=\"2px\" d=\"M1280,167.0 C1280,112.0 1360.0,112.0 1360.0,167.0\" fill=\"none\" stroke=\"currentColor\"/>\n",
       "    <text dy=\"1.25em\" style=\"font-size: 0.8em; letter-spacing: 1px\">\n",
       "        <textPath xlink:href=\"#arrow-b59a5a6fa1eb414daacd523b4ac6625c-0-10\" class=\"displacy-label\" startOffset=\"50%\" side=\"left\" fill=\"currentColor\" text-anchor=\"middle\">amod</textPath>\n",
       "    </text>\n",
       "    <path class=\"displacy-arrowhead\" d=\"M1280,169.0 L1274,159.0 1286,159.0\" fill=\"currentColor\"/>\n",
       "</g>\n",
       "\n",
       "<g class=\"displacy-arrow\">\n",
       "    <path class=\"displacy-arc\" id=\"arrow-b59a5a6fa1eb414daacd523b4ac6625c-0-11\" stroke-width=\"2px\" d=\"M1060,167.0 C1060,2.0 1370.0,2.0 1370.0,167.0\" fill=\"none\" stroke=\"currentColor\"/>\n",
       "    <text dy=\"1.25em\" style=\"font-size: 0.8em; letter-spacing: 1px\">\n",
       "        <textPath xlink:href=\"#arrow-b59a5a6fa1eb414daacd523b4ac6625c-0-11\" class=\"displacy-label\" startOffset=\"50%\" side=\"left\" fill=\"currentColor\" text-anchor=\"middle\">pobj</textPath>\n",
       "    </text>\n",
       "    <path class=\"displacy-arrowhead\" d=\"M1370.0,169.0 L1376.0,159.0 1364.0,159.0\" fill=\"currentColor\"/>\n",
       "</g>\n",
       "</svg></span>"
      ],
      "text/plain": [
       "<IPython.core.display.HTML object>"
      ]
     },
     "metadata": {},
     "output_type": "display_data"
    }
   ],
   "source": [
    "displacy.render(sentence_nlp, jupyter=True, \n",
    "                options={'distance': 110,\n",
    "                         'arrow_stroke': 2,\n",
    "                         'arrow_width': 8})"
   ]
  },
  {
   "cell_type": "markdown",
   "id": "7dbf39be-c673-450e-b85c-dd576ebdbf5d",
   "metadata": {},
   "source": [
    "These dependency relationships each have their own meaning and are a part of a list of universal dependency types. This is discussed in an original paper, Universal Stanford Dependencies: A Cross-Linguistic Typology by de Marneffe et al, 2014)."
   ]
  },
  {
   "cell_type": "markdown",
   "id": "d679e1ed-811e-44f1-9dd9-e1e0ee313191",
   "metadata": {},
   "source": [
    "If we observe some of these dependencies, it is not too hard to understand them.\n",
    "\n",
    "* The dependency tag `det` is pretty intuitive — it denotes the `determiner relationship` between a nominal head and the determiner. Usually, the word with `POS tag` `DET` will also have the det dependency tag relation. Examples include `fox → the` and `dog → the`.\n",
    "* The dependency tag `amod` stands for `adjectival modifier` and stands for any adjective that modifies the meaning of a noun. Examples include `fox → brown` and `dog → lazy`.\n",
    "* The dependency tag `nsubj` stands for an entity that acts as a `subject` or `agent` in a clause. Examples include `is → fox` and `jumping → he`.\n",
    "* The dependencies `cc` and `conj` have more to do with `linkages` related to words connected by `coordinating conjunctions` . Examples include `is → and` and `is → jumping`.\n",
    "* The dependency tag `aux` indicates the `auxiliary` or `secondary verb` in the clause. Example: `jumping → is`.\n",
    "* The dependency tag `acomp` stands for `adjective complement` and acts as the `complement` or `object` to a verb in the sentence. Example: `is → quick`\n",
    "* The dependency tag `prep` denotes a `prepositional modifier`, which usually modifies the meaning of a `noun`, `verb`, `adjective`, or `preposition`. Usually, this representation is used for prepositions having a noun or noun phrase complement. Example: `jumping → over`.\n",
    "* The dependency tag `pobj` is used to denote the `object of a preposition` . This is usually the head of a noun phrase following a preposition in the sentence. Example: `over → dog`."
   ]
  },
  {
   "cell_type": "markdown",
   "id": "a9578d27-ef5f-4384-833c-3f12cf7211b4",
   "metadata": {},
   "source": [
    "We can also leverage nltk and the StanfordDependencyParser to visualize and build out the dependency tree. We showcase the dependency tree both in its raw and annotated form as follows."
   ]
  },
  {
   "cell_type": "code",
   "execution_count": 35,
   "id": "0365e034-6de3-471d-a32d-09f666e526ab",
   "metadata": {},
   "outputs": [
    {
     "name": "stdout",
     "output_type": "stream",
     "text": [
      "(unveils US (supercomputer world ’s (powerful most)) (beats China))\n"
     ]
    },
    {
     "data": {
      "image/svg+xml": [
       "<svg baseProfile=\"full\" height=\"168px\" preserveAspectRatio=\"xMidYMid meet\" style=\"font-family: times, serif; font-weight: normal; font-style: normal; font-size: 16px\" version=\"1.1\" viewBox=\"0,0,256.0,168.0\" width=\"256px\" xmlns=\"http://www.w3.org/2000/svg\" xmlns:ev=\"http://www.w3.org/2001/xml-events\" xmlns:xlink=\"http://www.w3.org/1999/xlink\"><defs /><svg width=\"100%\" x=\"0\" y=\"0px\"><defs /><text text-anchor=\"middle\" x=\"50%\" y=\"16px\">unveils</text></svg><svg width=\"12.5%\" x=\"0%\" y=\"48px\"><defs /><svg width=\"100%\" x=\"0\" y=\"0px\"><defs /><text text-anchor=\"middle\" x=\"50%\" y=\"16px\">US</text></svg></svg><line stroke=\"black\" x1=\"50%\" x2=\"6.25%\" y1=\"20px\" y2=\"48px\" /><svg width=\"65.625%\" x=\"12.5%\" y=\"48px\"><defs /><svg width=\"100%\" x=\"0\" y=\"0px\"><defs /><text text-anchor=\"middle\" x=\"50%\" y=\"16px\">supercomputer</text></svg><svg width=\"33.3333%\" x=\"0%\" y=\"48px\"><defs /><svg width=\"100%\" x=\"0\" y=\"0px\"><defs /><text text-anchor=\"middle\" x=\"50%\" y=\"16px\">world</text></svg></svg><line stroke=\"black\" x1=\"50%\" x2=\"16.6667%\" y1=\"20px\" y2=\"48px\" /><svg width=\"19.0476%\" x=\"33.3333%\" y=\"48px\"><defs /><svg width=\"100%\" x=\"0\" y=\"0px\"><defs /><text text-anchor=\"middle\" x=\"50%\" y=\"16px\">’s</text></svg></svg><line stroke=\"black\" x1=\"50%\" x2=\"42.8571%\" y1=\"20px\" y2=\"48px\" /><svg width=\"47.619%\" x=\"52.381%\" y=\"48px\"><defs /><svg width=\"100%\" x=\"0\" y=\"0px\"><defs /><text text-anchor=\"middle\" x=\"50%\" y=\"16px\">powerful</text></svg><svg width=\"100%\" x=\"0%\" y=\"48px\"><defs /><svg width=\"100%\" x=\"0\" y=\"0px\"><defs /><text text-anchor=\"middle\" x=\"50%\" y=\"16px\">most</text></svg></svg><line stroke=\"black\" x1=\"50%\" x2=\"50%\" y1=\"20px\" y2=\"48px\" /></svg><line stroke=\"black\" x1=\"50%\" x2=\"76.1905%\" y1=\"20px\" y2=\"48px\" /></svg><line stroke=\"black\" x1=\"50%\" x2=\"45.3125%\" y1=\"20px\" y2=\"48px\" /><svg width=\"21.875%\" x=\"78.125%\" y=\"48px\"><defs /><svg width=\"100%\" x=\"0\" y=\"0px\"><defs /><text text-anchor=\"middle\" x=\"50%\" y=\"16px\">beats</text></svg><svg width=\"100%\" x=\"0%\" y=\"48px\"><defs /><svg width=\"100%\" x=\"0\" y=\"0px\"><defs /><text text-anchor=\"middle\" x=\"50%\" y=\"16px\">China</text></svg></svg><line stroke=\"black\" x1=\"50%\" x2=\"50%\" y1=\"20px\" y2=\"48px\" /></svg><line stroke=\"black\" x1=\"50%\" x2=\"89.0625%\" y1=\"20px\" y2=\"48px\" /></svg>"
      ],
      "text/plain": [
       "Tree('unveils', ['US', Tree('supercomputer', ['world', '’s', Tree('powerful', ['most'])]), Tree('beats', ['China'])])"
      ]
     },
     "metadata": {},
     "output_type": "display_data"
    },
    {
     "data": {
      "image/svg+xml": [
       "<?xml version=\"1.0\" encoding=\"UTF-8\" standalone=\"no\"?>\n",
       "<!DOCTYPE svg PUBLIC \"-//W3C//DTD SVG 1.1//EN\"\n",
       " \"http://www.w3.org/Graphics/SVG/1.1/DTD/svg11.dtd\">\n",
       "<!-- Generated by graphviz version 2.50.0 (0)\n",
       " -->\n",
       "<!-- Title: G Pages: 1 -->\n",
       "<svg width=\"346pt\" height=\"392pt\"\n",
       " viewBox=\"0.00 0.00 345.50 392.00\" xmlns=\"http://www.w3.org/2000/svg\" xmlns:xlink=\"http://www.w3.org/1999/xlink\">\n",
       "<g id=\"graph0\" class=\"graph\" transform=\"scale(1 1) rotate(0) translate(4 388)\">\n",
       "<title>G</title>\n",
       "<polygon fill=\"white\" stroke=\"transparent\" points=\"-4,4 -4,-388 341.5,-388 341.5,4 -4,4\"/>\n",
       "<!-- 0 -->\n",
       "<g id=\"node1\" class=\"node\">\n",
       "<title>0</title>\n",
       "<text text-anchor=\"middle\" x=\"134\" y=\"-362.3\" font-family=\"Times New Roman,serif\" font-size=\"14.00\">0 (None)</text>\n",
       "</g>\n",
       "<!-- 2 -->\n",
       "<g id=\"node2\" class=\"node\">\n",
       "<title>2</title>\n",
       "<text text-anchor=\"middle\" x=\"134\" y=\"-275.3\" font-family=\"Times New Roman,serif\" font-size=\"14.00\">2 (unveils)</text>\n",
       "</g>\n",
       "<!-- 0&#45;&gt;2 -->\n",
       "<g id=\"edge1\" class=\"edge\">\n",
       "<title>0&#45;&gt;2</title>\n",
       "<path fill=\"none\" stroke=\"black\" d=\"M134,-347.8C134,-336.16 134,-320.55 134,-307.24\"/>\n",
       "<polygon fill=\"black\" stroke=\"black\" points=\"137.5,-307.18 134,-297.18 130.5,-307.18 137.5,-307.18\"/>\n",
       "<text text-anchor=\"middle\" x=\"145\" y=\"-318.8\" font-family=\"Times New Roman,serif\" font-size=\"14.00\">root</text>\n",
       "</g>\n",
       "<!-- 1 -->\n",
       "<g id=\"node3\" class=\"node\">\n",
       "<title>1</title>\n",
       "<text text-anchor=\"middle\" x=\"30\" y=\"-188.3\" font-family=\"Times New Roman,serif\" font-size=\"14.00\">1 (US)</text>\n",
       "</g>\n",
       "<!-- 2&#45;&gt;1 -->\n",
       "<g id=\"edge2\" class=\"edge\">\n",
       "<title>2&#45;&gt;1</title>\n",
       "<path fill=\"none\" stroke=\"black\" d=\"M112.95,-260.8C97.45,-248.13 76.17,-230.73 59.04,-216.74\"/>\n",
       "<polygon fill=\"black\" stroke=\"black\" points=\"60.97,-213.79 51.01,-210.18 56.54,-219.21 60.97,-213.79\"/>\n",
       "<text text-anchor=\"middle\" x=\"104\" y=\"-231.8\" font-family=\"Times New Roman,serif\" font-size=\"14.00\">nsubj</text>\n",
       "</g>\n",
       "<!-- 7 -->\n",
       "<g id=\"node4\" class=\"node\">\n",
       "<title>7</title>\n",
       "<text text-anchor=\"middle\" x=\"134\" y=\"-188.3\" font-family=\"Times New Roman,serif\" font-size=\"14.00\">7 (supercomputer)</text>\n",
       "</g>\n",
       "<!-- 2&#45;&gt;7 -->\n",
       "<g id=\"edge3\" class=\"edge\">\n",
       "<title>2&#45;&gt;7</title>\n",
       "<path fill=\"none\" stroke=\"black\" d=\"M134,-260.8C134,-249.16 134,-233.55 134,-220.24\"/>\n",
       "<polygon fill=\"black\" stroke=\"black\" points=\"137.5,-220.18 134,-210.18 130.5,-220.18 137.5,-220.18\"/>\n",
       "<text text-anchor=\"middle\" x=\"143\" y=\"-231.8\" font-family=\"Times New Roman,serif\" font-size=\"14.00\">obj</text>\n",
       "</g>\n",
       "<!-- 9 -->\n",
       "<g id=\"node5\" class=\"node\">\n",
       "<title>9</title>\n",
       "<text text-anchor=\"middle\" x=\"281\" y=\"-188.3\" font-family=\"Times New Roman,serif\" font-size=\"14.00\">9 (beats)</text>\n",
       "</g>\n",
       "<!-- 2&#45;&gt;9 -->\n",
       "<g id=\"edge4\" class=\"edge\">\n",
       "<title>2&#45;&gt;9</title>\n",
       "<path fill=\"none\" stroke=\"black\" d=\"M163.75,-260.8C186.46,-247.66 217.94,-229.46 242.56,-215.22\"/>\n",
       "<polygon fill=\"black\" stroke=\"black\" points=\"244.39,-218.21 251.3,-210.18 240.89,-212.15 244.39,-218.21\"/>\n",
       "<text text-anchor=\"middle\" x=\"226\" y=\"-231.8\" font-family=\"Times New Roman,serif\" font-size=\"14.00\">dep</text>\n",
       "</g>\n",
       "<!-- 3 -->\n",
       "<g id=\"node6\" class=\"node\">\n",
       "<title>3</title>\n",
       "<text text-anchor=\"middle\" x=\"34\" y=\"-101.3\" font-family=\"Times New Roman,serif\" font-size=\"14.00\">3 (world)</text>\n",
       "</g>\n",
       "<!-- 7&#45;&gt;3 -->\n",
       "<g id=\"edge6\" class=\"edge\">\n",
       "<title>7&#45;&gt;3</title>\n",
       "<path fill=\"none\" stroke=\"black\" d=\"M81.49,-173.89C72.21,-169.16 63.22,-163.27 56,-156 49.56,-149.52 44.86,-140.84 41.49,-132.53\"/>\n",
       "<polygon fill=\"black\" stroke=\"black\" points=\"44.78,-131.34 38.13,-123.1 38.19,-133.69 44.78,-131.34\"/>\n",
       "<text text-anchor=\"middle\" x=\"85\" y=\"-144.8\" font-family=\"Times New Roman,serif\" font-size=\"14.00\">compound</text>\n",
       "</g>\n",
       "<!-- 4 -->\n",
       "<g id=\"node7\" class=\"node\">\n",
       "<title>4</title>\n",
       "<text text-anchor=\"middle\" x=\"114\" y=\"-101.3\" font-family=\"Times New Roman,serif\" font-size=\"14.00\">4 (’s)</text>\n",
       "</g>\n",
       "<!-- 7&#45;&gt;4 -->\n",
       "<g id=\"edge7\" class=\"edge\">\n",
       "<title>7&#45;&gt;4</title>\n",
       "<path fill=\"none\" stroke=\"black\" d=\"M126.1,-173.85C123.81,-168.26 121.52,-161.96 120,-156 118.15,-148.75 116.86,-140.75 115.97,-133.32\"/>\n",
       "<polygon fill=\"black\" stroke=\"black\" points=\"119.45,-132.92 114.96,-123.33 112.49,-133.63 119.45,-132.92\"/>\n",
       "<text text-anchor=\"middle\" x=\"149\" y=\"-144.8\" font-family=\"Times New Roman,serif\" font-size=\"14.00\">compound</text>\n",
       "</g>\n",
       "<!-- 6 -->\n",
       "<g id=\"node9\" class=\"node\">\n",
       "<title>6</title>\n",
       "<text text-anchor=\"middle\" x=\"202\" y=\"-101.3\" font-family=\"Times New Roman,serif\" font-size=\"14.00\">6 (powerful)</text>\n",
       "</g>\n",
       "<!-- 7&#45;&gt;6 -->\n",
       "<g id=\"edge8\" class=\"edge\">\n",
       "<title>7&#45;&gt;6</title>\n",
       "<path fill=\"none\" stroke=\"black\" d=\"M159.52,-173.88C166.08,-168.67 172.77,-162.56 178,-156 183.55,-149.04 188.22,-140.59 191.92,-132.63\"/>\n",
       "<polygon fill=\"black\" stroke=\"black\" points=\"195.2,-133.87 195.95,-123.3 188.77,-131.09 195.2,-133.87\"/>\n",
       "<text text-anchor=\"middle\" x=\"203.5\" y=\"-144.8\" font-family=\"Times New Roman,serif\" font-size=\"14.00\">amod</text>\n",
       "</g>\n",
       "<!-- 10 -->\n",
       "<g id=\"node10\" class=\"node\">\n",
       "<title>10</title>\n",
       "<text text-anchor=\"middle\" x=\"300\" y=\"-101.3\" font-family=\"Times New Roman,serif\" font-size=\"14.00\">10 (China)</text>\n",
       "</g>\n",
       "<!-- 9&#45;&gt;10 -->\n",
       "<g id=\"edge9\" class=\"edge\">\n",
       "<title>9&#45;&gt;10</title>\n",
       "<path fill=\"none\" stroke=\"black\" d=\"M284.84,-173.8C287.45,-162.16 290.94,-146.55 293.91,-133.24\"/>\n",
       "<polygon fill=\"black\" stroke=\"black\" points=\"297.39,-133.7 296.16,-123.18 290.56,-132.17 297.39,-133.7\"/>\n",
       "<text text-anchor=\"middle\" x=\"300\" y=\"-144.8\" font-family=\"Times New Roman,serif\" font-size=\"14.00\">obj</text>\n",
       "</g>\n",
       "<!-- 5 -->\n",
       "<g id=\"node8\" class=\"node\">\n",
       "<title>5</title>\n",
       "<text text-anchor=\"middle\" x=\"202\" y=\"-14.3\" font-family=\"Times New Roman,serif\" font-size=\"14.00\">5 (most)</text>\n",
       "</g>\n",
       "<!-- 6&#45;&gt;5 -->\n",
       "<g id=\"edge5\" class=\"edge\">\n",
       "<title>6&#45;&gt;5</title>\n",
       "<path fill=\"none\" stroke=\"black\" d=\"M202,-86.8C202,-75.16 202,-59.55 202,-46.24\"/>\n",
       "<polygon fill=\"black\" stroke=\"black\" points=\"205.5,-46.18 202,-36.18 198.5,-46.18 205.5,-46.18\"/>\n",
       "<text text-anchor=\"middle\" x=\"224.5\" y=\"-57.8\" font-family=\"Times New Roman,serif\" font-size=\"14.00\">advmod</text>\n",
       "</g>\n",
       "</g>\n",
       "</svg>\n"
      ],
      "text/plain": [
       "<graphviz.sources.Source at 0x2011e95ec90>"
      ]
     },
     "execution_count": 35,
     "metadata": {},
     "output_type": "execute_result"
    }
   ],
   "source": [
    "# Initialize the StanfordDependencyParser\n",
    "sdp = StanfordDependencyParser(\n",
    "    path_to_jar=r'C:\\Users\\praka\\stanford-parser-4.2.0\\stanford-parser-full-2020-11-17\\stanford-parser.jar',\n",
    "    path_to_models_jar=r'C:\\Users\\praka\\stanford-parser-4.2.0\\stanford-parser-full-2020-11-17\\stanford-parser-4.2.0-models.jar'\n",
    ")\n",
    "\n",
    "result = list(sdp.raw_parse(sentence))  \n",
    "\n",
    "# print the dependency tree\n",
    "dep_tree = [parse.tree() for parse in result][0]\n",
    "print(dep_tree)\n",
    "\n",
    "# visualize raw dependency tree\n",
    "display(dep_tree)\n",
    "\n",
    "# visualize annotated dependency tree (needs graphviz)\n",
    "dep_tree_dot_repr = [parse for parse in result][0].to_dot()\n",
    "source = Source(dep_tree_dot_repr, filename=\"dep_tree\", format=\"png\")\n",
    "source"
   ]
  },
  {
   "cell_type": "markdown",
   "id": "486b23da-56cb-4e59-a2b1-79153c9c494e",
   "metadata": {},
   "source": [
    "We can notice the similarities with the tree we had obtained earlier. The annotations help with understanding the type of dependency among the different tokens."
   ]
  },
  {
   "cell_type": "markdown",
   "id": "33b01965-705a-4980-8d1b-e742f9b2a3a1",
   "metadata": {},
   "source": [
    "# Named Entity Recognition"
   ]
  },
  {
   "cell_type": "markdown",
   "id": "e796db47-994e-4c72-9eb0-4508daff3ca1",
   "metadata": {},
   "source": [
    "In any text document, there are particular terms that represent specific entities that are more informative and have a unique context. These entities are known as named entities , which more specifically refer to terms that represent real-world objects like people, places, organizations, and so on, which are often denoted by proper names. A naive approach could be to find these by looking at the noun phrases in text documents. Named entity recognition (NER) , also known as entity chunking/extraction , is a popular technique used in information extraction to identify and segment the named entities and classify or categorize them under various predefined classes."
   ]
  },
  {
   "cell_type": "markdown",
   "id": "020fb524-61d0-48c7-add6-cad5cc594371",
   "metadata": {},
   "source": [
    "SpaCy has some excellent capabilities for named entity recognition. "
   ]
  },
  {
   "cell_type": "code",
   "execution_count": 36,
   "id": "5eaa0b75-8530-4021-a618-3eb4402cacaf",
   "metadata": {},
   "outputs": [],
   "source": [
    "sentence = \"US unveils world's most powerful supercomputer, beats China. The US has unveiled the world's most powerful supercomputer called 'Summit', beating the previous record-holder China's Sunway TaihuLight. With a peak performance of 200,000 trillion calculations per second, it is over twice as fast as Sunway TaihuLight, which is capable of 93,000 trillion calculations per second. Summit has 4,608 servers, which reportedly take up the size of two tennis courts.\""
   ]
  },
  {
   "cell_type": "code",
   "execution_count": 37,
   "id": "e9c6d56c-9943-4721-bcd0-f00421b1d555",
   "metadata": {},
   "outputs": [
    {
     "name": "stdout",
     "output_type": "stream",
     "text": [
      "[(US, 'GPE'), (China, 'GPE'), (US, 'GPE'), (China, 'GPE'), (200,000, 'CARDINAL'), (trillion, 'CARDINAL'), (second, 'ORDINAL'), (Sunway, 'PERSON'), (TaihuLight, 'PERSON'), (93,000, 'QUANTITY'), (trillion, 'QUANTITY'), (second, 'ORDINAL'), (4,608, 'CARDINAL'), (two, 'CARDINAL')]\n"
     ]
    },
    {
     "data": {
      "text/html": [
       "<span class=\"tex2jax_ignore\"><div class=\"entities\" style=\"line-height: 2.5; direction: ltr\">\n",
       "<mark class=\"entity\" style=\"background: #feca74; padding: 0.45em 0.6em; margin: 0 0.25em; line-height: 1; border-radius: 0.35em;\">\n",
       "    US\n",
       "    <span style=\"font-size: 0.8em; font-weight: bold; line-height: 1; border-radius: 0.35em; vertical-align: middle; margin-left: 0.5rem\">GPE</span>\n",
       "</mark>\n",
       " unveils world's most powerful supercomputer, beats \n",
       "<mark class=\"entity\" style=\"background: #feca74; padding: 0.45em 0.6em; margin: 0 0.25em; line-height: 1; border-radius: 0.35em;\">\n",
       "    China\n",
       "    <span style=\"font-size: 0.8em; font-weight: bold; line-height: 1; border-radius: 0.35em; vertical-align: middle; margin-left: 0.5rem\">GPE</span>\n",
       "</mark>\n",
       ". The \n",
       "<mark class=\"entity\" style=\"background: #feca74; padding: 0.45em 0.6em; margin: 0 0.25em; line-height: 1; border-radius: 0.35em;\">\n",
       "    US\n",
       "    <span style=\"font-size: 0.8em; font-weight: bold; line-height: 1; border-radius: 0.35em; vertical-align: middle; margin-left: 0.5rem\">GPE</span>\n",
       "</mark>\n",
       " has unveiled the world's most powerful supercomputer called 'Summit', beating the previous record-holder \n",
       "<mark class=\"entity\" style=\"background: #feca74; padding: 0.45em 0.6em; margin: 0 0.25em; line-height: 1; border-radius: 0.35em;\">\n",
       "    China\n",
       "    <span style=\"font-size: 0.8em; font-weight: bold; line-height: 1; border-radius: 0.35em; vertical-align: middle; margin-left: 0.5rem\">GPE</span>\n",
       "</mark>\n",
       "'s Sunway TaihuLight. With a peak performance of \n",
       "<mark class=\"entity\" style=\"background: #e4e7d2; padding: 0.45em 0.6em; margin: 0 0.25em; line-height: 1; border-radius: 0.35em;\">\n",
       "    200,000 trillion\n",
       "    <span style=\"font-size: 0.8em; font-weight: bold; line-height: 1; border-radius: 0.35em; vertical-align: middle; margin-left: 0.5rem\">CARDINAL</span>\n",
       "</mark>\n",
       " calculations per \n",
       "<mark class=\"entity\" style=\"background: #e4e7d2; padding: 0.45em 0.6em; margin: 0 0.25em; line-height: 1; border-radius: 0.35em;\">\n",
       "    second\n",
       "    <span style=\"font-size: 0.8em; font-weight: bold; line-height: 1; border-radius: 0.35em; vertical-align: middle; margin-left: 0.5rem\">ORDINAL</span>\n",
       "</mark>\n",
       ", it is over twice as fast as \n",
       "<mark class=\"entity\" style=\"background: #aa9cfc; padding: 0.45em 0.6em; margin: 0 0.25em; line-height: 1; border-radius: 0.35em;\">\n",
       "    Sunway TaihuLight\n",
       "    <span style=\"font-size: 0.8em; font-weight: bold; line-height: 1; border-radius: 0.35em; vertical-align: middle; margin-left: 0.5rem\">PERSON</span>\n",
       "</mark>\n",
       ", which is capable of \n",
       "<mark class=\"entity\" style=\"background: #e4e7d2; padding: 0.45em 0.6em; margin: 0 0.25em; line-height: 1; border-radius: 0.35em;\">\n",
       "    93,000 trillion\n",
       "    <span style=\"font-size: 0.8em; font-weight: bold; line-height: 1; border-radius: 0.35em; vertical-align: middle; margin-left: 0.5rem\">QUANTITY</span>\n",
       "</mark>\n",
       " calculations per \n",
       "<mark class=\"entity\" style=\"background: #e4e7d2; padding: 0.45em 0.6em; margin: 0 0.25em; line-height: 1; border-radius: 0.35em;\">\n",
       "    second\n",
       "    <span style=\"font-size: 0.8em; font-weight: bold; line-height: 1; border-radius: 0.35em; vertical-align: middle; margin-left: 0.5rem\">ORDINAL</span>\n",
       "</mark>\n",
       ". Summit has \n",
       "<mark class=\"entity\" style=\"background: #e4e7d2; padding: 0.45em 0.6em; margin: 0 0.25em; line-height: 1; border-radius: 0.35em;\">\n",
       "    4,608\n",
       "    <span style=\"font-size: 0.8em; font-weight: bold; line-height: 1; border-radius: 0.35em; vertical-align: middle; margin-left: 0.5rem\">CARDINAL</span>\n",
       "</mark>\n",
       " servers, which reportedly take up the size of \n",
       "<mark class=\"entity\" style=\"background: #e4e7d2; padding: 0.45em 0.6em; margin: 0 0.25em; line-height: 1; border-radius: 0.35em;\">\n",
       "    two\n",
       "    <span style=\"font-size: 0.8em; font-weight: bold; line-height: 1; border-radius: 0.35em; vertical-align: middle; margin-left: 0.5rem\">CARDINAL</span>\n",
       "</mark>\n",
       " tennis courts.</div></span>"
      ],
      "text/plain": [
       "<IPython.core.display.HTML object>"
      ]
     },
     "metadata": {},
     "output_type": "display_data"
    }
   ],
   "source": [
    "sentence_nlp = nlp(sentence)\n",
    "\n",
    "# print named entities in article\n",
    "print([(word, word.ent_type_) for word in sentence_nlp if word.ent_type_])\n",
    "\n",
    "# visualize named entities\n",
    "displacy.render(sentence_nlp, style='ent', jupyter=True)"
   ]
  },
  {
   "cell_type": "code",
   "execution_count": 38,
   "id": "8c51b69c-cbc1-4b57-a36f-491a0f7f908b",
   "metadata": {},
   "outputs": [],
   "source": [
    "df = pd.read_csv(\"Combined Data.csv\").dropna()"
   ]
  },
  {
   "cell_type": "code",
   "execution_count": 39,
   "id": "730f3b7d-4f29-40f5-b1a5-6350f292c29e",
   "metadata": {},
   "outputs": [
    {
     "data": {
      "text/html": [
       "<div>\n",
       "<style scoped>\n",
       "    .dataframe tbody tr th:only-of-type {\n",
       "        vertical-align: middle;\n",
       "    }\n",
       "\n",
       "    .dataframe tbody tr th {\n",
       "        vertical-align: top;\n",
       "    }\n",
       "\n",
       "    .dataframe thead th {\n",
       "        text-align: right;\n",
       "    }\n",
       "</style>\n",
       "<table border=\"1\" class=\"dataframe\">\n",
       "  <thead>\n",
       "    <tr style=\"text-align: right;\">\n",
       "      <th></th>\n",
       "      <th>Unnamed: 0</th>\n",
       "      <th>statement</th>\n",
       "      <th>status</th>\n",
       "    </tr>\n",
       "  </thead>\n",
       "  <tbody>\n",
       "    <tr>\n",
       "      <th>0</th>\n",
       "      <td>0</td>\n",
       "      <td>oh my gosh</td>\n",
       "      <td>Anxiety</td>\n",
       "    </tr>\n",
       "    <tr>\n",
       "      <th>1</th>\n",
       "      <td>1</td>\n",
       "      <td>trouble sleeping, confused mind, restless hear...</td>\n",
       "      <td>Anxiety</td>\n",
       "    </tr>\n",
       "    <tr>\n",
       "      <th>2</th>\n",
       "      <td>2</td>\n",
       "      <td>All wrong, back off dear, forward doubt. Stay ...</td>\n",
       "      <td>Anxiety</td>\n",
       "    </tr>\n",
       "    <tr>\n",
       "      <th>3</th>\n",
       "      <td>3</td>\n",
       "      <td>I've shifted my focus to something else but I'...</td>\n",
       "      <td>Anxiety</td>\n",
       "    </tr>\n",
       "    <tr>\n",
       "      <th>4</th>\n",
       "      <td>4</td>\n",
       "      <td>I'm restless and restless, it's been a month n...</td>\n",
       "      <td>Anxiety</td>\n",
       "    </tr>\n",
       "    <tr>\n",
       "      <th>...</th>\n",
       "      <td>...</td>\n",
       "      <td>...</td>\n",
       "      <td>...</td>\n",
       "    </tr>\n",
       "    <tr>\n",
       "      <th>53038</th>\n",
       "      <td>53038</td>\n",
       "      <td>Nobody takes me seriously I’ve (24M) dealt wit...</td>\n",
       "      <td>Anxiety</td>\n",
       "    </tr>\n",
       "    <tr>\n",
       "      <th>53039</th>\n",
       "      <td>53039</td>\n",
       "      <td>selfishness  \"I don't feel very good, it's lik...</td>\n",
       "      <td>Anxiety</td>\n",
       "    </tr>\n",
       "    <tr>\n",
       "      <th>53040</th>\n",
       "      <td>53040</td>\n",
       "      <td>Is there any way to sleep better? I can't slee...</td>\n",
       "      <td>Anxiety</td>\n",
       "    </tr>\n",
       "    <tr>\n",
       "      <th>53041</th>\n",
       "      <td>53041</td>\n",
       "      <td>Public speaking tips? Hi, all. I have to give ...</td>\n",
       "      <td>Anxiety</td>\n",
       "    </tr>\n",
       "    <tr>\n",
       "      <th>53042</th>\n",
       "      <td>53042</td>\n",
       "      <td>I have really bad door anxiety! It's not about...</td>\n",
       "      <td>Anxiety</td>\n",
       "    </tr>\n",
       "  </tbody>\n",
       "</table>\n",
       "<p>52681 rows × 3 columns</p>\n",
       "</div>"
      ],
      "text/plain": [
       "       Unnamed: 0                                          statement   status\n",
       "0               0                                         oh my gosh  Anxiety\n",
       "1               1  trouble sleeping, confused mind, restless hear...  Anxiety\n",
       "2               2  All wrong, back off dear, forward doubt. Stay ...  Anxiety\n",
       "3               3  I've shifted my focus to something else but I'...  Anxiety\n",
       "4               4  I'm restless and restless, it's been a month n...  Anxiety\n",
       "...           ...                                                ...      ...\n",
       "53038       53038  Nobody takes me seriously I’ve (24M) dealt wit...  Anxiety\n",
       "53039       53039  selfishness  \"I don't feel very good, it's lik...  Anxiety\n",
       "53040       53040  Is there any way to sleep better? I can't slee...  Anxiety\n",
       "53041       53041  Public speaking tips? Hi, all. I have to give ...  Anxiety\n",
       "53042       53042  I have really bad door anxiety! It's not about...  Anxiety\n",
       "\n",
       "[52681 rows x 3 columns]"
      ]
     },
     "execution_count": 39,
     "metadata": {},
     "output_type": "execute_result"
    }
   ],
   "source": [
    "df"
   ]
  },
  {
   "cell_type": "code",
   "execution_count": 40,
   "id": "78657b46-0797-4623-81f1-4da092b53bd3",
   "metadata": {},
   "outputs": [
    {
     "data": {
      "text/plain": [
       "'I have been reaching out for help. I do EVERYTHING that I am told to help me feel better.Well today I called a place about the sexual abuse I went through as a kid. A charity that gives therapy to people who have gone through that.Well. Because I was not raped, it is not deemed bad enough. I was simply molested for 2 years by a neighbor as a kid so they do not think I can get help from them.I was referred to this place by a NHS mental health team who keep referring to these places. One place will tell me I am too severe to help. And now, this place says what happened was not bad enough. I was not even abused the right way. Even my abuse was done wrong.Which is the SECOND time I have heard it this week, about TWO different types of abuse. And then people have the cheek to ask me why I am so miserable. I am literally asking for help and doing all the rubbish I am told to do, and yet here we are.Damn. Just damn.(please no \"it gets better\". That makes me feel worse EVERY TIME) I was just told my abuse was not severe enough'"
      ]
     },
     "execution_count": 40,
     "metadata": {},
     "output_type": "execute_result"
    }
   ],
   "source": [
    "sentence = df.statement[(df.statement.str.len()>1000) & (df.statement.str.len()<1200)].iloc[5]\n",
    "sentence"
   ]
  },
  {
   "cell_type": "code",
   "execution_count": 41,
   "id": "5767361e-2f0f-47df-a660-c9bf6362e322",
   "metadata": {},
   "outputs": [
    {
     "data": {
      "text/plain": [
       "str"
      ]
     },
     "execution_count": 41,
     "metadata": {},
     "output_type": "execute_result"
    }
   ],
   "source": [
    "type(sentence)"
   ]
  },
  {
   "cell_type": "code",
   "execution_count": 42,
   "id": "3423051d-4a1d-4013-a19b-c69be06d9f19",
   "metadata": {},
   "outputs": [
    {
     "data": {
      "text/plain": [
       "1034"
      ]
     },
     "execution_count": 42,
     "metadata": {},
     "output_type": "execute_result"
    }
   ],
   "source": [
    "len(sentence)"
   ]
  },
  {
   "cell_type": "code",
   "execution_count": 43,
   "id": "4723a144-a0f1-4e72-9373-dfd74ace39ea",
   "metadata": {},
   "outputs": [
    {
     "name": "stdout",
     "output_type": "stream",
     "text": [
      "[(today, 'DATE'), (2, 'DATE'), (years, 'DATE'), (NHS, 'ORG'), (One, 'CARDINAL'), (SECOND, 'ORDINAL'), (this, 'DATE'), (week, 'DATE'), (about, 'CARDINAL'), (TWO, 'CARDINAL')]\n"
     ]
    },
    {
     "data": {
      "text/html": [
       "<span class=\"tex2jax_ignore\"><div class=\"entities\" style=\"line-height: 2.5; direction: ltr\">I have been reaching out for help. I do EVERYTHING that I am told to help me feel better.Well \n",
       "<mark class=\"entity\" style=\"background: #bfe1d9; padding: 0.45em 0.6em; margin: 0 0.25em; line-height: 1; border-radius: 0.35em;\">\n",
       "    today\n",
       "    <span style=\"font-size: 0.8em; font-weight: bold; line-height: 1; border-radius: 0.35em; vertical-align: middle; margin-left: 0.5rem\">DATE</span>\n",
       "</mark>\n",
       " I called a place about the sexual abuse I went through as a kid. A charity that gives therapy to people who have gone through that.Well. Because I was not raped, it is not deemed bad enough. I was simply molested for \n",
       "<mark class=\"entity\" style=\"background: #bfe1d9; padding: 0.45em 0.6em; margin: 0 0.25em; line-height: 1; border-radius: 0.35em;\">\n",
       "    2 years\n",
       "    <span style=\"font-size: 0.8em; font-weight: bold; line-height: 1; border-radius: 0.35em; vertical-align: middle; margin-left: 0.5rem\">DATE</span>\n",
       "</mark>\n",
       " by a neighbor as a kid so they do not think I can get help from them.I was referred to this place by a \n",
       "<mark class=\"entity\" style=\"background: #7aecec; padding: 0.45em 0.6em; margin: 0 0.25em; line-height: 1; border-radius: 0.35em;\">\n",
       "    NHS\n",
       "    <span style=\"font-size: 0.8em; font-weight: bold; line-height: 1; border-radius: 0.35em; vertical-align: middle; margin-left: 0.5rem\">ORG</span>\n",
       "</mark>\n",
       " mental health team who keep referring to these places. \n",
       "<mark class=\"entity\" style=\"background: #e4e7d2; padding: 0.45em 0.6em; margin: 0 0.25em; line-height: 1; border-radius: 0.35em;\">\n",
       "    One\n",
       "    <span style=\"font-size: 0.8em; font-weight: bold; line-height: 1; border-radius: 0.35em; vertical-align: middle; margin-left: 0.5rem\">CARDINAL</span>\n",
       "</mark>\n",
       " place will tell me I am too severe to help. And now, this place says what happened was not bad enough. I was not even abused the right way. Even my abuse was done wrong.Which is the \n",
       "<mark class=\"entity\" style=\"background: #e4e7d2; padding: 0.45em 0.6em; margin: 0 0.25em; line-height: 1; border-radius: 0.35em;\">\n",
       "    SECOND\n",
       "    <span style=\"font-size: 0.8em; font-weight: bold; line-height: 1; border-radius: 0.35em; vertical-align: middle; margin-left: 0.5rem\">ORDINAL</span>\n",
       "</mark>\n",
       " time I have heard it \n",
       "<mark class=\"entity\" style=\"background: #bfe1d9; padding: 0.45em 0.6em; margin: 0 0.25em; line-height: 1; border-radius: 0.35em;\">\n",
       "    this week\n",
       "    <span style=\"font-size: 0.8em; font-weight: bold; line-height: 1; border-radius: 0.35em; vertical-align: middle; margin-left: 0.5rem\">DATE</span>\n",
       "</mark>\n",
       ", \n",
       "<mark class=\"entity\" style=\"background: #e4e7d2; padding: 0.45em 0.6em; margin: 0 0.25em; line-height: 1; border-radius: 0.35em;\">\n",
       "    about TWO\n",
       "    <span style=\"font-size: 0.8em; font-weight: bold; line-height: 1; border-radius: 0.35em; vertical-align: middle; margin-left: 0.5rem\">CARDINAL</span>\n",
       "</mark>\n",
       " different types of abuse. And then people have the cheek to ask me why I am so miserable. I am literally asking for help and doing all the rubbish I am told to do, and yet here we are.Damn. Just damn.(please no &quot;it gets better&quot;. That makes me feel worse EVERY TIME) I was just told my abuse was not severe enough</div></span>"
      ],
      "text/plain": [
       "<IPython.core.display.HTML object>"
      ]
     },
     "metadata": {},
     "output_type": "display_data"
    }
   ],
   "source": [
    "sentence_nlp = nlp(sentence)\n",
    "\n",
    "# print named entities in article\n",
    "print([(word, word.ent_type_) for word in sentence_nlp if word.ent_type_])\n",
    "\n",
    "# visualize named entities\n",
    "displacy.render(sentence_nlp, style='ent', jupyter=True)"
   ]
  },
  {
   "cell_type": "markdown",
   "id": "f9af0bc8-95ef-4517-8a4f-fe4e2dff630a",
   "metadata": {},
   "source": [
    "We can clearly see that the major named entities have been identified by spacy. To understand more in detail about what each named entity means, you can refer to the documentation or check out the following table for convenience."
   ]
  },
  {
   "cell_type": "markdown",
   "id": "3c1e286e-8199-48cf-bb2c-a4b598438856",
   "metadata": {},
   "source": [
    "Let’s now find out the most frequent named entities in our news corpus! For this, we will build out a data frame of all the named entities and their types using the following code."
   ]
  },
  {
   "cell_type": "code",
   "execution_count": 44,
   "id": "d62bf92b-5d1c-4630-b965-dac8eec79070",
   "metadata": {},
   "outputs": [
    {
     "data": {
      "text/html": [
       "<div>\n",
       "<style scoped>\n",
       "    .dataframe tbody tr th:only-of-type {\n",
       "        vertical-align: middle;\n",
       "    }\n",
       "\n",
       "    .dataframe tbody tr th {\n",
       "        vertical-align: top;\n",
       "    }\n",
       "\n",
       "    .dataframe thead th {\n",
       "        text-align: right;\n",
       "    }\n",
       "</style>\n",
       "<table border=\"1\" class=\"dataframe\">\n",
       "  <thead>\n",
       "    <tr style=\"text-align: right;\">\n",
       "      <th></th>\n",
       "      <th>news_headline</th>\n",
       "      <th>news_article</th>\n",
       "      <th>news_category</th>\n",
       "      <th>full_text</th>\n",
       "      <th>clean_text</th>\n",
       "    </tr>\n",
       "  </thead>\n",
       "  <tbody>\n",
       "    <tr>\n",
       "      <th>0</th>\n",
       "      <td>World's cheapest phone 'Freedom 251' maker's f...</td>\n",
       "      <td>The maker of world's cheapest smartphone 'Free...</td>\n",
       "      <td>technology</td>\n",
       "      <td>World's cheapest phone 'Freedom 251' maker's f...</td>\n",
       "      <td>world cheapest phone freedom maker founder arr...</td>\n",
       "    </tr>\n",
       "    <tr>\n",
       "      <th>1</th>\n",
       "      <td>US unveils world's most powerful supercomputer...</td>\n",
       "      <td>The US has unveiled the world's most powerful ...</td>\n",
       "      <td>technology</td>\n",
       "      <td>US unveils world's most powerful supercomputer...</td>\n",
       "      <td>us unveils world powerful supercomputer beat c...</td>\n",
       "    </tr>\n",
       "    <tr>\n",
       "      <th>2</th>\n",
       "      <td>FB bug changed 1.4 cr users’ privacy setting t...</td>\n",
       "      <td>Facebook has said it recently found a bug that...</td>\n",
       "      <td>technology</td>\n",
       "      <td>FB bug changed 1.4 cr users’ privacy setting t...</td>\n",
       "      <td>fb bug change cr user privacy set public faceb...</td>\n",
       "    </tr>\n",
       "    <tr>\n",
       "      <th>3</th>\n",
       "      <td>Contest for 1st couple to marry in self-drivin...</td>\n",
       "      <td>The American Automobile Association has launch...</td>\n",
       "      <td>technology</td>\n",
       "      <td>Contest for 1st couple to marry in self-drivin...</td>\n",
       "      <td>cont st couple marry self drive car launch ame...</td>\n",
       "    </tr>\n",
       "    <tr>\n",
       "      <th>4</th>\n",
       "      <td>China's ZTE to pay $1 billion fine to US to li...</td>\n",
       "      <td>Chinese telecommunications equipment maker ZTE...</td>\n",
       "      <td>technology</td>\n",
       "      <td>China's ZTE to pay $1 billion fine to US to li...</td>\n",
       "      <td>china zte pay billion fine us lift sanction ch...</td>\n",
       "    </tr>\n",
       "    <tr>\n",
       "      <th>...</th>\n",
       "      <td>...</td>\n",
       "      <td>...</td>\n",
       "      <td>...</td>\n",
       "      <td>...</td>\n",
       "      <td>...</td>\n",
       "    </tr>\n",
       "    <tr>\n",
       "      <th>69</th>\n",
       "      <td>Brazilian newborn thought to be dead buried fo...</td>\n",
       "      <td>A newborn baby in Brazil's Canarana was buried...</td>\n",
       "      <td>world</td>\n",
       "      <td>Brazilian newborn thought to be dead buried fo...</td>\n",
       "      <td>brazilian newborn thought dead bury hour newbo...</td>\n",
       "    </tr>\n",
       "    <tr>\n",
       "      <th>70</th>\n",
       "      <td>Singapore to spend ₹100 crore for Trump-Kim su...</td>\n",
       "      <td>Singapore Prime Minister Lee Hsien Loong on Su...</td>\n",
       "      <td>world</td>\n",
       "      <td>Singapore to spend ₹100 crore for Trump-Kim su...</td>\n",
       "      <td>singapore spend crore trump kim summit pm lee ...</td>\n",
       "    </tr>\n",
       "    <tr>\n",
       "      <th>71</th>\n",
       "      <td>Trump and Kim lookalikes hold summit in Singapore</td>\n",
       "      <td>Ahead of the talks between US President Donald...</td>\n",
       "      <td>world</td>\n",
       "      <td>Trump and Kim lookalikes hold summit in Singap...</td>\n",
       "      <td>trump kim lookalike hold summit singapore ahea...</td>\n",
       "    </tr>\n",
       "    <tr>\n",
       "      <th>72</th>\n",
       "      <td>Czech woman drowns while playing GPS-based tre...</td>\n",
       "      <td>A Czech woman drowned after being trapped insi...</td>\n",
       "      <td>world</td>\n",
       "      <td>Czech woman drowns while playing GPS-based tre...</td>\n",
       "      <td>czech woman drown play gps base treasure hunt ...</td>\n",
       "    </tr>\n",
       "    <tr>\n",
       "      <th>73</th>\n",
       "      <td>Praying that US-N Korea summit leads to peace:...</td>\n",
       "      <td>Pope Francis on Sunday said he is praying that...</td>\n",
       "      <td>world</td>\n",
       "      <td>Praying that US-N Korea summit leads to peace:...</td>\n",
       "      <td>pray us n korea summit lead peace pope francis...</td>\n",
       "    </tr>\n",
       "  </tbody>\n",
       "</table>\n",
       "<p>74 rows × 5 columns</p>\n",
       "</div>"
      ],
      "text/plain": [
       "                                        news_headline  \\\n",
       "0   World's cheapest phone 'Freedom 251' maker's f...   \n",
       "1   US unveils world's most powerful supercomputer...   \n",
       "2   FB bug changed 1.4 cr users’ privacy setting t...   \n",
       "3   Contest for 1st couple to marry in self-drivin...   \n",
       "4   China's ZTE to pay $1 billion fine to US to li...   \n",
       "..                                                ...   \n",
       "69  Brazilian newborn thought to be dead buried fo...   \n",
       "70  Singapore to spend ₹100 crore for Trump-Kim su...   \n",
       "71  Trump and Kim lookalikes hold summit in Singapore   \n",
       "72  Czech woman drowns while playing GPS-based tre...   \n",
       "73  Praying that US-N Korea summit leads to peace:...   \n",
       "\n",
       "                                         news_article news_category  \\\n",
       "0   The maker of world's cheapest smartphone 'Free...    technology   \n",
       "1   The US has unveiled the world's most powerful ...    technology   \n",
       "2   Facebook has said it recently found a bug that...    technology   \n",
       "3   The American Automobile Association has launch...    technology   \n",
       "4   Chinese telecommunications equipment maker ZTE...    technology   \n",
       "..                                                ...           ...   \n",
       "69  A newborn baby in Brazil's Canarana was buried...         world   \n",
       "70  Singapore Prime Minister Lee Hsien Loong on Su...         world   \n",
       "71  Ahead of the talks between US President Donald...         world   \n",
       "72  A Czech woman drowned after being trapped insi...         world   \n",
       "73  Pope Francis on Sunday said he is praying that...         world   \n",
       "\n",
       "                                            full_text  \\\n",
       "0   World's cheapest phone 'Freedom 251' maker's f...   \n",
       "1   US unveils world's most powerful supercomputer...   \n",
       "2   FB bug changed 1.4 cr users’ privacy setting t...   \n",
       "3   Contest for 1st couple to marry in self-drivin...   \n",
       "4   China's ZTE to pay $1 billion fine to US to li...   \n",
       "..                                                ...   \n",
       "69  Brazilian newborn thought to be dead buried fo...   \n",
       "70  Singapore to spend ₹100 crore for Trump-Kim su...   \n",
       "71  Trump and Kim lookalikes hold summit in Singap...   \n",
       "72  Czech woman drowns while playing GPS-based tre...   \n",
       "73  Praying that US-N Korea summit leads to peace:...   \n",
       "\n",
       "                                           clean_text  \n",
       "0   world cheapest phone freedom maker founder arr...  \n",
       "1   us unveils world powerful supercomputer beat c...  \n",
       "2   fb bug change cr user privacy set public faceb...  \n",
       "3   cont st couple marry self drive car launch ame...  \n",
       "4   china zte pay billion fine us lift sanction ch...  \n",
       "..                                                ...  \n",
       "69  brazilian newborn thought dead bury hour newbo...  \n",
       "70  singapore spend crore trump kim summit pm lee ...  \n",
       "71  trump kim lookalike hold summit singapore ahea...  \n",
       "72  czech woman drown play gps base treasure hunt ...  \n",
       "73  pray us n korea summit lead peace pope francis...  \n",
       "\n",
       "[74 rows x 5 columns]"
      ]
     },
     "execution_count": 44,
     "metadata": {},
     "output_type": "execute_result"
    }
   ],
   "source": [
    "news_df = pd.read_csv('news.csv')\n",
    "news_df"
   ]
  },
  {
   "cell_type": "code",
   "execution_count": 45,
   "id": "874c262c-2c2b-4e7e-9644-eb658acc37a6",
   "metadata": {},
   "outputs": [],
   "source": [
    "corpus = normalize_corpus(news_df['full_text'], text_lower_case=False, \n",
    "                          text_lemmatization=False, special_char_removal=False)"
   ]
  },
  {
   "cell_type": "code",
   "execution_count": 46,
   "id": "2a07f263-2356-4385-ac7d-d21088bd76ba",
   "metadata": {},
   "outputs": [],
   "source": [
    "#corpus = normalize_corpus(df['statement'], text_lower_case=False, \n",
    "                          #text_lemmatization=False, special_char_removal=False)"
   ]
  },
  {
   "cell_type": "code",
   "execution_count": 47,
   "id": "fc01387d-7ad5-471a-9bf0-7a1377a5b9d8",
   "metadata": {},
   "outputs": [],
   "source": [
    "named_entities = []\n",
    "for sentence in corpus:\n",
    "    temp_entity_name = ''\n",
    "    temp_named_entity = None\n",
    "    sentence = nlp(sentence)\n",
    "    for word in sentence:\n",
    "        term = word.text \n",
    "        tag = word.ent_type_\n",
    "        if tag:\n",
    "            temp_entity_name = ' '.join([temp_entity_name, term]).strip()\n",
    "            temp_named_entity = (temp_entity_name, tag)\n",
    "        else:\n",
    "            if temp_named_entity:\n",
    "                named_entities.append(temp_named_entity)\n",
    "                temp_entity_name = ''\n",
    "                temp_named_entity = None\n",
    "\n",
    "entity_frame = pd.DataFrame(named_entities, \n",
    "                            columns=['Entity Name', 'Entity Type'])"
   ]
  },
  {
   "cell_type": "code",
   "execution_count": 48,
   "id": "3896fc6d-56b1-4632-b7db-4e7e5de972f6",
   "metadata": {},
   "outputs": [
    {
     "data": {
      "text/html": [
       "<div>\n",
       "<style scoped>\n",
       "    .dataframe tbody tr th:only-of-type {\n",
       "        vertical-align: middle;\n",
       "    }\n",
       "\n",
       "    .dataframe tbody tr th {\n",
       "        vertical-align: top;\n",
       "    }\n",
       "\n",
       "    .dataframe thead th {\n",
       "        text-align: right;\n",
       "    }\n",
       "</style>\n",
       "<table border=\"1\" class=\"dataframe\">\n",
       "  <thead>\n",
       "    <tr style=\"text-align: right;\">\n",
       "      <th></th>\n",
       "      <th>0</th>\n",
       "      <th>1</th>\n",
       "      <th>2</th>\n",
       "      <th>3</th>\n",
       "      <th>4</th>\n",
       "      <th>5</th>\n",
       "      <th>6</th>\n",
       "      <th>7</th>\n",
       "      <th>8</th>\n",
       "      <th>9</th>\n",
       "      <th>10</th>\n",
       "      <th>11</th>\n",
       "      <th>12</th>\n",
       "      <th>13</th>\n",
       "      <th>14</th>\n",
       "    </tr>\n",
       "  </thead>\n",
       "  <tbody>\n",
       "    <tr>\n",
       "      <th>Entity Name</th>\n",
       "      <td>US</td>\n",
       "      <td>Trump</td>\n",
       "      <td>India</td>\n",
       "      <td>Indian</td>\n",
       "      <td>Singapore</td>\n",
       "      <td>Kim Jong - un</td>\n",
       "      <td>Apple</td>\n",
       "      <td>one</td>\n",
       "      <td>two</td>\n",
       "      <td>China</td>\n",
       "      <td>19 - year - old</td>\n",
       "      <td>Canadian</td>\n",
       "      <td>Donald Trump</td>\n",
       "      <td>Messenger</td>\n",
       "      <td>World Cup</td>\n",
       "    </tr>\n",
       "    <tr>\n",
       "      <th>Entity Type</th>\n",
       "      <td>GPE</td>\n",
       "      <td>ORG</td>\n",
       "      <td>GPE</td>\n",
       "      <td>NORP</td>\n",
       "      <td>GPE</td>\n",
       "      <td>PERSON</td>\n",
       "      <td>ORG</td>\n",
       "      <td>CARDINAL</td>\n",
       "      <td>CARDINAL</td>\n",
       "      <td>GPE</td>\n",
       "      <td>DATE</td>\n",
       "      <td>NORP</td>\n",
       "      <td>PERSON</td>\n",
       "      <td>PERSON</td>\n",
       "      <td>EVENT</td>\n",
       "    </tr>\n",
       "    <tr>\n",
       "      <th>Frequency</th>\n",
       "      <td>32</td>\n",
       "      <td>15</td>\n",
       "      <td>13</td>\n",
       "      <td>12</td>\n",
       "      <td>11</td>\n",
       "      <td>11</td>\n",
       "      <td>9</td>\n",
       "      <td>9</td>\n",
       "      <td>8</td>\n",
       "      <td>8</td>\n",
       "      <td>6</td>\n",
       "      <td>6</td>\n",
       "      <td>6</td>\n",
       "      <td>6</td>\n",
       "      <td>5</td>\n",
       "    </tr>\n",
       "  </tbody>\n",
       "</table>\n",
       "</div>"
      ],
      "text/plain": [
       "              0      1      2       3          4              5      6   \\\n",
       "Entity Name   US  Trump  India  Indian  Singapore  Kim Jong - un  Apple   \n",
       "Entity Type  GPE    ORG    GPE    NORP        GPE         PERSON    ORG   \n",
       "Frequency     32     15     13      12         11             11      9   \n",
       "\n",
       "                   7         8      9                10        11  \\\n",
       "Entity Name       one       two  China  19 - year - old  Canadian   \n",
       "Entity Type  CARDINAL  CARDINAL    GPE             DATE      NORP   \n",
       "Frequency           9         8      8                6         6   \n",
       "\n",
       "                       12         13         14  \n",
       "Entity Name  Donald Trump  Messenger  World Cup  \n",
       "Entity Type        PERSON     PERSON      EVENT  \n",
       "Frequency               6          6          5  "
      ]
     },
     "execution_count": 48,
     "metadata": {},
     "output_type": "execute_result"
    }
   ],
   "source": [
    "top_entities = (entity_frame.groupby(by=['Entity Name', 'Entity Type'])\n",
    "                           .size()\n",
    "                           .sort_values(ascending=False)\n",
    "                           .reset_index().rename(columns={0 : 'Frequency'}))\n",
    "top_entities.T.iloc[:,:15]"
   ]
  },
  {
   "cell_type": "markdown",
   "id": "549d5ce7-193e-49ce-b6be-aee79e16eb9b",
   "metadata": {},
   "source": [
    "We can also group by the entity types to get a sense of what types of entites occur most in our news corpus."
   ]
  },
  {
   "cell_type": "code",
   "execution_count": 49,
   "id": "96df7f01-9108-48ca-a72f-1f94ef32dc5d",
   "metadata": {},
   "outputs": [
    {
     "data": {
      "text/html": [
       "<div>\n",
       "<style scoped>\n",
       "    .dataframe tbody tr th:only-of-type {\n",
       "        vertical-align: middle;\n",
       "    }\n",
       "\n",
       "    .dataframe tbody tr th {\n",
       "        vertical-align: top;\n",
       "    }\n",
       "\n",
       "    .dataframe thead th {\n",
       "        text-align: right;\n",
       "    }\n",
       "</style>\n",
       "<table border=\"1\" class=\"dataframe\">\n",
       "  <thead>\n",
       "    <tr style=\"text-align: right;\">\n",
       "      <th></th>\n",
       "      <th>0</th>\n",
       "      <th>1</th>\n",
       "      <th>2</th>\n",
       "      <th>3</th>\n",
       "      <th>4</th>\n",
       "      <th>5</th>\n",
       "      <th>6</th>\n",
       "      <th>7</th>\n",
       "      <th>8</th>\n",
       "      <th>9</th>\n",
       "      <th>10</th>\n",
       "      <th>11</th>\n",
       "      <th>12</th>\n",
       "      <th>13</th>\n",
       "      <th>14</th>\n",
       "    </tr>\n",
       "  </thead>\n",
       "  <tbody>\n",
       "    <tr>\n",
       "      <th>Entity Type</th>\n",
       "      <td>PERSON</td>\n",
       "      <td>GPE</td>\n",
       "      <td>ORG</td>\n",
       "      <td>CARDINAL</td>\n",
       "      <td>DATE</td>\n",
       "      <td>NORP</td>\n",
       "      <td>ORDINAL</td>\n",
       "      <td>EVENT</td>\n",
       "      <td>MONEY</td>\n",
       "      <td>PRODUCT</td>\n",
       "      <td>QUANTITY</td>\n",
       "      <td>TIME</td>\n",
       "      <td>LOC</td>\n",
       "      <td>FAC</td>\n",
       "      <td>LANGUAGE</td>\n",
       "    </tr>\n",
       "    <tr>\n",
       "      <th>Frequency</th>\n",
       "      <td>167</td>\n",
       "      <td>117</td>\n",
       "      <td>112</td>\n",
       "      <td>77</td>\n",
       "      <td>75</td>\n",
       "      <td>54</td>\n",
       "      <td>21</td>\n",
       "      <td>16</td>\n",
       "      <td>9</td>\n",
       "      <td>8</td>\n",
       "      <td>7</td>\n",
       "      <td>7</td>\n",
       "      <td>5</td>\n",
       "      <td>2</td>\n",
       "      <td>2</td>\n",
       "    </tr>\n",
       "  </tbody>\n",
       "</table>\n",
       "</div>"
      ],
      "text/plain": [
       "                 0    1    2         3     4     5        6      7      8   \\\n",
       "Entity Type  PERSON  GPE  ORG  CARDINAL  DATE  NORP  ORDINAL  EVENT  MONEY   \n",
       "Frequency       167  117  112        77    75    54       21     16      9   \n",
       "\n",
       "                  9         10    11   12   13        14  \n",
       "Entity Type  PRODUCT  QUANTITY  TIME  LOC  FAC  LANGUAGE  \n",
       "Frequency          8         7     7    5    2         2  "
      ]
     },
     "execution_count": 49,
     "metadata": {},
     "output_type": "execute_result"
    }
   ],
   "source": [
    "top_entities = (entity_frame.groupby(by=['Entity Type'])\n",
    "                           .size()\n",
    "                           .sort_values(ascending=False)\n",
    "                           .reset_index().rename(columns={0 : 'Frequency'}))\n",
    "top_entities.T.iloc[:,:15]"
   ]
  },
  {
   "cell_type": "markdown",
   "id": "cefdf94a-1e63-42bd-82bb-c08cdeea6b5c",
   "metadata": {},
   "source": [
    "Another nice NER tagger is the StanfordNERTagger available from the nltk interface. For this, you need to have Java installed and then download the Stanford NER resources. Unzip them to a location of your choice.\n",
    "\n",
    "Stanford’s Named Entity Recognizer is based on an implementation of linear chain Conditional Random Field (CRF) sequence models. Unfortunately this model is only trained on instances of PERSON, ORGANIZATION and LOCATION types. Following code can be used as a standard workflow which helps us extract the named entities using this tagger and show the top named entities and their types (extraction differs slightly from spacy)."
   ]
  },
  {
   "cell_type": "code",
   "execution_count": 50,
   "id": "e8cbb6bb-a6cc-4d7d-9869-19e988f0886c",
   "metadata": {},
   "outputs": [
    {
     "data": {
      "text/html": [
       "<div>\n",
       "<style scoped>\n",
       "    .dataframe tbody tr th:only-of-type {\n",
       "        vertical-align: middle;\n",
       "    }\n",
       "\n",
       "    .dataframe tbody tr th {\n",
       "        vertical-align: top;\n",
       "    }\n",
       "\n",
       "    .dataframe thead th {\n",
       "        text-align: right;\n",
       "    }\n",
       "</style>\n",
       "<table border=\"1\" class=\"dataframe\">\n",
       "  <thead>\n",
       "    <tr style=\"text-align: right;\">\n",
       "      <th></th>\n",
       "      <th>Entity Type</th>\n",
       "      <th>Frequency</th>\n",
       "    </tr>\n",
       "  </thead>\n",
       "  <tbody>\n",
       "    <tr>\n",
       "      <th>0</th>\n",
       "      <td>PERSON</td>\n",
       "      <td>181</td>\n",
       "    </tr>\n",
       "    <tr>\n",
       "      <th>1</th>\n",
       "      <td>LOCATION</td>\n",
       "      <td>118</td>\n",
       "    </tr>\n",
       "    <tr>\n",
       "      <th>2</th>\n",
       "      <td>ORGANIZATION</td>\n",
       "      <td>59</td>\n",
       "    </tr>\n",
       "  </tbody>\n",
       "</table>\n",
       "</div>"
      ],
      "text/plain": [
       "    Entity Type  Frequency\n",
       "0        PERSON        181\n",
       "1      LOCATION        118\n",
       "2  ORGANIZATION         59"
      ]
     },
     "execution_count": 50,
     "metadata": {},
     "output_type": "execute_result"
    }
   ],
   "source": [
    "java_path = r'C:\\Users\\praka\\AppData\\Local\\Programs\\Eclipse Adoptium\\jdk-21.0.4.7-hotspot\\bin\\java.exe'\n",
    "os.environ['JAVAHOME'] = java_path\n",
    "\n",
    "# initialize NER tagger\n",
    "sn = StanfordNERTagger(r'C:\\Users\\praka\\stanford-ner-4.2.0\\stanford-ner-2020-11-17/classifiers/english.all.3class.distsim.crf.ser.gz',\n",
    "                       path_to_jar=r'C:\\Users\\praka\\stanford-ner-4.2.0\\stanford-ner-2020-11-17/stanford-ner.jar')\n",
    "\n",
    "# tag named entities\n",
    "ner_tagged_sentences = [sn.tag(sent.split()) for sent in corpus]\n",
    "\n",
    "# extract all named entities\n",
    "named_entities = []\n",
    "for sentence in ner_tagged_sentences:\n",
    "    temp_entity_name = ''\n",
    "    temp_named_entity = None\n",
    "    for term, tag in sentence:\n",
    "        if tag != 'O':\n",
    "            temp_entity_name = ' '.join([temp_entity_name, term]).strip()\n",
    "            temp_named_entity = (temp_entity_name, tag)\n",
    "        else:\n",
    "            if temp_named_entity:\n",
    "                named_entities.append(temp_named_entity)\n",
    "                temp_entity_name = ''\n",
    "                temp_named_entity = None\n",
    "\n",
    "#named_entities = list(set(named_entities))\n",
    "entity_frame = pd.DataFrame(named_entities, \n",
    "                            columns=['Entity Name', 'Entity Type'])\n",
    "                            \n",
    "\n",
    "# view top entities and types\n",
    "top_entities = (entity_frame.groupby(by=['Entity Name', 'Entity Type'])\n",
    "                           .size()\n",
    "                           .sort_values(ascending=False)\n",
    "                           .reset_index().rename(columns={0 : 'Frequency'}))\n",
    "top_entities.head(15)\n",
    "\n",
    "\n",
    "# view top entity types\n",
    "top_entities = (entity_frame.groupby(by=['Entity Type'])\n",
    "                           .size()\n",
    "                           .sort_values(ascending=False)\n",
    "                           .reset_index().rename(columns={0 : 'Frequency'}))\n",
    "top_entities.head()"
   ]
  },
  {
   "cell_type": "markdown",
   "id": "606a0c70-865f-415b-b7fb-5ad6600fafa1",
   "metadata": {},
   "source": [
    "We notice quite similar results though restricted to only three types of named entities. Interestingly, we see a number of mentioned of several people in various sports."
   ]
  },
  {
   "cell_type": "markdown",
   "id": "32eff434-b8b5-4df4-8681-9242ccafae01",
   "metadata": {},
   "source": [
    "# Emotion and Sentiment Analysis"
   ]
  },
  {
   "cell_type": "markdown",
   "id": "ea9f1726-6c27-4f00-8481-5743507d8e33",
   "metadata": {},
   "source": [
    "Sentiment analysis is perhaps one of the most popular applications of NLP, with a vast number of tutorials, courses, and applications that focus on analyzing sentiments of diverse datasets ranging from corporate surveys to movie reviews. The key aspect of sentiment analysis is to analyze a body of text for understanding the opinion expressed by it. Typically, we quantify this sentiment with a positive or negative value, called polarity. The overall sentiment is often inferred as positive, neutral or negative from the sign of the polarity score."
   ]
  },
  {
   "cell_type": "markdown",
   "id": "f116ffce-f8ef-42c3-a784-31a00811a408",
   "metadata": {},
   "source": [
    "Usually, sentiment analysis works best on text that has a subjective context than on text with only an objective context. Objective text usually depicts some normal statements or facts without expressing any emotion, feelings, or mood. Subjective text contains text that is usually expressed by a human having typical moods, emotions, and feelings. Sentiment analysis is widely used, especially as a part of social media analysis for any domain, be it a business, a recent movie, or a product launch, to understand its reception by the people and what they think of it based on their opinions or, you guessed it, sentiment!"
   ]
  },
  {
   "cell_type": "markdown",
   "id": "f3a6ef30-1fa5-4e43-90de-b504859ec21a",
   "metadata": {},
   "source": [
    "Typically, sentiment analysis for text data can be computed on several levels, including on an individual sentence level, paragraph level, or the entire document as a whole. Often, sentiment is computed on the document as a whole or some aggregations are done after computing the sentiment for individual sentences. There are two major approaches to sentiment analysis."
   ]
  },
  {
   "cell_type": "markdown",
   "id": "54935d24-dbdc-4b15-9eed-8e41fc6d00a0",
   "metadata": {},
   "source": [
    "* Supervised machine learning or deep learning approaches\r",
    "* \n",
    "Unsupervised lexicon-based approaches"
   ]
  },
  {
   "cell_type": "markdown",
   "id": "0d23d879-0bd5-4e2d-b745-444b531a0914",
   "metadata": {},
   "source": [
    "For the first approach we typically need pre-labeled data. Hence, we will be focusing on the second approach. For a comprehensive coverage of sentiment analysis, refer to Chapter 7: Analyzing Movie Reviews Sentiment, Practical Machine Learning with Python, Springer\\Apress, 2018. In this scenario, we do not have the convenience of a well-labeled training dataset. Hence, we will need to use unsupervised techniques for predicting the sentiment by using knowledgebases, ontologies, databases, and lexicons that have detailed information, specially curated and prepared just for sentiment analysis. A lexicon is a dictionary, vocabulary, or a book of words. In our case, lexicons are special dictionaries or vocabularies that have been created for analyzing sentiments. Most of these lexicons have a list of positive and negative polar words with some score associated with them, and using various techniques like the position of words, surrounding words, context, parts of speech, phrases, and so on, scores are assigned to the text documents for which we want to compute the sentiment. After aggregating these scores, we get the final sentiment."
   ]
  },
  {
   "cell_type": "markdown",
   "id": "179cca22-4228-4661-a47e-3b2778417cce",
   "metadata": {},
   "source": [
    "Various popular lexicons are used for sentiment analysis, including the following."
   ]
  },
  {
   "cell_type": "markdown",
   "id": "9e710c90-f84d-488f-86e8-b3dc21817440",
   "metadata": {},
   "source": [
    "* AFINN lexicon\n",
    "* \n",
    "Bing Liu’s lexico\n",
    "* \r\n",
    "MPQA subjectivity lexic\n",
    "* n\r\n",
    "SentiWord\n",
    "* et\r\n",
    "VADER lex\n",
    "* con\r\n",
    "TextBlob lexicon"
   ]
  },
  {
   "cell_type": "markdown",
   "id": "6807c6e6-d87c-4b91-94d8-44eacacba838",
   "metadata": {},
   "source": [
    "This is not an exhaustive list of lexicons that can be leveraged for sentiment analysis, and there are several other lexicons which can be easily obtained from the Internet. Feel free to check out each of these links and explore them. We will be covering two techniques in this section."
   ]
  },
  {
   "cell_type": "markdown",
   "id": "4e2d6085-6d3e-42d2-bfca-f6e6d991da9d",
   "metadata": {},
   "source": [
    "## Sentiment Analysis with AFINN Lexicon"
   ]
  },
  {
   "cell_type": "markdown",
   "id": "5952b631-0f72-43c2-aec9-42a869648c3f",
   "metadata": {},
   "source": [
    "The AFINN lexicon is perhaps one of the simplest and most popular lexicons that can be used extensively for sentiment analysis. Developed and curated by Finn Årup Nielsen, you can find more details on this lexicon in the paper, “A new ANEW: evaluation of a word list for sentiment analysis in microblogs”, proceedings of the ESWC 2011 Workshop. The current version of the lexicon is AFINN-en-165. txt and it contains over 3,300+ words with a polarity score associated with each word. You can find this lexicon at the author’s official GitHub repository along with previous versions of it, including AFINN-111. The author has also created a nice wrapper library on top of this in Python called afinn, which we will be using for our analysis."
   ]
  },
  {
   "cell_type": "markdown",
   "id": "62548e1f-939b-4ad8-bf87-b28a0e3929c4",
   "metadata": {},
   "source": [
    "The following code computes sentiment for all our news articles and shows summary statistics of general sentiment per news category."
   ]
  },
  {
   "cell_type": "code",
   "execution_count": 51,
   "id": "d128aa04-fc0f-4c7a-a621-01f2f7a237d0",
   "metadata": {},
   "outputs": [
    {
     "data": {
      "text/html": [
       "<div>\n",
       "<style scoped>\n",
       "    .dataframe tbody tr th:only-of-type {\n",
       "        vertical-align: middle;\n",
       "    }\n",
       "\n",
       "    .dataframe tbody tr th {\n",
       "        vertical-align: top;\n",
       "    }\n",
       "\n",
       "    .dataframe thead tr th {\n",
       "        text-align: left;\n",
       "    }\n",
       "\n",
       "    .dataframe thead tr:last-of-type th {\n",
       "        text-align: right;\n",
       "    }\n",
       "</style>\n",
       "<table border=\"1\" class=\"dataframe\">\n",
       "  <thead>\n",
       "    <tr>\n",
       "      <th></th>\n",
       "      <th colspan=\"8\" halign=\"left\">sentiment_score</th>\n",
       "    </tr>\n",
       "    <tr>\n",
       "      <th></th>\n",
       "      <th>count</th>\n",
       "      <th>mean</th>\n",
       "      <th>std</th>\n",
       "      <th>min</th>\n",
       "      <th>25%</th>\n",
       "      <th>50%</th>\n",
       "      <th>75%</th>\n",
       "      <th>max</th>\n",
       "    </tr>\n",
       "    <tr>\n",
       "      <th>news_category</th>\n",
       "      <th></th>\n",
       "      <th></th>\n",
       "      <th></th>\n",
       "      <th></th>\n",
       "      <th></th>\n",
       "      <th></th>\n",
       "      <th></th>\n",
       "      <th></th>\n",
       "    </tr>\n",
       "  </thead>\n",
       "  <tbody>\n",
       "    <tr>\n",
       "      <th>sports</th>\n",
       "      <td>25.0</td>\n",
       "      <td>2.240000</td>\n",
       "      <td>7.315964</td>\n",
       "      <td>-10.0</td>\n",
       "      <td>-3.00</td>\n",
       "      <td>0.0</td>\n",
       "      <td>7.0</td>\n",
       "      <td>20.0</td>\n",
       "    </tr>\n",
       "    <tr>\n",
       "      <th>technology</th>\n",
       "      <td>24.0</td>\n",
       "      <td>-0.041667</td>\n",
       "      <td>4.876556</td>\n",
       "      <td>-15.0</td>\n",
       "      <td>-3.25</td>\n",
       "      <td>0.5</td>\n",
       "      <td>3.0</td>\n",
       "      <td>6.0</td>\n",
       "    </tr>\n",
       "    <tr>\n",
       "      <th>world</th>\n",
       "      <td>25.0</td>\n",
       "      <td>1.520000</td>\n",
       "      <td>6.124541</td>\n",
       "      <td>-12.0</td>\n",
       "      <td>-1.00</td>\n",
       "      <td>1.0</td>\n",
       "      <td>5.0</td>\n",
       "      <td>16.0</td>\n",
       "    </tr>\n",
       "  </tbody>\n",
       "</table>\n",
       "</div>"
      ],
      "text/plain": [
       "              sentiment_score                                                \n",
       "                        count      mean       std   min   25%  50%  75%   max\n",
       "news_category                                                                \n",
       "sports                   25.0  2.240000  7.315964 -10.0 -3.00  0.0  7.0  20.0\n",
       "technology               24.0 -0.041667  4.876556 -15.0 -3.25  0.5  3.0   6.0\n",
       "world                    25.0  1.520000  6.124541 -12.0 -1.00  1.0  5.0  16.0"
      ]
     },
     "execution_count": 51,
     "metadata": {},
     "output_type": "execute_result"
    }
   ],
   "source": [
    "# initialize afinn sentiment analyzer\n",
    "af = Afinn()\n",
    "\n",
    "# compute sentiment scores (polarity) and labels\n",
    "sentiment_scores = [af.score(article) for article in corpus]\n",
    "sentiment_category = ['positive' if score > 0 \n",
    "                          else 'negative' if score < 0 \n",
    "                              else 'neutral' \n",
    "                                  for score in sentiment_scores]\n",
    "    \n",
    "    \n",
    "# sentiment statistics per news category\n",
    "df = pd.DataFrame([list(news_df['news_category']), sentiment_scores, sentiment_category]).T\n",
    "df.columns = ['news_category', 'sentiment_score', 'sentiment_category']\n",
    "df['sentiment_score'] = df.sentiment_score.astype('float')\n",
    "df.groupby(by=['news_category']).describe()"
   ]
  },
  {
   "cell_type": "code",
   "execution_count": 52,
   "id": "9a8e7b32-2475-4e3c-bc0e-b33528ec3ce8",
   "metadata": {},
   "outputs": [],
   "source": [
    "# ! pip install afinn"
   ]
  },
  {
   "cell_type": "markdown",
   "id": "7ad56621-3f31-4f85-ba5c-86053ea5778f",
   "metadata": {},
   "source": [
    "We can get a good idea of general sentiment statistics across different news categories. Looks like the average sentiment is very positive in sports and reasonably negative in technology! Let’s look at some visualizations now."
   ]
  },
  {
   "cell_type": "code",
   "execution_count": 53,
   "id": "dbd43a8d-53a1-4cb9-be95-f2ab6c935d7f",
   "metadata": {},
   "outputs": [
    {
     "data": {
      "image/png": "[encoded data removed]",
      "text/plain": [
       "<Figure size 1400x400 with 2 Axes>"
      ]
     },
     "metadata": {},
     "output_type": "display_data"
    }
   ],
   "source": [
    "f, (ax1, ax2) = plt.subplots(1, 2, figsize=(14, 4))\n",
    "sp = sns.stripplot(x='news_category', y=\"sentiment_score\", \n",
    "                   hue='news_category', data=df, ax=ax1)\n",
    "bp = sns.boxplot(x='news_category', y=\"sentiment_score\", \n",
    "                 hue='news_category', data=df, palette=\"Set2\", ax=ax2)\n",
    "t = f.suptitle('Visualizing News Sentiment', fontsize=14)"
   ]
  },
  {
   "cell_type": "markdown",
   "id": "abeec3b9-1e5a-4bc0-aac9-487ee9aad9fc",
   "metadata": {},
   "source": [
    "We can see that the spread of sentiment polarity is much higher in sports and world as compared to technology where a lot of the articles seem to be having a negative polarity. We can also visualize the frequency of sentiment labels."
   ]
  },
  {
   "cell_type": "code",
   "execution_count": 54,
   "id": "df5a8d1e-684b-4225-abff-1ff01cedc60f",
   "metadata": {},
   "outputs": [
    {
     "data": {
      "image/png": "[encoded data removed]",
      "text/plain": [
       "<Figure size 649.736x500 with 1 Axes>"
      ]
     },
     "metadata": {},
     "output_type": "display_data"
    }
   ],
   "source": [
    "fc = sns.catplot(x=\"news_category\", hue=\"sentiment_category\", \n",
    "                 data=df, kind=\"count\", \n",
    "                 palette={\"negative\": \"#FE2020\", \n",
    "                          \"positive\": \"#BADD07\", \n",
    "                          \"neutral\": \"#68BFF5\"})"
   ]
  },
  {
   "cell_type": "markdown",
   "id": "2badc246-c8c2-4f6f-8155-75cdf1e14145",
   "metadata": {},
   "source": [
    "No surprises here that technology has the most number of negative articles and world the most number of positive articles. Sports might have more neutral articles due to the presence of articles which are more objective in nature (talking about sporting events without the presence of any emotion or feelings). Let’s dive deeper into the most positive and negative sentiment news articles for technology news."
   ]
  },
  {
   "cell_type": "code",
   "execution_count": 55,
   "id": "e29d4e3b-8955-430c-8ff0-7722ded8f8e8",
   "metadata": {},
   "outputs": [
    {
     "name": "stdout",
     "output_type": "stream",
     "text": [
      "Most Negative Tech News Article: The maker of world's cheapest smartphone 'Freedom 251' priced at ₹251, Ringing Bells' founder Mohit Goel was arrested along with two more people by the Delhi Police on Sunday. The three were allegedly trying to extort money in lieu of settling a rape case. Last year, Goel was arrested over allegations of fraud and an alleged non-payment of ₹16 lakh.\n",
      "\n",
      "Most Positive Tech News Article: The American Automobile Association has launched a contest to find the first couple to get married in one of its self-driving shuttles in Las Vegas. The contestants will have to write a 400-word essay describing how an autonomous vehicle would have changed their road trip experience with their partner. The winning couple will be married on June 30.\n"
     ]
    }
   ],
   "source": [
    "# Find indices of the most negative and positive technology news articles\n",
    "pos_idx = df[(df.news_category == 'technology') & (df.sentiment_score == 6)].index[0]\n",
    "neg_idx = df[(df.news_category == 'technology') & (df.sentiment_score == -15)].index[0]\n",
    "\n",
    "# Accessing the 'news_article' column correctly using iloc\n",
    "print('Most Negative Tech News Article:', news_df.iloc[neg_idx]['news_article'])\n",
    "print()\n",
    "print('Most Positive Tech News Article:', news_df.iloc[pos_idx]['news_article'])"
   ]
  },
  {
   "cell_type": "markdown",
   "id": "08a8bcdb-9852-483c-b081-7abb957c6698",
   "metadata": {},
   "source": [
    "Looks like the most negative article is all about a recent smartphone scam in India and the most positive article is about a contest to get married in a self-driving shuttle. Interesting! Let’s do a similar analysis for world news."
   ]
  },
  {
   "cell_type": "code",
   "execution_count": 56,
   "id": "76e6c6d7-fa90-4570-89c2-e09cf2cd3dec",
   "metadata": {},
   "outputs": [
    {
     "name": "stdout",
     "output_type": "stream",
     "text": [
      "Most Negative World News Article: Slamming Canadian Prime Minister Justin Trudeau's comments on US tariffs during the G7 summit, US President Donald Trump's trade adviser Peter Navarro said, \"Trudeau deserves a special place in hell.\" Navarro also accused Trudeau of backstabbing Trump. The Canadian PM had called US tariffs \"insulting\", saying the country won't be pushed around and plans to apply retaliatory tariffs.\n",
      "\n",
      "Most Positive World News Article: Pope Francis on Sunday said he is praying that the upcoming summit between US President Donald Trump and North Korean leader Kim Jong-un succeeds in laying the groundwork for peace. Urging people around the world to pray for the summit, the pontiff said, \"I want to offer the beloved people of Korea an especial thought of friendship.\"\n"
     ]
    }
   ],
   "source": [
    "pos_idx = df[(df.news_category=='world') & (df.sentiment_score == 16)].index[0]\n",
    "neg_idx = df[(df.news_category=='world') & (df.sentiment_score == -12)].index[0]\n",
    "\n",
    "print('Most Negative World News Article:', news_df.iloc[neg_idx]['news_article'])\n",
    "print()\n",
    "print('Most Positive World News Article:', news_df.iloc[pos_idx]['news_article'])"
   ]
  },
  {
   "cell_type": "markdown",
   "id": "1480ead9-d6e4-4b70-a755-44091f078db5",
   "metadata": {},
   "source": [
    "Interestingly Trump features in both the most positive and the most negative world news articles. Do read the articles to get some more perspective into why the model selected one of them as the most negative and the other one as the most positive (no surprises here!)."
   ]
  },
  {
   "cell_type": "markdown",
   "id": "6bc478d2-a581-459a-9af5-ac8298c15f44",
   "metadata": {},
   "source": [
    "## Sentiment Analysis with TextBlob"
   ]
  },
  {
   "cell_type": "markdown",
   "id": "e3eacb1a-508f-4e2c-8da1-932a1ed7dbad",
   "metadata": {},
   "source": [
    "TextBlob is another excellent open-source library for performing NLP tasks with ease, including sentiment analysis. It also an a sentiment lexicon (in the form of an XML file) which it leverages to give both polarity and subjectivity scores. Typically, the scores have a normalized scale as compare to Afinn. The polarity score is a float within the range [-1.0, 1.0]. The subjectivity is a float within the range [0.0, 1.0] where 0.0 is very objective and 1.0 is very subjective. Let’s use this now to get the sentiment polarity and labels for each news article and aggregate the summary statistics per news category."
   ]
  },
  {
   "cell_type": "code",
   "execution_count": 57,
   "id": "9e2c4b7e-5bec-43b3-baa2-2ec9888d04df",
   "metadata": {},
   "outputs": [
    {
     "data": {
      "text/html": [
       "<div>\n",
       "<style scoped>\n",
       "    .dataframe tbody tr th:only-of-type {\n",
       "        vertical-align: middle;\n",
       "    }\n",
       "\n",
       "    .dataframe tbody tr th {\n",
       "        vertical-align: top;\n",
       "    }\n",
       "\n",
       "    .dataframe thead tr th {\n",
       "        text-align: left;\n",
       "    }\n",
       "\n",
       "    .dataframe thead tr:last-of-type th {\n",
       "        text-align: right;\n",
       "    }\n",
       "</style>\n",
       "<table border=\"1\" class=\"dataframe\">\n",
       "  <thead>\n",
       "    <tr>\n",
       "      <th></th>\n",
       "      <th colspan=\"8\" halign=\"left\">sentiment_score</th>\n",
       "    </tr>\n",
       "    <tr>\n",
       "      <th></th>\n",
       "      <th>count</th>\n",
       "      <th>mean</th>\n",
       "      <th>std</th>\n",
       "      <th>min</th>\n",
       "      <th>25%</th>\n",
       "      <th>50%</th>\n",
       "      <th>75%</th>\n",
       "      <th>max</th>\n",
       "    </tr>\n",
       "    <tr>\n",
       "      <th>news_category</th>\n",
       "      <th></th>\n",
       "      <th></th>\n",
       "      <th></th>\n",
       "      <th></th>\n",
       "      <th></th>\n",
       "      <th></th>\n",
       "      <th></th>\n",
       "      <th></th>\n",
       "    </tr>\n",
       "  </thead>\n",
       "  <tbody>\n",
       "    <tr>\n",
       "      <th>sports</th>\n",
       "      <td>25.0</td>\n",
       "      <td>0.084040</td>\n",
       "      <td>0.149114</td>\n",
       "      <td>-0.200</td>\n",
       "      <td>-0.01700</td>\n",
       "      <td>0.075</td>\n",
       "      <td>0.15900</td>\n",
       "      <td>0.381</td>\n",
       "    </tr>\n",
       "    <tr>\n",
       "      <th>technology</th>\n",
       "      <td>24.0</td>\n",
       "      <td>0.010458</td>\n",
       "      <td>0.203315</td>\n",
       "      <td>-0.500</td>\n",
       "      <td>-0.07525</td>\n",
       "      <td>0.000</td>\n",
       "      <td>0.05925</td>\n",
       "      <td>0.500</td>\n",
       "    </tr>\n",
       "    <tr>\n",
       "      <th>world</th>\n",
       "      <td>25.0</td>\n",
       "      <td>0.120760</td>\n",
       "      <td>0.221134</td>\n",
       "      <td>-0.296</td>\n",
       "      <td>0.00000</td>\n",
       "      <td>0.075</td>\n",
       "      <td>0.21100</td>\n",
       "      <td>0.700</td>\n",
       "    </tr>\n",
       "  </tbody>\n",
       "</table>\n",
       "</div>"
      ],
      "text/plain": [
       "              sentiment_score                                             \\\n",
       "                        count      mean       std    min      25%    50%   \n",
       "news_category                                                              \n",
       "sports                   25.0  0.084040  0.149114 -0.200 -0.01700  0.075   \n",
       "technology               24.0  0.010458  0.203315 -0.500 -0.07525  0.000   \n",
       "world                    25.0  0.120760  0.221134 -0.296  0.00000  0.075   \n",
       "\n",
       "                               \n",
       "                   75%    max  \n",
       "news_category                  \n",
       "sports         0.15900  0.381  \n",
       "technology     0.05925  0.500  \n",
       "world          0.21100  0.700  "
      ]
     },
     "execution_count": 57,
     "metadata": {},
     "output_type": "execute_result"
    }
   ],
   "source": [
    "# compute sentiment scores (polarity) and labels\n",
    "sentiment_scores_tb = [round(TextBlob(article).sentiment.polarity, 3) for article in news_df['clean_text']]\n",
    "sentiment_category_tb = ['positive' if score > 0 \n",
    "                             else 'negative' if score < 0 \n",
    "                                 else 'neutral' \n",
    "                                     for score in sentiment_scores_tb]\n",
    "\n",
    "\n",
    "# sentiment statistics per news category\n",
    "df = pd.DataFrame([list(news_df['news_category']), sentiment_scores_tb, sentiment_category_tb]).T\n",
    "df.columns = ['news_category', 'sentiment_score', 'sentiment_category']\n",
    "df['sentiment_score'] = df.sentiment_score.astype('float')\n",
    "df.groupby(by=['news_category']).describe()"
   ]
  },
  {
   "cell_type": "code",
   "execution_count": 58,
   "id": "7055e540-9242-4ed2-99c3-6e3da02ccf47",
   "metadata": {},
   "outputs": [],
   "source": [
    "#! pip install textblob"
   ]
  },
  {
   "cell_type": "markdown",
   "id": "037ac45b-892a-4028-af59-549f76693c21",
   "metadata": {},
   "source": [
    "Looks like the average sentiment is the most positive in world and least positive in technology! However, these metrics might be indicating that the model is predicting more articles as positive. Let’s look at the sentiment frequency distribution per news category."
   ]
  },
  {
   "cell_type": "code",
   "execution_count": 59,
   "id": "69afc0d9-f455-44b7-a93c-37028c97b5d5",
   "metadata": {},
   "outputs": [
    {
     "data": {
      "image/png": "[encoded data removed]",
      "text/plain": [
       "<Figure size 649.736x500 with 1 Axes>"
      ]
     },
     "metadata": {},
     "output_type": "display_data"
    }
   ],
   "source": [
    "fc = sns.catplot(x=\"news_category\", hue=\"sentiment_category\", \n",
    "                    data=df, kind=\"count\", \n",
    "                    palette={\"negative\": \"#FE2020\", \n",
    "                             \"positive\": \"#BADD07\", \n",
    "                             \"neutral\": \"#68BFF5\"})"
   ]
  },
  {
   "cell_type": "markdown",
   "id": "18004d1c-b29d-4c75-9a6c-a17c7930d941",
   "metadata": {},
   "source": [
    "There definitely seems to be more positive articles across the news categories here as compared to our previous model. However, still looks like technology has the most negative articles and world, the most positive articles similar to our previous analysis. Let’s now do a comparative analysis and see if we still get similar articles in the most positive and negative categories for world news."
   ]
  },
  {
   "cell_type": "code",
   "execution_count": 60,
   "id": "2cfed3f4-3c39-4f9b-875d-87d669f29a3e",
   "metadata": {},
   "outputs": [
    {
     "name": "stdout",
     "output_type": "stream",
     "text": [
      "Most Negative World News Article: A Czech woman drowned after being trapped inside Prague's underground drainage system while participating in a global GPS-based treasure hunt, police officials said. The woman was geocaching when heavy downpours led to rapidly rising water. The body of the 27-year-old victim, who has not been identified, was found in the Vltava river.   \n",
      "\n",
      "Most Positive World News Article: Pope Francis on Sunday said he is praying that the upcoming summit between US President Donald Trump and North Korean leader Kim Jong-un succeeds in laying the groundwork for peace. Urging people around the world to pray for the summit, the pontiff said, \"I want to offer the beloved people of Korea an especial thought of friendship.\"\n"
     ]
    }
   ],
   "source": [
    "# Find indices of the most negative and positive world news articles\n",
    "pos_idx = df[(df.news_category == 'world') & (df.sentiment_score == 0.7)].index[0]\n",
    "neg_idx = df[(df.news_category == 'world') & (df.sentiment_score == -0.296)].index[0]\n",
    "\n",
    "# Accessing the 'news_article' column correctly using iloc\n",
    "print('Most Negative World News Article:', news_df.iloc[neg_idx]['news_article'])\n",
    "print()\n",
    "print('Most Positive World News Article:', news_df.iloc[pos_idx]['news_article'])"
   ]
  },
  {
   "cell_type": "markdown",
   "id": "ba0e68ea-32d6-4d86-affc-48763206f4c4",
   "metadata": {},
   "source": [
    "Well, looks like the most negative world news article here is even more depressing than what we saw the last time! The most positive article is still the same as what we had obtained in our last model.\n",
    "\n",
    "Finally, we can even evaluate and compare between these two models as to how many predictions are matching and how many are not (by leveraging a confusion matrix which is often used in classification). We leverage our nifty model_evaluation_utils module for this."
   ]
  },
  {
   "cell_type": "code",
   "execution_count": 61,
   "id": "f6dd40fb-6d17-450a-92ed-1f4c5f2d6f7d",
   "metadata": {},
   "outputs": [
    {
     "data": {
      "image/png": "[encoded data removed]",
      "text/plain": [
       "<Figure size 800x600 with 2 Axes>"
      ]
     },
     "metadata": {},
     "output_type": "display_data"
    }
   ],
   "source": [
    "def display_confusion_matrix_pretty(true_labels, predicted_labels, classes):\n",
    "    cm = confusion_matrix(true_labels, predicted_labels, labels=classes)\n",
    "    plt.figure(figsize=(8,6))\n",
    "    sns.heatmap(cm, annot=True, fmt='d', cmap='Blues', xticklabels=classes, yticklabels=classes)\n",
    "    plt.ylabel('True Labels')\n",
    "    plt.xlabel('Predicted Labels')\n",
    "    plt.title('Confusion Matrix')\n",
    "    plt.show()\n",
    "\n",
    "# Example usage\n",
    "display_confusion_matrix_pretty(true_labels=sentiment_category, \n",
    "                                predicted_labels=sentiment_category_tb, \n",
    "                                classes=['negative', 'neutral', 'positive'])"
   ]
  },
  {
   "cell_type": "markdown",
   "id": "1eff4552-3f00-4665-b601-0dc02abb8bb9",
   "metadata": {},
   "source": [
    "In the preceding table, the ‘Actual’ labels are predictions from the Afinn sentiment analyzer and the ‘Predicted’ labels are predictions from TextBlob. Looks like our previous assumption was correct. TextBlob definitely predicts several neutral and negative articles as positive. Overall most of the sentiment predictions seem to match, which is good!"
   ]
  },
  {
   "cell_type": "markdown",
   "id": "d8975372-7a32-45be-9d86-c91c73164a09",
   "metadata": {},
   "source": [
    "# Conclusion"
   ]
  },
  {
   "cell_type": "markdown",
   "id": "38afbf42-cac6-4ccf-9318-88c0915557fe",
   "metadata": {},
   "source": [
    "This was definitely one of my longer articles! If you are reading this, I really commend your efforts for staying with me till the end of this article. These examples should give you a good idea about how to start working with a corpus of text documents and popular strategies for text retrieval, pre-processing, parsing, understanding structure, entities and sentiment. We will be covering feature engineering and representation techniques with hands-on examples in the next article of this series. Stay tuned!"
   ]
  },
  {
   "cell_type": "code",
   "execution_count": null,
   "id": "ad7a4da1-c593-4f48-9f5d-2754f745ce67",
   "metadata": {},
   "outputs": [],
   "source": []
  }
 ],
 "metadata": {
  "kernelspec": {
   "display_name": "Python 3 (ipykernel)",
   "language": "python",
   "name": "python3"
  },
  "language_info": {
   "codemirror_mode": {
    "name": "ipython",
    "version": 3
   },
   "file_extension": ".py",
   "mimetype": "text/x-python",
   "name": "python",
   "nbconvert_exporter": "python",
   "pygments_lexer": "ipython3",
   "version": "3.12.3"
  }
 },
 "nbformat": 4,
 "nbformat_minor": 5
}
