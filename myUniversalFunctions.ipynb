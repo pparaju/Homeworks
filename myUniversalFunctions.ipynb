{
 "cells": [
  {
   "cell_type": "code",
   "execution_count": 1,
   "id": "b48238ba",
   "metadata": {},
   "outputs": [],
   "source": [
    "def checkIfNotNumeric(L):\n",
    "    for x in L:\n",
    "        if not(isinstance(x,(int,float))):\n",
    "            return False\n",
    "    return True\n",
    "\n",
    "\n",
    "def addAllNumerics(*args):\n",
    "    s = 0\n",
    "    for i in args:\n",
    "        s += i\n",
    "    return s\n",
    "\n",
    "\n",
    "def findMinfromStartIndx(L,startIndx):\n",
    "    m_startIndx = L[startIndx]\n",
    "    idx = startIndx\n",
    "    for i in range(startIndx,len(L)):\n",
    "        if L[i]<m_startIndx:\n",
    "            m_startIndx = L[i]\n",
    "            idx =i\n",
    "        else:\n",
    "            pass\n",
    "    return m_startIndx,idx\n",
    "\n",
    "\n",
    "def swapValues(L,idx1,idx2):\n",
    "    tmp = L[idx1]\n",
    "    L[idx1] = L[idx2]\n",
    "    L[idx2] = tmp\n",
    "    return L\n",
    "\n",
    "def superScript(x): \n",
    "    normal = \"ABCDEFGHIJKLMNOPQRSTUVWXYZabcdefghijklmnopqrstuvwxyz0123456789+-=()\"\n",
    "    superScript = \"ᴬᴮᶜᴰᴱᶠᴳᴴᴵᴶᴷᴸᴹᴺᴼᴾQᴿˢᵀᵁⱽᵂˣʸᶻᵃᵇᶜᵈᵉᶠᵍʰᶦʲᵏˡᵐⁿᵒᵖ۹ʳˢᵗᵘᵛʷˣʸᶻ⁰¹²³⁴⁵⁶⁷⁸⁹⁺⁻⁼⁽⁾\"\n",
    "    res = x.maketrans(''.join(normal), ''.join(superScript)) \n",
    "    return x.translate(res)\n",
    "\n",
    "\n",
    "def ordinal(x):\n",
    "    if x%10 == 1:\n",
    "        return str(x)+ str(superScript('st')) \n",
    "    elif x%10 == 2:\n",
    "        return str(x)+str(superScript('nd'))  \n",
    "    elif x%10 == 3:\n",
    "        return str(x)+str(superScript('rd')) \n",
    "    else:\n",
    "        return str(x)+str(superScript('th'))\n",
    "    \n",
    "    \n",
    "import warnings\n",
    "warnings.simplefilter(action='ignore', category=(FutureWarning,UserWarning))\n",
    "\n",
    "myname = \"Python Course\""
   ]
  }
 ],
 "metadata": {
  "kernelspec": {
   "display_name": "Python 3 (ipykernel)",
   "language": "python",
   "name": "python3"
  },
  "language_info": {
   "codemirror_mode": {
    "name": "ipython",
    "version": 3
   },
   "file_extension": ".py",
   "mimetype": "text/x-python",
   "name": "python",
   "nbconvert_exporter": "python",
   "pygments_lexer": "ipython3",
   "version": "3.11.7"
  }
 },
 "nbformat": 4,
 "nbformat_minor": 5
}
