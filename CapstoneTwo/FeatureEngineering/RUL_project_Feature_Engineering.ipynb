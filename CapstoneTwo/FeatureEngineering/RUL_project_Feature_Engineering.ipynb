{
 "cells": [
  {
   "cell_type": "markdown",
   "id": "8e9ce51b-55fb-4c54-81ef-28a0975c3900",
   "metadata": {},
   "source": [
    "# Capstone Project two: Feature Engineering"
   ]
  },
  {
   "cell_type": "markdown",
   "id": "0e1415c6-ccd3-487d-a723-7e7b7cf883e2",
   "metadata": {},
   "source": [
    "In step 2 of this project , we visaulized the raw and cleaned data and also carried out PCA analysis to discover following."
   ]
  },
  {
   "cell_type": "markdown",
   "id": "141b8fa3-78b0-44d3-93d6-11756c70af21",
   "metadata": {},
   "source": [
    "* Outliers and errors were the reason behind poor correlation between some of the features.\n",
    "* Removing those showed very strong correlation among the features.\n",
    "* The scatterplot of `Time at 4.15V (s)` vs other features clearly show that the information carried out by it is also carried by other features and hence can be droped from the data.\n",
    "* Further, the PCA analysis showed the data is basically a one dimensional. "
   ]
  },
  {
   "cell_type": "code",
   "execution_count": null,
   "id": "54ad01cf-376a-4203-b47a-8661a016d74e",
   "metadata": {},
   "outputs": [],
   "source": []
  }
 ],
 "metadata": {
  "kernelspec": {
   "display_name": "Python 3 (ipykernel)",
   "language": "python",
   "name": "python3"
  },
  "language_info": {
   "codemirror_mode": {
    "name": "ipython",
    "version": 3
   },
   "file_extension": ".py",
   "mimetype": "text/x-python",
   "name": "python",
   "nbconvert_exporter": "python",
   "pygments_lexer": "ipython3",
   "version": "3.11.9"
  }
 },
 "nbformat": 4,
 "nbformat_minor": 5
}
