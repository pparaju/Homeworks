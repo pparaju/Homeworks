{
 "cells": [
  {
   "cell_type": "markdown",
   "id": "8e9ce51b-55fb-4c54-81ef-28a0975c3900",
   "metadata": {},
   "source": [
    "# Capstone Project two: Feature Engineering"
   ]
  },
  {
   "cell_type": "markdown",
   "id": "0e1415c6-ccd3-487d-a723-7e7b7cf883e2",
   "metadata": {},
   "source": [
    "In step 2 of this project , we visaulized the raw and cleaned data and also carried out PCA analysis to discover following."
   ]
  },
  {
   "cell_type": "markdown",
   "id": "141b8fa3-78b0-44d3-93d6-11756c70af21",
   "metadata": {},
   "source": [
    "* Outliers and errors were the reason behind poor correlation between some of the features.\n",
    "* Removing those ouliers and errors showed very strong correlation among the features.\n",
    "* Further, the PCA analysis showed the data is basically a one dimensional."
   ]
  },
  {
   "cell_type": "code",
   "execution_count": 4,
   "id": "723656f6-fc49-470a-a59c-b946af801a60",
   "metadata": {},
   "outputs": [],
   "source": [
    "import pandas as pd\n",
    "import matplotlib.pyplot as plt\n",
    "import seaborn as sns\n",
    "from sklearn.linear_model import Lasso\n",
    "from sklearn.model_selection import train_test_split\n",
    "from sklearn.ensemble import RandomForestClassifier\n",
    "from sklearn.feature_selection import RFE\n",
    "from sklearn.preprocessing import StandardScaler\n",
    "%matplotlib inline"
   ]
  },
  {
   "cell_type": "code",
   "execution_count": 5,
   "id": "54ad01cf-376a-4203-b47a-8661a016d74e",
   "metadata": {},
   "outputs": [],
   "source": [
    "RUL_cleaned = pd.read_csv(\"RUL_cleaned.csv\").drop([\"Cycle_Index\"], axis=1)"
   ]
  },
  {
   "cell_type": "code",
   "execution_count": 6,
   "id": "0e57de72-bba1-4bd0-896e-2ecf40d35782",
   "metadata": {},
   "outputs": [
    {
     "data": {
      "text/html": [
       "<div>\n",
       "<style scoped>\n",
       "    .dataframe tbody tr th:only-of-type {\n",
       "        vertical-align: middle;\n",
       "    }\n",
       "\n",
       "    .dataframe tbody tr th {\n",
       "        vertical-align: top;\n",
       "    }\n",
       "\n",
       "    .dataframe thead th {\n",
       "        text-align: right;\n",
       "    }\n",
       "</style>\n",
       "<table border=\"1\" class=\"dataframe\">\n",
       "  <thead>\n",
       "    <tr style=\"text-align: right;\">\n",
       "      <th></th>\n",
       "      <th>Discharge Time (s)</th>\n",
       "      <th>Decrement 3.6-3.4V (s)</th>\n",
       "      <th>Max. Voltage Dischar. (V)</th>\n",
       "      <th>Min. Voltage Charg. (V)</th>\n",
       "      <th>Time at 4.15V (s)</th>\n",
       "      <th>Time constant current (s)</th>\n",
       "      <th>Charging time (s)</th>\n",
       "      <th>RUL</th>\n",
       "    </tr>\n",
       "  </thead>\n",
       "  <tbody>\n",
       "    <tr>\n",
       "      <th>0</th>\n",
       "      <td>2595.30</td>\n",
       "      <td>1151.488500</td>\n",
       "      <td>3.670</td>\n",
       "      <td>3.211</td>\n",
       "      <td>5460.001000</td>\n",
       "      <td>6755.01</td>\n",
       "      <td>10777.82</td>\n",
       "      <td>1112</td>\n",
       "    </tr>\n",
       "    <tr>\n",
       "      <th>1</th>\n",
       "      <td>3301.18</td>\n",
       "      <td>1194.235077</td>\n",
       "      <td>3.674</td>\n",
       "      <td>3.504</td>\n",
       "      <td>5023.633636</td>\n",
       "      <td>5977.38</td>\n",
       "      <td>5977.38</td>\n",
       "      <td>1106</td>\n",
       "    </tr>\n",
       "    <tr>\n",
       "      <th>2</th>\n",
       "      <td>3228.58</td>\n",
       "      <td>1135.349333</td>\n",
       "      <td>3.689</td>\n",
       "      <td>3.485</td>\n",
       "      <td>5033.075692</td>\n",
       "      <td>5969.89</td>\n",
       "      <td>5969.89</td>\n",
       "      <td>1101</td>\n",
       "    </tr>\n",
       "    <tr>\n",
       "      <th>3</th>\n",
       "      <td>2261.34</td>\n",
       "      <td>883.200000</td>\n",
       "      <td>4.038</td>\n",
       "      <td>3.901</td>\n",
       "      <td>1949.664000</td>\n",
       "      <td>2922.69</td>\n",
       "      <td>6070.11</td>\n",
       "      <td>1096</td>\n",
       "    </tr>\n",
       "    <tr>\n",
       "      <th>4</th>\n",
       "      <td>2259.46</td>\n",
       "      <td>883.199000</td>\n",
       "      <td>4.042</td>\n",
       "      <td>3.373</td>\n",
       "      <td>5181.377000</td>\n",
       "      <td>6161.38</td>\n",
       "      <td>9310.98</td>\n",
       "      <td>1095</td>\n",
       "    </tr>\n",
       "  </tbody>\n",
       "</table>\n",
       "</div>"
      ],
      "text/plain": [
       "   Discharge Time (s)  Decrement 3.6-3.4V (s)  Max. Voltage Dischar. (V)  \\\n",
       "0             2595.30             1151.488500                      3.670   \n",
       "1             3301.18             1194.235077                      3.674   \n",
       "2             3228.58             1135.349333                      3.689   \n",
       "3             2261.34              883.200000                      4.038   \n",
       "4             2259.46              883.199000                      4.042   \n",
       "\n",
       "   Min. Voltage Charg. (V)  Time at 4.15V (s)  Time constant current (s)  \\\n",
       "0                    3.211        5460.001000                    6755.01   \n",
       "1                    3.504        5023.633636                    5977.38   \n",
       "2                    3.485        5033.075692                    5969.89   \n",
       "3                    3.901        1949.664000                    2922.69   \n",
       "4                    3.373        5181.377000                    6161.38   \n",
       "\n",
       "   Charging time (s)   RUL  \n",
       "0           10777.82  1112  \n",
       "1            5977.38  1106  \n",
       "2            5969.89  1101  \n",
       "3            6070.11  1096  \n",
       "4            9310.98  1095  "
      ]
     },
     "execution_count": 6,
     "metadata": {},
     "output_type": "execute_result"
    }
   ],
   "source": [
    "RUL_cleaned.head()"
   ]
  },
  {
   "cell_type": "markdown",
   "id": "54e5c0d5-d29b-4f56-8a19-6f5b8f7811ff",
   "metadata": {},
   "source": [
    "## Data types and Dummy Features:"
   ]
  },
  {
   "cell_type": "code",
   "execution_count": 8,
   "id": "6d03103d-ffcd-4998-8928-a1c9bc192153",
   "metadata": {},
   "outputs": [
    {
     "data": {
      "text/plain": [
       "Discharge Time (s)           float64\n",
       "Decrement 3.6-3.4V (s)       float64\n",
       "Max. Voltage Dischar. (V)    float64\n",
       "Min. Voltage Charg. (V)      float64\n",
       "Time at 4.15V (s)            float64\n",
       "Time constant current (s)    float64\n",
       "Charging time (s)            float64\n",
       "RUL                            int64\n",
       "dtype: object"
      ]
     },
     "execution_count": 8,
     "metadata": {},
     "output_type": "execute_result"
    }
   ],
   "source": [
    "RUL_cleaned.dtypes"
   ]
  },
  {
   "cell_type": "markdown",
   "id": "7c8897f9-3047-4bc3-b1a8-3bcebc9aac85",
   "metadata": {},
   "source": [
    "**Since, all the data in this project are of numerical nature, we do not require create any dummy features.**"
   ]
  },
  {
   "cell_type": "markdown",
   "id": "2b3017dc-18f2-47d9-80a1-87a124839346",
   "metadata": {},
   "source": [
    "## Feature:Target Separation"
   ]
  },
  {
   "cell_type": "code",
   "execution_count": 11,
   "id": "8ecbe0e4-89f0-4098-83fd-e36772a79eca",
   "metadata": {},
   "outputs": [],
   "source": [
    "X = RUL_cleaned.drop([\"RUL\"], axis=1)\n",
    "y = RUL_cleaned[\"RUL\"]"
   ]
  },
  {
   "cell_type": "markdown",
   "id": "124dddab-2984-486a-9099-19573c91d1b9",
   "metadata": {},
   "source": [
    "## Feature Importance:"
   ]
  },
  {
   "cell_type": "markdown",
   "id": "b9435dd8-3a96-47b6-983c-d85def867ce2",
   "metadata": {},
   "source": [
    "As most of the features are highly correlated with each other it would be best to identify which of them are most important in predicting the target variable. `L1 Regularization (Lasso)` is best for both interpretability and handling multicollinearity for non categorical data.\\\n",
    "We will first perform Standardization of features as it is essential to ensure accurate and comparable coefficient values, leading to more reliable feature selection and interpretation."
   ]
  },
  {
   "cell_type": "code",
   "execution_count": 14,
   "id": "9b25b432-edd2-42c3-bacf-840a3720ed39",
   "metadata": {},
   "outputs": [
    {
     "name": "stdout",
     "output_type": "stream",
     "text": [
      "Selected Features and Their Coefficients:\n"
     ]
    },
    {
     "data": {
      "text/html": [
       "<div>\n",
       "<style scoped>\n",
       "    .dataframe tbody tr th:only-of-type {\n",
       "        vertical-align: middle;\n",
       "    }\n",
       "\n",
       "    .dataframe tbody tr th {\n",
       "        vertical-align: top;\n",
       "    }\n",
       "\n",
       "    .dataframe thead th {\n",
       "        text-align: right;\n",
       "    }\n",
       "</style>\n",
       "<table border=\"1\" class=\"dataframe\">\n",
       "  <thead>\n",
       "    <tr style=\"text-align: right;\">\n",
       "      <th></th>\n",
       "      <th>Feature</th>\n",
       "      <th>Coefficient</th>\n",
       "    </tr>\n",
       "  </thead>\n",
       "  <tbody>\n",
       "    <tr>\n",
       "      <th>0</th>\n",
       "      <td>Discharge Time (s)</td>\n",
       "      <td>192.061127</td>\n",
       "    </tr>\n",
       "    <tr>\n",
       "      <th>1</th>\n",
       "      <td>Time at 4.15V (s)</td>\n",
       "      <td>69.757715</td>\n",
       "    </tr>\n",
       "    <tr>\n",
       "      <th>2</th>\n",
       "      <td>Max. Voltage Dischar. (V)</td>\n",
       "      <td>58.430585</td>\n",
       "    </tr>\n",
       "    <tr>\n",
       "      <th>3</th>\n",
       "      <td>Charging time (s)</td>\n",
       "      <td>13.484774</td>\n",
       "    </tr>\n",
       "    <tr>\n",
       "      <th>4</th>\n",
       "      <td>Time constant current (s)</td>\n",
       "      <td>9.179064</td>\n",
       "    </tr>\n",
       "    <tr>\n",
       "      <th>5</th>\n",
       "      <td>Min. Voltage Charg. (V)</td>\n",
       "      <td>7.622740</td>\n",
       "    </tr>\n",
       "    <tr>\n",
       "      <th>6</th>\n",
       "      <td>Decrement 3.6-3.4V (s)</td>\n",
       "      <td>-14.926404</td>\n",
       "    </tr>\n",
       "  </tbody>\n",
       "</table>\n",
       "</div>"
      ],
      "text/plain": [
       "                     Feature  Coefficient\n",
       "0         Discharge Time (s)   192.061127\n",
       "1          Time at 4.15V (s)    69.757715\n",
       "2  Max. Voltage Dischar. (V)    58.430585\n",
       "3          Charging time (s)    13.484774\n",
       "4  Time constant current (s)     9.179064\n",
       "5    Min. Voltage Charg. (V)     7.622740\n",
       "6     Decrement 3.6-3.4V (s)   -14.926404"
      ]
     },
     "execution_count": 14,
     "metadata": {},
     "output_type": "execute_result"
    }
   ],
   "source": [
    "X_standardized = StandardScaler().fit_transform(X)\n",
    "L_reg = Lasso(alpha=0.01, random_state=123) \n",
    "L_reg.fit(X_standardized, y)\n",
    "\n",
    "coefficients = L_reg.coef_\n",
    "feature_names = X.columns\n",
    "\n",
    "lasso_coef_df = pd.DataFrame({\n",
    "    'Feature': feature_names,\n",
    "    'Coefficient': coefficients\n",
    "}).sort_values(by='Coefficient',ascending=False).reset_index(drop=True)\n",
    "\n",
    "print(\"Selected Features and Their Coefficients:\")\n",
    "lasso_coef_df "
   ]
  },
  {
   "cell_type": "code",
   "execution_count": 15,
   "id": "eafa83b8-b86f-4161-9bf3-b8693458ae8f",
   "metadata": {},
   "outputs": [
    {
     "data": {
      "image/png": "[encoded data removed]",
      "text/plain": [
       "<Figure size 1000x600 with 1 Axes>"
      ]
     },
     "metadata": {},
     "output_type": "display_data"
    }
   ],
   "source": [
    "plt.figure(figsize=(10, 6))\n",
    "plt.barh(lasso_coef_df['Feature'], lasso_coef_df['Coefficient'])\n",
    "plt.xlabel('Coefficient')\n",
    "plt.ylabel('Feature')\n",
    "plt.title('Feature Importance from L1 Regularization (Lasso)')\n",
    "plt.show()"
   ]
  },
  {
   "cell_type": "markdown",
   "id": "135e0762-2b28-4a73-98f5-55b477b42bec",
   "metadata": {},
   "source": [
    "Using `L1 Regularization (Lasso)` to perform feature selection on the dataset, we identified the most important features and their coefficients. The output revealed that `Discharge Time (s)`, `Time at 4.15V (s)`, and `Max. Voltage Dischar. (V)` are the most influential positive features, while `Decrement 3.6-3.4V (s)` has a negative impact. The feature importance was visualized with a bar plot, providing a clear representation of each feature's contribution to the model."
   ]
  },
  {
   "cell_type": "markdown",
   "id": "5d07a8b6-5b70-4935-baed-98603df7ecdd",
   "metadata": {},
   "source": [
    "Although, one might jump ahead and delete all the features with small importance but we need to keep in mind that these feature importances are with respect to Lasso Model. It might not be the same case for some other models. For this reason, we will keep these features for now. However, this will give some sort of idea while trying multiple models later in the project and comparing between them.  "
   ]
  },
  {
   "cell_type": "markdown",
   "id": "d53fd643-ed24-4839-9f71-7bcd8071bd4a",
   "metadata": {},
   "source": [
    "## Train Test Split:"
   ]
  },
  {
   "cell_type": "markdown",
   "id": "c805a691-0559-4d07-b94a-630ba2e2959a",
   "metadata": {},
   "source": [
    "Here, we will go back and use the unstandardized data before test train split. Otherwise, there will be a chance of data leakage."
   ]
  },
  {
   "cell_type": "code",
   "execution_count": 20,
   "id": "31d818e1-d3db-4cd9-a212-df19c6f63e53",
   "metadata": {},
   "outputs": [],
   "source": [
    "X_train, X_test, y_train, y_test = train_test_split(X, y, test_size=0.20, random_state=123)"
   ]
  },
  {
   "cell_type": "markdown",
   "id": "6b90dbb4-d3a9-465a-9bb9-864a5f24b864",
   "metadata": {},
   "source": [
    "## Standardization of features"
   ]
  },
  {
   "cell_type": "code",
   "execution_count": 22,
   "id": "c53e12c8-5045-42da-9648-439570e26ac7",
   "metadata": {},
   "outputs": [],
   "source": [
    "scaler = StandardScaler()\n",
    "X_train = scaler.fit_transform(X_train)\n",
    "X_test = scaler.transform(X_test)"
   ]
  },
  {
   "cell_type": "code",
   "execution_count": null,
   "id": "ca18f7b1-f840-4b53-bbdc-31594296c3d5",
   "metadata": {},
   "outputs": [],
   "source": []
  }
 ],
 "metadata": {
  "kernelspec": {
   "display_name": "Python 3 (ipykernel)",
   "language": "python",
   "name": "python3"
  },
  "language_info": {
   "codemirror_mode": {
    "name": "ipython",
    "version": 3
   },
   "file_extension": ".py",
   "mimetype": "text/x-python",
   "name": "python",
   "nbconvert_exporter": "python",
   "pygments_lexer": "ipython3",
   "version": "3.11.9"
  }
 },
 "nbformat": 4,
 "nbformat_minor": 5
}
