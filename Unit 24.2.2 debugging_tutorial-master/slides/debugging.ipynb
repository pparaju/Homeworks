{
 "cells": [
  {
   "cell_type": "markdown",
   "metadata": {
    "collapsed": true,
    "slideshow": {
     "slide_type": "slide"
    }
   },
   "source": [
    "# Debugging Python Programs\n",
    "  \n",
    "**Dr. Kristian Rother**\n",
    "\n",
    "Download: [github.com/krother/talks](http://github.com/krother/debugging_tutorial)\n",
    "\n",
    "\n",
    "www.academis.eu"
   ]
  },
  {
   "cell_type": "markdown",
   "metadata": {
    "slideshow": {
     "slide_type": "slide"
    }
   },
   "source": [
    "# Task: \n",
    "\n",
    "* go to `twenty_questions/`\n",
    "* `python twenty_questions.py`\n",
    "\n",
    "## Fix all bugs"
   ]
  },
  {
   "cell_type": "markdown",
   "metadata": {
    "slideshow": {
     "slide_type": "slide"
    }
   },
   "source": [
    "# Technique #1: Read the Error Message\n",
    "\n",
    "      File \"twenty_questions.py\", line 66\n",
    "        return root.yes\n",
    "         ^\n",
    "    SyntaxError: invalid syntax\n",
    "\n",
    "**Rule of thumb: read Python error messages from bottom to top.**"
   ]
  },
  {
   "cell_type": "markdown",
   "metadata": {
    "slideshow": {
     "slide_type": "subslide"
    }
   },
   "source": [
    "# SyntaxError: Something obvious is wrong\n",
    "\n",
    "![](images/indentation.png)"
   ]
  },
  {
   "cell_type": "markdown",
   "metadata": {
    "slideshow": {
     "slide_type": "subslide"
    }
   },
   "source": [
    "# Exceptions at Runtime \n",
    "\n",
    "![](images/fire.png)"
   ]
  },
  {
   "cell_type": "markdown",
   "metadata": {
    "slideshow": {
     "slide_type": "subslide"
    }
   },
   "source": [
    "# Python is not the easiest language to debug"
   ]
  },
  {
   "cell_type": "code",
   "execution_count": 2,
   "metadata": {},
   "outputs": [
    {
     "ename": "SyntaxError",
     "evalue": "unexpected EOF while parsing (<ipython-input-2-516badf311e1>, line 1)",
     "output_type": "error",
     "traceback": [
      "\u001b[0;36m  File \u001b[0;32m\"<ipython-input-2-516badf311e1>\"\u001b[0;36m, line \u001b[0;32m1\u001b[0m\n\u001b[0;31m    data = [1, 2, 3, 4\u001b[0m\n\u001b[0m                      ^\u001b[0m\n\u001b[0;31mSyntaxError\u001b[0m\u001b[0;31m:\u001b[0m unexpected EOF while parsing\n"
     ]
    }
   ],
   "source": [
    "data = [1, 2, 3, 4"
   ]
  },
  {
   "cell_type": "code",
   "execution_count": 3,
   "metadata": {
    "slideshow": {
     "slide_type": "fragment"
    }
   },
   "outputs": [
    {
     "ename": "SyntaxError",
     "evalue": "invalid syntax (<ipython-input-3-f2ba22b1c99a>, line 1)",
     "output_type": "error",
     "traceback": [
      "\u001b[0;36m  File \u001b[0;32m\"<ipython-input-3-f2ba22b1c99a>\"\u001b[0;36m, line \u001b[0;32m1\u001b[0m\n\u001b[0;31m    data = 1, 2, 3, 4]\u001b[0m\n\u001b[0m                     ^\u001b[0m\n\u001b[0;31mSyntaxError\u001b[0m\u001b[0;31m:\u001b[0m invalid syntax\n"
     ]
    }
   ],
   "source": [
    "data = 1, 2, 3, 4]"
   ]
  },
  {
   "cell_type": "markdown",
   "metadata": {
    "slideshow": {
     "slide_type": "subslide"
    }
   },
   "source": [
    "# Nasty fact: Errors propagate\n",
    "\n",
    "![](images/propagation.png)"
   ]
  },
  {
   "cell_type": "markdown",
   "metadata": {
    "slideshow": {
     "slide_type": "slide"
    }
   },
   "source": [
    "# Technique #2: Explain the problem to someone\n",
    "\n",
    "![Rubber Duck by Florentijn Hofman](images/rubber_duck.jpg)\n",
    "\n",
    "Rubber Duck by Florentijn Hofman in Hong Kong, CC-BY-SA 3.0\n",
    "  \n",
    "*Also see: [https://en.wikipedia.org/wiki/Rubber_duck_debugging](https://en.wikipedia.org/wiki/Rubber_duck_debugging)*"
   ]
  },
  {
   "cell_type": "markdown",
   "metadata": {
    "slideshow": {
     "slide_type": "slide"
    }
   },
   "source": [
    "# Technique #3: Add print Statements\n",
    "  \n",
    "![print statements](images/print.png)\n",
    "\n",
    "`print()` is a bit like shooting holes into a wall to see what is inside"
   ]
  },
  {
   "cell_type": "markdown",
   "metadata": {
    "slideshow": {
     "slide_type": "subslide"
    }
   },
   "source": [
    "# print helps to narrow down the faulty code\n",
    "\n",
    "![bisection](images/bisection.png)"
   ]
  },
  {
   "cell_type": "markdown",
   "metadata": {
    "slideshow": {
     "slide_type": "slide"
    }
   },
   "source": [
    "# Technique #4: Minimize the input\n",
    "\n",
    "**our input file is TOO BIG!**\n",
    "\n",
    "Create a smaller file with just 3 entries, e.g.:\n",
    "\n",
    "    Q: is it a snake?\n",
    "    A: Python\n",
    "    A: Panda\n"
   ]
  },
  {
   "cell_type": "markdown",
   "metadata": {
    "slideshow": {
     "slide_type": "slide"
    }
   },
   "source": [
    "# Technique #5: Interactive Debugger\n",
    "\n",
    "**An interactive debugger allows us to watch our program at work in slow motion**"
   ]
  },
  {
   "cell_type": "code",
   "execution_count": null,
   "metadata": {
    "slideshow": {
     "slide_type": "-"
    }
   },
   "outputs": [
    {
     "name": "stdout",
     "output_type": "stream",
     "text": [
      "--Call--\n",
      "> /home/krother/anaconda3/lib/python3.6/site-packages/IPython/core/displayhook.py(236)__call__()\n",
      "-> def __call__(self, result=None):\n"
     ]
    }
   ],
   "source": [
    "import pdb\n",
    "pdb.set_trace()"
   ]
  },
  {
   "cell_type": "markdown",
   "metadata": {
    "slideshow": {
     "slide_type": "subslide"
    }
   },
   "source": [
    "# Stepwise Execution in ipdb\n",
    "\n",
    "| command | description |\n",
    "|---------|-------------|\n",
    "| `l`, `ll`      | list lines  |\n",
    "| `n`       | execute next line |\n",
    "| `s`       | step into function |\n",
    "| `c`       | continue execution |\n",
    "| `q`       | abort |\n",
    "| `?`       | see other commands |\n"
   ]
  },
  {
   "cell_type": "markdown",
   "metadata": {
    "slideshow": {
     "slide_type": "subslide"
    }
   },
   "source": [
    "# Breakpoints in ipdb\n",
    "\n",
    "| command | description |\n",
    "|---------|-------------|\n",
    "| `b` | list breakpoints |\n",
    "| `b <file:line>` | add breakpoint |\n",
    "| `b <function>` | add breakpoint |\n",
    "| `b <file:line>, <condition>` | add breakpoint with condition |\n",
    "| `cl <number>` | remove breakpoint |\n"
   ]
  },
  {
   "cell_type": "markdown",
   "metadata": {
    "slideshow": {
     "slide_type": "slide"
    }
   },
   "source": [
    "# Technique #6: Introspection functions\n",
    "\n",
    "**more elegant alternatives to `print()`:**\n",
    "\n",
    "| function | purpose |\n",
    "|----------|---------|\n",
    "| `dir(x)`    | examine local namespace |\n",
    "| `locals(x)`    | examine local namespace |\n",
    "| `globals(x)`    | examine global namespace |\n",
    "| `help(x)`   | access help interactively |\n",
    "| `type(x)`   | examine object type     |\n",
    "| `isinstance(x, cl)`    | examine object type    |\n",
    "| `issubclass(cl1, cl2)` | examine class hierarchy |\n"
   ]
  },
  {
   "cell_type": "markdown",
   "metadata": {
    "slideshow": {
     "slide_type": "slide"
    }
   },
   "source": [
    "# Technique #7: Code Review\n",
    "\n",
    "Conduct a code review of the class `QuestionNode`.\n",
    "\n",
    "* Which part of the code is clear to you? Which is not?\n",
    "* Do you find any bugs?\n",
    "* What would you improve in the code?\n",
    "\n",
    "*Trivia: Code reviews are seen as superior to automated testing when engineering **safety-critical software**. See `nuke_door/` for a more advanced example.*"
   ]
  },
  {
   "cell_type": "markdown",
   "metadata": {
    "slideshow": {
     "slide_type": "slide"
    }
   },
   "source": [
    "# Technique #8: Fail early\n",
    "\n",
    "Raise an Exception when adding to a node already full.\n",
    "\n",
    "    raise(Exception(\"Node already full!\"))\n",
    "\n",
    "Alternatively, an assertion also fails early, e.g.:\n",
    "\n",
    "    assert tree.size == number_lines_read\n",
    "\n"
   ]
  },
  {
   "cell_type": "markdown",
   "metadata": {
    "slideshow": {
     "slide_type": "slide"
    }
   },
   "source": [
    "# Technique #9: Log information\n",
    "\n",
    "![log](images/log.png)"
   ]
  },
  {
   "cell_type": "markdown",
   "metadata": {
    "slideshow": {
     "slide_type": "subslide"
    }
   },
   "source": [
    "# Log verbosity levels\n",
    "\n",
    "![](images/verbosity_levels.png)\n"
   ]
  },
  {
   "cell_type": "markdown",
   "metadata": {
    "slideshow": {
     "slide_type": "slide"
    }
   },
   "source": [
    "# Technique #10: Scientific Method\n",
    "\n",
    "![](images/scimethod.png)"
   ]
  },
  {
   "cell_type": "markdown",
   "metadata": {
    "slideshow": {
     "slide_type": "slide"
    }
   },
   "source": [
    "# Summary: What we know about debugging\n",
    "\n",
    "* error messages in Python are not always helpful\n",
    "* syntax errors are when Python does not do anything\n",
    "* some errors cause a program to stop with an Exception\n",
    "* read error messages from bottom to top\n",
    "* semantic errors: the program does not do the right thing\n",
    "* errors are distinct from the underlying defects\n",
    "* defects propagate through the program\n",
    "\n"
   ]
  },
  {
   "cell_type": "markdown",
   "metadata": {
    "slideshow": {
     "slide_type": "subslide"
    }
   },
   "source": [
    "# 10 Debugging Techniques\n",
    "\n",
    "1. **read the error message** first\n",
    "2. use **minimal input** for diagnosing bugs\n",
    "3. **reproduce** the bug\n",
    "4. use the **scientific method** instead of guessing blindly\n",
    "5. add **print statements** to get diagnostic information\n",
    "6. **assertions** check for consistency\n",
    "7. **explaining the problem** to someone often helps\n",
    "8. use an **interactive debugger** \n",
    "9. **code reviews** are a superior method for creating reliable software\n",
    "10. **logging** creates more diagnostic information\n"
   ]
  },
  {
   "cell_type": "markdown",
   "metadata": {
    "slideshow": {
     "slide_type": "slide"
    }
   },
   "source": [
    "# More on Debugging\n",
    "\n",
    "**Pro Python Best Practices (Apress, 2017)**\n",
    "\n",
    "![](images/propythonbp.png)"
   ]
  },
  {
   "cell_type": "markdown",
   "metadata": {
    "slideshow": {
     "slide_type": "slide"
    }
   },
   "source": [
    "# More on Python: www.academis.eu\n",
    "\n",
    "![Thank you](images/thank_you.png)\n",
    "\n",
    "**Contact: krother@academis.eu**"
   ]
  },
  {
   "cell_type": "code",
   "execution_count": null,
   "metadata": {
    "collapsed": true
   },
   "outputs": [],
   "source": []
  }
 ],
 "metadata": {
  "celltoolbar": "Slideshow",
  "kernelspec": {
   "display_name": "Python 3",
   "language": "python",
   "name": "python3"
  },
  "language_info": {
   "codemirror_mode": {
    "name": "ipython",
    "version": 3
   },
   "file_extension": ".py",
   "mimetype": "text/x-python",
   "name": "python",
   "nbconvert_exporter": "python",
   "pygments_lexer": "ipython3",
   "version": "3.6.1"
  }
 },
 "nbformat": 4,
 "nbformat_minor": 2
}
